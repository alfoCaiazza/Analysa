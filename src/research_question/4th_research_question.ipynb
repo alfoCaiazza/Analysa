{
 "cells": [
  {
   "cell_type": "code",
   "execution_count": 62,
   "id": "9a0184b5",
   "metadata": {},
   "outputs": [],
   "source": [
    "import pandas as pd\n",
    "import numpy as np\n",
    "import json\n",
    "import itertools\n",
    "from itertools import combinations\n",
    "from sklearn.metrics.pairwise import cosine_similarity\n",
    "from random import sample\n",
    "from tqdm import tqdm\n",
    "import matplotlib.pyplot as plt\n",
    "import seaborn as sns\n",
    "import random\n",
    "from scipy.stats import entropy, mannwhitneyu"
   ]
  },
  {
   "cell_type": "code",
   "execution_count": 63,
   "id": "6fd44c71",
   "metadata": {},
   "outputs": [],
   "source": [
    "users = pd.read_csv('../../src/data/distribuitions/hub_bridge_df.csv')\n",
    "users = users.drop(columns=[\n",
    "    'external_degree','pct_internal','pct_external',\n",
    "    'z_internal','betweenness','internal_degree'\n",
    "])\n",
    "\n",
    "topics = pd.read_csv('../../src/nlp/topic_modeling/topic_data.csv')\n",
    "echo_cambers = pd.read_csv('../../src/research_question/echo_chambers_results.csv')\n",
    "sentiments = pd.read_csv('../../src/nlp/sentiment/sentiment_scores.csv')\n",
    "community_topic_counts = pd.read_csv('../../src/nlp/topic_modeling/community_topic_counts.csv')\n",
    "\n",
    "echo_cambers = echo_cambers.drop(columns=['community_type'], errors='ignore')\n",
    "\n",
    "community_info = users.merge(topics, left_on='id', right_on='author', how='inner').drop(columns=['id_x'])\n",
    "global_info = community_info.merge(echo_cambers, on='community_id', how='inner', suffixes=('_user', '_echo'))"
   ]
  },
  {
   "cell_type": "code",
   "execution_count": 64,
   "id": "0292c891",
   "metadata": {},
   "outputs": [
    {
     "data": {
      "image/png": "[encoded data removed]",
      "text/plain": [
       "<Figure size 1000x600 with 1 Axes>"
      ]
     },
     "metadata": {},
     "output_type": "display_data"
    }
   ],
   "source": [
    "# Topic diversity in echo chambers - entropy\n",
    "community_topic_counts_with_type = community_topic_counts.merge(\n",
    "    global_info[['community_id', 'echo_class']].drop_duplicates(),\n",
    "    on='community_id',\n",
    "    how='left'\n",
    ")\n",
    "\n",
    "topic_diversity = community_topic_counts_with_type.groupby('community_id').agg({\n",
    "    'count': lambda x: entropy(x/x.sum()),\n",
    "    'echo_class': 'first'\n",
    "}).reset_index().rename(columns={'count': 'topic_entropy'})\n",
    "\n",
    "\n",
    "plt.figure(figsize=(10, 6))\n",
    "sns.boxplot(data=topic_diversity, x='echo_class', hue='echo_class', y='topic_entropy', palette=\"Spectral\")\n",
    "\n",
    "counts = topic_diversity.groupby('echo_class')['community_id'].nunique()\n",
    "for i, ct in enumerate(topic_diversity['echo_class'].unique()):\n",
    "    n = counts.get(ct, 0)\n",
    "plt.title(\"Topic entropy distribution for echo class\")\n",
    "plt.xlabel(\"Echo Class\")\n",
    "plt.ylabel(\"Topic entropy\")\n",
    "plt.tight_layout()\n",
    "plt.show()"
   ]
  },
  {
   "cell_type": "markdown",
   "id": "6fb70896",
   "metadata": {},
   "source": [
    "### Semantic Analysis"
   ]
  },
  {
   "cell_type": "code",
   "execution_count": 65,
   "id": "3c6ee228",
   "metadata": {},
   "outputs": [
    {
     "name": "stderr",
     "output_type": "stream",
     "text": [
      "/tmp/ipykernel_1638/309424242.py:3: UserWarning: Converting to PeriodArray/Index representation will drop timezone information.\n",
      "  global_info['month'] = global_info['date'].dt.to_period('M').dt.to_timestamp()\n"
     ]
    }
   ],
   "source": [
    "# Retrieving post by month\n",
    "global_info['date'] = pd.to_datetime(global_info['date'], utc=True)\n",
    "global_info['month'] = global_info['date'].dt.to_period('M').dt.to_timestamp()"
   ]
  },
  {
   "cell_type": "code",
   "execution_count": 66,
   "id": "1d3aa355",
   "metadata": {},
   "outputs": [],
   "source": [
    "global_info = global_info.merge(sentiments, left_on='id_y', right_on='id', how='left' )"
   ]
  },
  {
   "cell_type": "code",
   "execution_count": 67,
   "id": "ddcef644",
   "metadata": {},
   "outputs": [
    {
     "name": "stdout",
     "output_type": "stream",
     "text": [
      "<class 'pandas.core.frame.DataFrame'>\n",
      "RangeIndex: 230647 entries, 0 to 230646\n",
      "Data columns (total 31 columns):\n",
      " #   Column               Non-Null Count   Dtype              \n",
      "---  ------               --------------   -----              \n",
      " 0   degree               230647 non-null  int64              \n",
      " 1   community_id         230647 non-null  int64              \n",
      " 2   community_type       230647 non-null  object             \n",
      " 3   is_hub               230647 non-null  bool               \n",
      " 4   is_bridge            230647 non-null  bool               \n",
      " 5   author_x             230647 non-null  object             \n",
      " 6   id_y                 230647 non-null  object             \n",
      " 7   type                 230647 non-null  object             \n",
      " 8   date                 230647 non-null  datetime64[ns, UTC]\n",
      " 9   lemmatized_text      230427 non-null  object             \n",
      " 10  topic                230647 non-null  object             \n",
      " 11  topic_id             230647 non-null  int64              \n",
      " 12  num_users            230647 non-null  int64              \n",
      " 13  num_hubs             230647 non-null  int64              \n",
      " 14  num_bridges          230647 non-null  int64              \n",
      " 15  intra_mean           230647 non-null  float64            \n",
      " 16  inter_mean           230647 non-null  float64            \n",
      " 17  intra_std            230647 non-null  float64            \n",
      " 18  inter_std            230647 non-null  float64            \n",
      " 19  echo_score           230647 non-null  float64            \n",
      " 20  echo_class           230647 non-null  object             \n",
      " 21  month                230647 non-null  datetime64[ns]     \n",
      " 22  author_y             230647 non-null  object             \n",
      " 23  id                   230647 non-null  object             \n",
      " 24  model                230647 non-null  object             \n",
      " 25  neg_percentage       230647 non-null  float64            \n",
      " 26  neu_percentage       230647 non-null  float64            \n",
      " 27  pos_percentage       230647 non-null  float64            \n",
      " 28  predicted_sentiment  230647 non-null  object             \n",
      " 29  user_embedding       0 non-null       object             \n",
      " 30  community_embedding  230647 non-null  object             \n",
      "dtypes: bool(2), datetime64[ns, UTC](1), datetime64[ns](1), float64(8), int64(6), object(13)\n",
      "memory usage: 51.5+ MB\n"
     ]
    }
   ],
   "source": [
    "community_embeddings = np.load('../../src/nlp/community_embeddings.npy', allow_pickle=True)\n",
    "user_embeddings = np.load('../../src/nlp/user_embeddings.npy', allow_pickle=True)\n",
    "\n",
    "user_emb_dict = {uid: emb for uid, emb in user_embeddings}\n",
    "community_emb_dict = {cid: emb for cid, emb in community_embeddings}\n",
    "\n",
    "global_info['user_embedding'] = global_info['id'].map(user_emb_dict)\n",
    "global_info['community_embedding'] = global_info['community_id'].map(community_emb_dict)\n",
    "global_info.info()"
   ]
  },
  {
   "cell_type": "markdown",
   "id": "caeeb25e",
   "metadata": {},
   "source": [
    "##### Semantic separation between echo and non-echo communities"
   ]
  },
  {
   "cell_type": "code",
   "execution_count": 68,
   "id": "05173158",
   "metadata": {},
   "outputs": [],
   "source": [
    "sim_matrix = cosine_similarity(list(community_emb_dict.values()))\n",
    "\n",
    "comm_distances = {}\n",
    "for i, comm_id in enumerate(community_emb_dict.keys()):\n",
    "    others = [j for j in range(len(community_emb_dict)) if j != i]\n",
    "    comm_distances[comm_id] = 1 - np.mean(sim_matrix[i, others]) \n",
    "comm_distances = pd.Series(comm_distances, name=\"semantic_distance\")"
   ]
  },
  {
   "cell_type": "code",
   "execution_count": 69,
   "id": "8005cc46",
   "metadata": {},
   "outputs": [
    {
     "data": {
      "text/html": [
       "<div>\n",
       "<style scoped>\n",
       "    .dataframe tbody tr th:only-of-type {\n",
       "        vertical-align: middle;\n",
       "    }\n",
       "\n",
       "    .dataframe tbody tr th {\n",
       "        vertical-align: top;\n",
       "    }\n",
       "\n",
       "    .dataframe thead th {\n",
       "        text-align: right;\n",
       "    }\n",
       "</style>\n",
       "<table border=\"1\" class=\"dataframe\">\n",
       "  <thead>\n",
       "    <tr style=\"text-align: right;\">\n",
       "      <th></th>\n",
       "      <th>count</th>\n",
       "      <th>mean</th>\n",
       "      <th>std</th>\n",
       "      <th>min</th>\n",
       "      <th>25%</th>\n",
       "      <th>50%</th>\n",
       "      <th>75%</th>\n",
       "      <th>max</th>\n",
       "    </tr>\n",
       "    <tr>\n",
       "      <th>echo_class</th>\n",
       "      <th></th>\n",
       "      <th></th>\n",
       "      <th></th>\n",
       "      <th></th>\n",
       "      <th></th>\n",
       "      <th></th>\n",
       "      <th></th>\n",
       "      <th></th>\n",
       "    </tr>\n",
       "  </thead>\n",
       "  <tbody>\n",
       "    <tr>\n",
       "      <th>Moderate Echo Chamber</th>\n",
       "      <td>5.0</td>\n",
       "      <td>0.343955</td>\n",
       "      <td>0.037081</td>\n",
       "      <td>0.322028</td>\n",
       "      <td>0.325219</td>\n",
       "      <td>0.327577</td>\n",
       "      <td>0.335237</td>\n",
       "      <td>0.409711</td>\n",
       "    </tr>\n",
       "    <tr>\n",
       "      <th>Weak/No Echo Chamber</th>\n",
       "      <td>30.0</td>\n",
       "      <td>0.329182</td>\n",
       "      <td>0.062519</td>\n",
       "      <td>0.229978</td>\n",
       "      <td>0.299528</td>\n",
       "      <td>0.317067</td>\n",
       "      <td>0.365702</td>\n",
       "      <td>0.477863</td>\n",
       "    </tr>\n",
       "  </tbody>\n",
       "</table>\n",
       "</div>"
      ],
      "text/plain": [
       "                       count      mean       std       min       25%  \\\n",
       "echo_class                                                             \n",
       "Moderate Echo Chamber    5.0  0.343955  0.037081  0.322028  0.325219   \n",
       "Weak/No Echo Chamber    30.0  0.329182  0.062519  0.229978  0.299528   \n",
       "\n",
       "                            50%       75%       max  \n",
       "echo_class                                           \n",
       "Moderate Echo Chamber  0.327577  0.335237  0.409711  \n",
       "Weak/No Echo Chamber   0.317067  0.365702  0.477863  "
      ]
     },
     "execution_count": 69,
     "metadata": {},
     "output_type": "execute_result"
    }
   ],
   "source": [
    "comm_info = global_info.groupby(\"community_id\")[\"echo_class\"].first()\n",
    "results = pd.DataFrame({\"echo_class\": comm_info, \"semantic_distance\": comm_distances})\n",
    "results.groupby(\"echo_class\")[\"semantic_distance\"].describe()\n"
   ]
  },
  {
   "cell_type": "code",
   "execution_count": 70,
   "id": "2cb1e123",
   "metadata": {},
   "outputs": [
    {
     "data": {
      "text/html": [
       "<div>\n",
       "<style scoped>\n",
       "    .dataframe tbody tr th:only-of-type {\n",
       "        vertical-align: middle;\n",
       "    }\n",
       "\n",
       "    .dataframe tbody tr th {\n",
       "        vertical-align: top;\n",
       "    }\n",
       "\n",
       "    .dataframe thead th {\n",
       "        text-align: right;\n",
       "    }\n",
       "</style>\n",
       "<table border=\"1\" class=\"dataframe\">\n",
       "  <thead>\n",
       "    <tr style=\"text-align: right;\">\n",
       "      <th></th>\n",
       "      <th>polarization</th>\n",
       "      <th>neg_percentage</th>\n",
       "      <th>pos_percentage</th>\n",
       "    </tr>\n",
       "    <tr>\n",
       "      <th>echo_class</th>\n",
       "      <th></th>\n",
       "      <th></th>\n",
       "      <th></th>\n",
       "    </tr>\n",
       "  </thead>\n",
       "  <tbody>\n",
       "    <tr>\n",
       "      <th>Moderate Echo Chamber</th>\n",
       "      <td>0.363236</td>\n",
       "      <td>0.428013</td>\n",
       "      <td>0.064776</td>\n",
       "    </tr>\n",
       "    <tr>\n",
       "      <th>Weak/No Echo Chamber</th>\n",
       "      <td>0.286793</td>\n",
       "      <td>0.397049</td>\n",
       "      <td>0.110256</td>\n",
       "    </tr>\n",
       "  </tbody>\n",
       "</table>\n",
       "</div>"
      ],
      "text/plain": [
       "                       polarization  neg_percentage  pos_percentage\n",
       "echo_class                                                         \n",
       "Moderate Echo Chamber      0.363236        0.428013        0.064776\n",
       "Weak/No Echo Chamber       0.286793        0.397049        0.110256"
      ]
     },
     "execution_count": 70,
     "metadata": {},
     "output_type": "execute_result"
    }
   ],
   "source": [
    "sentiment_stats = global_info.groupby(\"community_id\")[[\"neg_percentage\",\"neu_percentage\",\"pos_percentage\"]].mean()\n",
    "sentiment_var = global_info.groupby(\"community_id\")[[\"neg_percentage\",\"pos_percentage\"]].std()\n",
    "\n",
    "sentiment_summary = sentiment_stats.join(sentiment_var, rsuffix=\"_std\")\n",
    "sentiment_summary[\"echo_class\"] = global_info.groupby(\"community_id\")[\"echo_class\"].first()\n",
    "\n",
    "sentiment_summary[\"polarization\"] = (sentiment_summary[\"pos_percentage\"] - sentiment_summary[\"neg_percentage\"]).abs()\n",
    "\n",
    "sentiment_summary.groupby(\"echo_class\")[[\"polarization\",\"neg_percentage\",\"pos_percentage\"]].mean()\n"
   ]
  },
  {
   "cell_type": "code",
   "execution_count": 71,
   "id": "54901ace",
   "metadata": {},
   "outputs": [],
   "source": [
    "# Topic frequency per community\n",
    "topic_counts = global_info.groupby([\"community_id\", \"topic_id\"]).size().reset_index(name=\"count\")\n",
    "topic_dist = topic_counts.groupby(\"community_id\")[\"count\"].apply(lambda x: x / x.sum())\n",
    "\n",
    "# Computing entropy\n",
    "topic_entropy = topic_dist.groupby(\"community_id\").apply(lambda p: entropy(p, base=2))\n",
    "topic_entropy = topic_entropy.rename(\"topic_entropy\")"
   ]
  },
  {
   "cell_type": "code",
   "execution_count": 72,
   "id": "b7cb76eb",
   "metadata": {},
   "outputs": [],
   "source": [
    "# Cosine similarity between communities\n",
    "sim_matrix = cosine_similarity(list(community_emb_dict.values()))\n",
    "\n",
    "# Distanza media di ogni community dalle altre\n",
    "comm_distances = {}\n",
    "for i, comm_id in enumerate(community_emb_dict.keys()):\n",
    "    others = [j for j in range(len(community_emb_dict)) if j != i]\n",
    "    comm_distances[comm_id] = 1 - np.mean(sim_matrix[i, others])\n",
    "comm_distances = pd.Series(comm_distances, name=\"semantic_distance\")"
   ]
  },
  {
   "cell_type": "markdown",
   "id": "c957939f",
   "metadata": {},
   "source": [
    "#### Sentiment Analysis"
   ]
  },
  {
   "cell_type": "code",
   "execution_count": 73,
   "id": "c0ed3a9f",
   "metadata": {},
   "outputs": [
    {
     "data": {
      "text/html": [
       "<div>\n",
       "<style scoped>\n",
       "    .dataframe tbody tr th:only-of-type {\n",
       "        vertical-align: middle;\n",
       "    }\n",
       "\n",
       "    .dataframe tbody tr th {\n",
       "        vertical-align: top;\n",
       "    }\n",
       "\n",
       "    .dataframe thead th {\n",
       "        text-align: right;\n",
       "    }\n",
       "</style>\n",
       "<table border=\"1\" class=\"dataframe\">\n",
       "  <thead>\n",
       "    <tr style=\"text-align: right;\">\n",
       "      <th></th>\n",
       "      <th>topic_entropy</th>\n",
       "      <th>semantic_distance</th>\n",
       "      <th>neg_percentage</th>\n",
       "      <th>neu_percentage</th>\n",
       "      <th>pos_percentage</th>\n",
       "      <th>neg_percentage_std</th>\n",
       "      <th>pos_percentage_std</th>\n",
       "      <th>polarization</th>\n",
       "      <th>echo_class</th>\n",
       "    </tr>\n",
       "  </thead>\n",
       "  <tbody>\n",
       "    <tr>\n",
       "      <th>0</th>\n",
       "      <td>3.042389</td>\n",
       "      <td>0.334438</td>\n",
       "      <td>0.423190</td>\n",
       "      <td>0.506403</td>\n",
       "      <td>0.070407</td>\n",
       "      <td>0.370221</td>\n",
       "      <td>0.170889</td>\n",
       "      <td>0.352783</td>\n",
       "      <td>Weak/No Echo Chamber</td>\n",
       "    </tr>\n",
       "    <tr>\n",
       "      <th>1</th>\n",
       "      <td>3.605773</td>\n",
       "      <td>0.230380</td>\n",
       "      <td>0.343130</td>\n",
       "      <td>0.508105</td>\n",
       "      <td>0.148765</td>\n",
       "      <td>0.381520</td>\n",
       "      <td>0.271123</td>\n",
       "      <td>0.194365</td>\n",
       "      <td>Weak/No Echo Chamber</td>\n",
       "    </tr>\n",
       "    <tr>\n",
       "      <th>2</th>\n",
       "      <td>2.913055</td>\n",
       "      <td>0.325219</td>\n",
       "      <td>0.416333</td>\n",
       "      <td>0.492952</td>\n",
       "      <td>0.090715</td>\n",
       "      <td>0.386355</td>\n",
       "      <td>0.210411</td>\n",
       "      <td>0.325618</td>\n",
       "      <td>Moderate Echo Chamber</td>\n",
       "    </tr>\n",
       "    <tr>\n",
       "      <th>3</th>\n",
       "      <td>2.151722</td>\n",
       "      <td>0.335237</td>\n",
       "      <td>0.459748</td>\n",
       "      <td>0.477610</td>\n",
       "      <td>0.062642</td>\n",
       "      <td>0.372418</td>\n",
       "      <td>0.157250</td>\n",
       "      <td>0.397107</td>\n",
       "      <td>Moderate Echo Chamber</td>\n",
       "    </tr>\n",
       "    <tr>\n",
       "      <th>4</th>\n",
       "      <td>3.057185</td>\n",
       "      <td>0.365876</td>\n",
       "      <td>0.313852</td>\n",
       "      <td>0.464210</td>\n",
       "      <td>0.221938</td>\n",
       "      <td>0.372544</td>\n",
       "      <td>0.335944</td>\n",
       "      <td>0.091914</td>\n",
       "      <td>Weak/No Echo Chamber</td>\n",
       "    </tr>\n",
       "  </tbody>\n",
       "</table>\n",
       "</div>"
      ],
      "text/plain": [
       "   topic_entropy  semantic_distance  neg_percentage  neu_percentage  \\\n",
       "0       3.042389           0.334438        0.423190        0.506403   \n",
       "1       3.605773           0.230380        0.343130        0.508105   \n",
       "2       2.913055           0.325219        0.416333        0.492952   \n",
       "3       2.151722           0.335237        0.459748        0.477610   \n",
       "4       3.057185           0.365876        0.313852        0.464210   \n",
       "\n",
       "   pos_percentage  neg_percentage_std  pos_percentage_std  polarization  \\\n",
       "0        0.070407            0.370221            0.170889      0.352783   \n",
       "1        0.148765            0.381520            0.271123      0.194365   \n",
       "2        0.090715            0.386355            0.210411      0.325618   \n",
       "3        0.062642            0.372418            0.157250      0.397107   \n",
       "4        0.221938            0.372544            0.335944      0.091914   \n",
       "\n",
       "              echo_class  \n",
       "0   Weak/No Echo Chamber  \n",
       "1   Weak/No Echo Chamber  \n",
       "2  Moderate Echo Chamber  \n",
       "3  Moderate Echo Chamber  \n",
       "4   Weak/No Echo Chamber  "
      ]
     },
     "execution_count": 73,
     "metadata": {},
     "output_type": "execute_result"
    }
   ],
   "source": [
    "# Mean and variance for sentiments percentage\n",
    "sentiment_stats = global_info.groupby(\"community_id\")[[\"neg_percentage\",\"neu_percentage\",\"pos_percentage\"]].mean()\n",
    "sentiment_var   = global_info.groupby(\"community_id\")[[\"neg_percentage\",\"pos_percentage\"]].std()\n",
    "\n",
    "sentiment_summary = sentiment_stats.join(sentiment_var, rsuffix=\"_std\")\n",
    "\n",
    "# Sentiment polarization = abs diff between pos and neg\n",
    "sentiment_summary[\"polarization\"] = (sentiment_summary[\"pos_percentage\"] - sentiment_summary[\"neg_percentage\"]).abs()\n",
    "comm_info = global_info.groupby(\"community_id\")[\"echo_class\"].first()\n",
    "\n",
    "results = pd.concat([topic_entropy, comm_distances, sentiment_summary], axis=1)\n",
    "results[\"echo_class\"] = comm_info\n",
    "\n",
    "corr_matrix = results[[\"topic_entropy\",\"polarization\",\"neg_percentage\",\"pos_percentage\"]].corr()\n",
    "\n",
    "results.head()"
   ]
  },
  {
   "cell_type": "code",
   "execution_count": 74,
   "id": "1dadfd81",
   "metadata": {},
   "outputs": [
    {
     "name": "stdout",
     "output_type": "stream",
     "text": [
      "Key correlations:\n",
      "                topic_entropy  polarization  neg_percentage  pos_percentage\n",
      "topic_entropy        1.000000     -0.113152        0.016366        0.296103\n",
      "polarization        -0.113152      1.000000        0.934257       -0.799487\n",
      "neg_percentage       0.016366      0.934257        1.000000       -0.532721\n",
      "pos_percentage       0.296103     -0.799487       -0.532721        1.000000\n"
     ]
    }
   ],
   "source": [
    "print(\"Key correlations:\")\n",
    "print(corr_matrix)"
   ]
  },
  {
   "cell_type": "code",
   "execution_count": 75,
   "id": "765c2c24",
   "metadata": {},
   "outputs": [
    {
     "name": "stdout",
     "output_type": "stream",
     "text": [
      "                       topic_entropy  semantic_distance  polarization\n",
      "echo_class                                                           \n",
      "Moderate Echo Chamber       2.480614           0.343955      0.363236\n",
      "Weak/No Echo Chamber        2.873021           0.329182      0.286793\n"
     ]
    }
   ],
   "source": [
    "# Comparative analysis: echo vs non-echo\n",
    "group_comparison = results.groupby(\"echo_class\")[[\"topic_entropy\",\"semantic_distance\",\"polarization\"]].mean()\n",
    "print(group_comparison)"
   ]
  }
 ],
 "metadata": {
  "kernelspec": {
   "display_name": ".analysa (3.10.12)",
   "language": "python",
   "name": "python3"
  },
  "language_info": {
   "codemirror_mode": {
    "name": "ipython",
    "version": 3
   },
   "file_extension": ".py",
   "mimetype": "text/x-python",
   "name": "python",
   "nbconvert_exporter": "python",
   "pygments_lexer": "ipython3",
   "version": "3.10.12"
  }
 },
 "nbformat": 4,
 "nbformat_minor": 5
}
