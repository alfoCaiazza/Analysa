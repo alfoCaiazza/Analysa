{
 "cells": [
  {
   "cell_type": "code",
   "execution_count": 12,
   "id": "33a1d241",
   "metadata": {},
   "outputs": [],
   "source": [
    "import pandas as pd\n",
    "import numpy as np\n",
    "from sklearn.metrics.pairwise import cosine_similarity\n",
    "from scipy.stats import shapiro, levene, ttest_ind, mannwhitneyu\n",
    "import matplotlib.pyplot as plt\n",
    "import pandas as pd"
   ]
  },
  {
   "cell_type": "code",
   "execution_count": 13,
   "id": "e3af4bdd",
   "metadata": {},
   "outputs": [],
   "source": [
    "community_embeddings = np.load('../../src/nlp/community_embeddings.npy', allow_pickle=True)\n",
    "user_embeddings = np.load('../../src/nlp/user_embeddings.npy', allow_pickle=True)\n",
    "users_role = pd.read_csv('../../src/data/distribuitions/hub_bridge_df.csv')"
   ]
  },
  {
   "cell_type": "code",
   "execution_count": 14,
   "id": "e44a3fd1",
   "metadata": {},
   "outputs": [
    {
     "data": {
      "text/html": [
       "<div>\n",
       "<style scoped>\n",
       "    .dataframe tbody tr th:only-of-type {\n",
       "        vertical-align: middle;\n",
       "    }\n",
       "\n",
       "    .dataframe tbody tr th {\n",
       "        vertical-align: top;\n",
       "    }\n",
       "\n",
       "    .dataframe thead th {\n",
       "        text-align: right;\n",
       "    }\n",
       "</style>\n",
       "<table border=\"1\" class=\"dataframe\">\n",
       "  <thead>\n",
       "    <tr style=\"text-align: right;\">\n",
       "      <th></th>\n",
       "      <th>id</th>\n",
       "      <th>degree</th>\n",
       "      <th>internal_degree</th>\n",
       "      <th>community_id</th>\n",
       "      <th>community_type</th>\n",
       "      <th>external_degree</th>\n",
       "      <th>pct_internal</th>\n",
       "      <th>pct_external</th>\n",
       "      <th>is_hub</th>\n",
       "      <th>is_bridge</th>\n",
       "      <th>user_embedding</th>\n",
       "      <th>community_embedding</th>\n",
       "    </tr>\n",
       "  </thead>\n",
       "  <tbody>\n",
       "    <tr>\n",
       "      <th>8</th>\n",
       "      <td>Crew_1996</td>\n",
       "      <td>9</td>\n",
       "      <td>7</td>\n",
       "      <td>0</td>\n",
       "      <td>Very Strong community</td>\n",
       "      <td>2</td>\n",
       "      <td>0.777778</td>\n",
       "      <td>0.222222</td>\n",
       "      <td>False</td>\n",
       "      <td>True</td>\n",
       "      <td>[-0.0020248862996436, -0.04165101331363059, -0...</td>\n",
       "      <td>[0.00878261319496715, -0.0016162803461459067, ...</td>\n",
       "    </tr>\n",
       "    <tr>\n",
       "      <th>9</th>\n",
       "      <td>DeltaBot</td>\n",
       "      <td>458</td>\n",
       "      <td>456</td>\n",
       "      <td>0</td>\n",
       "      <td>Very Strong community</td>\n",
       "      <td>2</td>\n",
       "      <td>0.995633</td>\n",
       "      <td>0.004367</td>\n",
       "      <td>True</td>\n",
       "      <td>False</td>\n",
       "      <td>[-0.06983418083076673, -0.006019841997424151, ...</td>\n",
       "      <td>[0.00878261319496715, -0.0016162803461459067, ...</td>\n",
       "    </tr>\n",
       "    <tr>\n",
       "      <th>10</th>\n",
       "      <td>Destinyciello</td>\n",
       "      <td>198</td>\n",
       "      <td>191</td>\n",
       "      <td>0</td>\n",
       "      <td>Very Strong community</td>\n",
       "      <td>7</td>\n",
       "      <td>0.964646</td>\n",
       "      <td>0.035354</td>\n",
       "      <td>True</td>\n",
       "      <td>False</td>\n",
       "      <td>[0.012977522255776093, -0.005824940119110212, ...</td>\n",
       "      <td>[0.00878261319496715, -0.0016162803461459067, ...</td>\n",
       "    </tr>\n",
       "    <tr>\n",
       "      <th>14</th>\n",
       "      <td>LucidMetal</td>\n",
       "      <td>71</td>\n",
       "      <td>69</td>\n",
       "      <td>0</td>\n",
       "      <td>Very Strong community</td>\n",
       "      <td>2</td>\n",
       "      <td>0.971831</td>\n",
       "      <td>0.028169</td>\n",
       "      <td>True</td>\n",
       "      <td>False</td>\n",
       "      <td>[0.036776777402636934, -0.0008747445986793191,...</td>\n",
       "      <td>[0.00878261319496715, -0.0016162803461459067, ...</td>\n",
       "    </tr>\n",
       "    <tr>\n",
       "      <th>17</th>\n",
       "      <td>Rough-Tension</td>\n",
       "      <td>18</td>\n",
       "      <td>12</td>\n",
       "      <td>0</td>\n",
       "      <td>Very Strong community</td>\n",
       "      <td>6</td>\n",
       "      <td>0.666667</td>\n",
       "      <td>0.333333</td>\n",
       "      <td>False</td>\n",
       "      <td>True</td>\n",
       "      <td>[0.015944050412294533, -0.01255399286146912, 0...</td>\n",
       "      <td>[0.00878261319496715, -0.0016162803461459067, ...</td>\n",
       "    </tr>\n",
       "  </tbody>\n",
       "</table>\n",
       "</div>"
      ],
      "text/plain": [
       "               id  degree  internal_degree  community_id  \\\n",
       "8       Crew_1996       9                7             0   \n",
       "9        DeltaBot     458              456             0   \n",
       "10  Destinyciello     198              191             0   \n",
       "14     LucidMetal      71               69             0   \n",
       "17  Rough-Tension      18               12             0   \n",
       "\n",
       "           community_type  external_degree  pct_internal  pct_external  \\\n",
       "8   Very Strong community                2      0.777778      0.222222   \n",
       "9   Very Strong community                2      0.995633      0.004367   \n",
       "10  Very Strong community                7      0.964646      0.035354   \n",
       "14  Very Strong community                2      0.971831      0.028169   \n",
       "17  Very Strong community                6      0.666667      0.333333   \n",
       "\n",
       "    is_hub  is_bridge                                     user_embedding  \\\n",
       "8    False       True  [-0.0020248862996436, -0.04165101331363059, -0...   \n",
       "9     True      False  [-0.06983418083076673, -0.006019841997424151, ...   \n",
       "10    True      False  [0.012977522255776093, -0.005824940119110212, ...   \n",
       "14    True      False  [0.036776777402636934, -0.0008747445986793191,...   \n",
       "17   False       True  [0.015944050412294533, -0.01255399286146912, 0...   \n",
       "\n",
       "                                  community_embedding  \n",
       "8   [0.00878261319496715, -0.0016162803461459067, ...  \n",
       "9   [0.00878261319496715, -0.0016162803461459067, ...  \n",
       "10  [0.00878261319496715, -0.0016162803461459067, ...  \n",
       "14  [0.00878261319496715, -0.0016162803461459067, ...  \n",
       "17  [0.00878261319496715, -0.0016162803461459067, ...  "
      ]
     },
     "execution_count": 14,
     "metadata": {},
     "output_type": "execute_result"
    }
   ],
   "source": [
    "# Converting npy files into python dicts\n",
    "users_role = users_role.loc[users_role['is_hub'] | users_role['is_bridge']]\n",
    "user_emb_dict = {id_: emb for id_, emb in user_embeddings}\n",
    "community_emb_dict = {id_: emb for id_, emb in community_embeddings}\n",
    "\n",
    "# Adding embeddings to users dataframe\n",
    "users_role['user_embedding'] = users_role['id'].map(user_emb_dict)\n",
    "users_role['community_embedding'] = users_role['community_id'].map(community_emb_dict)\n",
    "\n",
    "users_role.head()"
   ]
  },
  {
   "cell_type": "code",
   "execution_count": 15,
   "id": "b1746ba2",
   "metadata": {},
   "outputs": [
    {
     "data": {
      "text/html": [
       "<div>\n",
       "<style scoped>\n",
       "    .dataframe tbody tr th:only-of-type {\n",
       "        vertical-align: middle;\n",
       "    }\n",
       "\n",
       "    .dataframe tbody tr th {\n",
       "        vertical-align: top;\n",
       "    }\n",
       "\n",
       "    .dataframe thead th {\n",
       "        text-align: right;\n",
       "    }\n",
       "</style>\n",
       "<table border=\"1\" class=\"dataframe\">\n",
       "  <thead>\n",
       "    <tr style=\"text-align: right;\">\n",
       "      <th></th>\n",
       "      <th>id</th>\n",
       "      <th>degree</th>\n",
       "      <th>internal_degree</th>\n",
       "      <th>community_id</th>\n",
       "      <th>community_type</th>\n",
       "      <th>external_degree</th>\n",
       "      <th>pct_internal</th>\n",
       "      <th>pct_external</th>\n",
       "      <th>is_hub</th>\n",
       "      <th>is_bridge</th>\n",
       "      <th>user_embedding</th>\n",
       "      <th>community_embedding</th>\n",
       "      <th>similarity</th>\n",
       "    </tr>\n",
       "  </thead>\n",
       "  <tbody>\n",
       "    <tr>\n",
       "      <th>9</th>\n",
       "      <td>DeltaBot</td>\n",
       "      <td>458</td>\n",
       "      <td>456</td>\n",
       "      <td>0</td>\n",
       "      <td>Very Strong community</td>\n",
       "      <td>2</td>\n",
       "      <td>0.995633</td>\n",
       "      <td>0.004367</td>\n",
       "      <td>True</td>\n",
       "      <td>False</td>\n",
       "      <td>[-0.06983418083076673, -0.006019841997424151, ...</td>\n",
       "      <td>[0.00878261319496715, -0.0016162803461459067, ...</td>\n",
       "      <td>0.311300</td>\n",
       "    </tr>\n",
       "    <tr>\n",
       "      <th>10</th>\n",
       "      <td>Destinyciello</td>\n",
       "      <td>198</td>\n",
       "      <td>191</td>\n",
       "      <td>0</td>\n",
       "      <td>Very Strong community</td>\n",
       "      <td>7</td>\n",
       "      <td>0.964646</td>\n",
       "      <td>0.035354</td>\n",
       "      <td>True</td>\n",
       "      <td>False</td>\n",
       "      <td>[0.012977522255776093, -0.005824940119110212, ...</td>\n",
       "      <td>[0.00878261319496715, -0.0016162803461459067, ...</td>\n",
       "      <td>0.878634</td>\n",
       "    </tr>\n",
       "    <tr>\n",
       "      <th>14</th>\n",
       "      <td>LucidMetal</td>\n",
       "      <td>71</td>\n",
       "      <td>69</td>\n",
       "      <td>0</td>\n",
       "      <td>Very Strong community</td>\n",
       "      <td>2</td>\n",
       "      <td>0.971831</td>\n",
       "      <td>0.028169</td>\n",
       "      <td>True</td>\n",
       "      <td>False</td>\n",
       "      <td>[0.036776777402636934, -0.0008747445986793191,...</td>\n",
       "      <td>[0.00878261319496715, -0.0016162803461459067, ...</td>\n",
       "      <td>0.930287</td>\n",
       "    </tr>\n",
       "    <tr>\n",
       "      <th>21</th>\n",
       "      <td>Thumatingra</td>\n",
       "      <td>63</td>\n",
       "      <td>62</td>\n",
       "      <td>0</td>\n",
       "      <td>Very Strong community</td>\n",
       "      <td>1</td>\n",
       "      <td>0.984127</td>\n",
       "      <td>0.015873</td>\n",
       "      <td>True</td>\n",
       "      <td>False</td>\n",
       "      <td>[0.010650161314749707, -0.013414646267115228, ...</td>\n",
       "      <td>[0.00878261319496715, -0.0016162803461459067, ...</td>\n",
       "      <td>0.875703</td>\n",
       "    </tr>\n",
       "    <tr>\n",
       "      <th>32</th>\n",
       "      <td>-Papa-Smurf</td>\n",
       "      <td>42</td>\n",
       "      <td>38</td>\n",
       "      <td>2</td>\n",
       "      <td>Strong community</td>\n",
       "      <td>4</td>\n",
       "      <td>0.904762</td>\n",
       "      <td>0.095238</td>\n",
       "      <td>True</td>\n",
       "      <td>False</td>\n",
       "      <td>[-0.007356688748378776, 0.017635595000507435, ...</td>\n",
       "      <td>[-0.06378324591227912, 0.04083870989192552, 0....</td>\n",
       "      <td>0.645051</td>\n",
       "    </tr>\n",
       "  </tbody>\n",
       "</table>\n",
       "</div>"
      ],
      "text/plain": [
       "               id  degree  internal_degree  community_id  \\\n",
       "9        DeltaBot     458              456             0   \n",
       "10  Destinyciello     198              191             0   \n",
       "14     LucidMetal      71               69             0   \n",
       "21    Thumatingra      63               62             0   \n",
       "32    -Papa-Smurf      42               38             2   \n",
       "\n",
       "           community_type  external_degree  pct_internal  pct_external  \\\n",
       "9   Very Strong community                2      0.995633      0.004367   \n",
       "10  Very Strong community                7      0.964646      0.035354   \n",
       "14  Very Strong community                2      0.971831      0.028169   \n",
       "21  Very Strong community                1      0.984127      0.015873   \n",
       "32       Strong community                4      0.904762      0.095238   \n",
       "\n",
       "    is_hub  is_bridge                                     user_embedding  \\\n",
       "9     True      False  [-0.06983418083076673, -0.006019841997424151, ...   \n",
       "10    True      False  [0.012977522255776093, -0.005824940119110212, ...   \n",
       "14    True      False  [0.036776777402636934, -0.0008747445986793191,...   \n",
       "21    True      False  [0.010650161314749707, -0.013414646267115228, ...   \n",
       "32    True      False  [-0.007356688748378776, 0.017635595000507435, ...   \n",
       "\n",
       "                                  community_embedding  similarity  \n",
       "9   [0.00878261319496715, -0.0016162803461459067, ...    0.311300  \n",
       "10  [0.00878261319496715, -0.0016162803461459067, ...    0.878634  \n",
       "14  [0.00878261319496715, -0.0016162803461459067, ...    0.930287  \n",
       "21  [0.00878261319496715, -0.0016162803461459067, ...    0.875703  \n",
       "32  [-0.06378324591227912, 0.04083870989192552, 0....    0.645051  "
      ]
     },
     "execution_count": 15,
     "metadata": {},
     "output_type": "execute_result"
    }
   ],
   "source": [
    "def compute_cosine_similarity(user_id):\n",
    "    user = users_role[users_role['id'] == user_id]\n",
    "\n",
    "    user_emb = np.array(user['user_embedding'].iloc[0]).reshape(1, -1)\n",
    "    user_comm_emb = np.array(user['community_embedding'].iloc[0]).reshape(1, -1)\n",
    "\n",
    "    similarity = cosine_similarity(user_emb, user_comm_emb)[0][0]\n",
    "\n",
    "    return similarity\n",
    "\n",
    "users_role['similarity'] = users_role['id'].apply(compute_cosine_similarity)\n",
    "users_role.loc[users_role['is_hub']].head()"
   ]
  },
  {
   "cell_type": "code",
   "execution_count": 16,
   "id": "114a13df",
   "metadata": {},
   "outputs": [],
   "source": [
    "users_role.to_csv('users_similarity.csv', sep=',', encoding='utf-8', index=False)"
   ]
  },
  {
   "cell_type": "code",
   "execution_count": 17,
   "id": "8a98f583",
   "metadata": {},
   "outputs": [
    {
     "data": {
      "text/plain": [
       "count     714.000000\n",
       "mean        0.784978\n",
       "median      0.825895\n",
       "std         0.134328\n",
       "Name: similarity, dtype: float64"
      ]
     },
     "execution_count": 17,
     "metadata": {},
     "output_type": "execute_result"
    }
   ],
   "source": [
    "users_role.loc[users_role['is_hub']]['similarity'].agg(('count', 'mean', 'median', 'std'), axis=0)"
   ]
  },
  {
   "cell_type": "code",
   "execution_count": 18,
   "id": "c03dc3f4",
   "metadata": {},
   "outputs": [],
   "source": [
    "hub_sim_list = users_role.loc[users_role['is_hub']]['similarity']\n",
    "hub_sim = pd.Series(hub_sim_list)"
   ]
  },
  {
   "cell_type": "code",
   "execution_count": 19,
   "id": "507c6310",
   "metadata": {},
   "outputs": [
    {
     "data": {
      "text/plain": [
       "count     1844.000000\n",
       "mean         0.736210\n",
       "median       0.749849\n",
       "std          0.108980\n",
       "Name: similarity, dtype: float64"
      ]
     },
     "execution_count": 19,
     "metadata": {},
     "output_type": "execute_result"
    }
   ],
   "source": [
    "users_role.loc[users_role['is_bridge']]['similarity'].agg(('count', 'mean', 'median', 'std'), axis=0)"
   ]
  },
  {
   "cell_type": "code",
   "execution_count": 20,
   "id": "1aca4359",
   "metadata": {},
   "outputs": [],
   "source": [
    "bridge_sim_list = users_role.loc[users_role['is_bridge']]['similarity']\n",
    "bridge_sim = pd.Series(bridge_sim_list)"
   ]
  },
  {
   "cell_type": "code",
   "execution_count": 21,
   "id": "a59bdc69",
   "metadata": {},
   "outputs": [
    {
     "name": "stdout",
     "output_type": "stream",
     "text": [
      "Shapiro Hub: ShapiroResult(statistic=np.float64(0.9133202941174634), pvalue=np.float64(9.217089739669632e-20))\n",
      "Shapiro Bridge: ShapiroResult(statistic=np.float64(0.974682302952184), pvalue=np.float64(1.5752760955968185e-17))\n",
      "Levene: LeveneResult(statistic=np.float64(45.06406800911444), pvalue=np.float64(2.340748380878223e-11))\n",
      "Mann-Whitney: MannwhitneyuResult(statistic=np.float64(842830.0), pvalue=np.float64(3.338653692800594e-28))\n"
     ]
    }
   ],
   "source": [
    "# Assumendo che hub_sim e bridge_sim siano Series con le similarità\n",
    "# 1. Test di normalità\n",
    "print(\"Shapiro Hub:\", shapiro(hub_sim))\n",
    "print(\"Shapiro Bridge:\", shapiro(bridge_sim))\n",
    "\n",
    "# 2. Test di omogeneità delle varianze\n",
    "print(\"Levene:\", levene(hub_sim, bridge_sim))\n",
    "\n",
    "# 3. Scegli il test in base ai risultati\n",
    "if shapiro(hub_sim).pvalue > 0.05 and shapiro(bridge_sim).pvalue > 0.05:\n",
    "    # Normali\n",
    "    if levene(hub_sim, bridge_sim).pvalue > 0.05:\n",
    "        # Varianze uguali\n",
    "        print(\"T-test:\", ttest_ind(hub_sim, bridge_sim))\n",
    "    else:\n",
    "        # Varianze diverse\n",
    "        print(\"T-test var unequal:\", ttest_ind(hub_sim, bridge_sim, equal_var=False))\n",
    "else:\n",
    "    # Non normali → Mann-Whitney\n",
    "    print(\"Mann-Whitney:\", mannwhitneyu(hub_sim, bridge_sim, alternative='two-sided'))\n"
   ]
  },
  {
   "cell_type": "code",
   "execution_count": 22,
   "id": "cd5dfa5e",
   "metadata": {},
   "outputs": [
    {
     "name": "stderr",
     "output_type": "stream",
     "text": [
      "/tmp/ipykernel_8689/1779058704.py:6: MatplotlibDeprecationWarning: The 'labels' parameter of boxplot() has been renamed 'tick_labels' since Matplotlib 3.9; support for the old name will be dropped in 3.11.\n",
      "  ax.boxplot([hub_data, bridge_data], labels=[\"Hub\", \"Bridge\"])\n"
     ]
    },
    {
     "data": {
      "image/png": "[encoded data removed]",
      "text/plain": [
       "<Figure size 600x500 with 1 Axes>"
      ]
     },
     "metadata": {},
     "output_type": "display_data"
    }
   ],
   "source": [
    "hub_data = pd.Series(name=\"Hub\", data=hub_sim)  \n",
    "bridge_data = pd.Series(name=\"Bridge\", data=bridge_sim)  \n",
    "\n",
    "# Creazione del boxplot\n",
    "fig, ax = plt.subplots(figsize=(6, 5))\n",
    "ax.boxplot([hub_data, bridge_data], labels=[\"Hub\", \"Bridge\"])\n",
    "ax.set_title(\"Cosine Similarity: Hub vs Bridge\")\n",
    "ax.set_ylabel(\"Cosine Similarity\")\n",
    "plt.show()\n"
   ]
  }
 ],
 "metadata": {
  "kernelspec": {
   "display_name": ".analysa (3.10.12)",
   "language": "python",
   "name": "python3"
  },
  "language_info": {
   "codemirror_mode": {
    "name": "ipython",
    "version": 3
   },
   "file_extension": ".py",
   "mimetype": "text/x-python",
   "name": "python",
   "nbconvert_exporter": "python",
   "pygments_lexer": "ipython3",
   "version": "3.10.12"
  }
 },
 "nbformat": 4,
 "nbformat_minor": 5
}
