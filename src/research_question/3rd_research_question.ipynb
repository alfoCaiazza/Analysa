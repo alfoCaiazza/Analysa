{
 "cells": [
  {
   "cell_type": "code",
   "execution_count": 7,
   "id": "18066d10",
   "metadata": {},
   "outputs": [],
   "source": [
    "import pandas as pd\n",
    "import numpy as np\n",
    "import json\n",
    "import itertools\n",
    "from itertools import combinations\n",
    "from sklearn.metrics.pairwise import cosine_similarity\n",
    "from random import sample\n",
    "from tqdm import tqdm\n",
    "import matplotlib.pyplot as plt\n",
    "import seaborn as sns\n",
    "import random"
   ]
  },
  {
   "cell_type": "code",
   "execution_count": 2,
   "id": "becc4118",
   "metadata": {},
   "outputs": [],
   "source": [
    "# Load data\n",
    "users_role = pd.read_csv('../../src/data/distribuitions/hub_bridge_df.csv')\n",
    "user_embeddings = np.load('../../src/nlp/user_embeddings.npy', allow_pickle=True)\n",
    "community_embeddings = np.load('../../src/nlp/community_embeddings.npy', allow_pickle=True)\n",
    "\n",
    "# Load community structural info\n",
    "with open('../../src/graph_dir/infomap_dir/cluster_tree_base.json', 'r') as f:\n",
    "    cluster_tree = json.load(f)\n",
    "\n",
    "# Convert embeddings to dictionaries \n",
    "user_emb_dict = {uid: np.array(emb) for uid, emb in user_embeddings}\n",
    "community_emb_dict = {row[0]: np.array(row[1]) for row in community_embeddings}\n",
    "\n",
    "# Parameters \n",
    "inter_sample_size = 1000\n",
    "max_pairs_intra = 10000"
   ]
  },
  {
   "cell_type": "code",
   "execution_count": 3,
   "id": "73d9b100",
   "metadata": {},
   "outputs": [
    {
     "name": "stderr",
     "output_type": "stream",
     "text": [
      "100%|██████████| 3508/3508 [14:02<00:00,  4.16it/s]\n",
      "100%|██████████| 1666/1666 [06:27<00:00,  4.30it/s]\n",
      "100%|██████████| 1142/1142 [04:27<00:00,  4.27it/s]\n",
      "100%|██████████| 1080/1080 [04:14<00:00,  4.25it/s]\n",
      "100%|██████████| 137/137 [00:33<00:00,  4.12it/s]\n",
      "100%|██████████| 44/44 [00:11<00:00,  3.90it/s]t]\n",
      "100%|██████████| 23/23 [00:06<00:00,  3.81it/s]t]\n",
      "100%|██████████| 16/16 [00:01<00:00, 11.06it/s]  \n",
      "100%|██████████| 15/15 [00:03<00:00,  3.81it/s]\n",
      "100%|██████████| 14/14 [00:03<00:00,  3.62it/s]\n",
      "100%|██████████| 11/11 [00:02<00:00,  3.78it/s]\n",
      "100%|██████████| 11/11 [00:02<00:00,  3.79it/s]\n",
      "100%|██████████| 9/9 [00:02<00:00,  3.83it/s]t]\n",
      "100%|██████████| 9/9 [00:02<00:00,  3.73it/s]t]\n",
      "100%|██████████| 9/9 [00:02<00:00,  3.78it/s]t]\n",
      "100%|██████████| 8/8 [00:01<00:00,  4.01it/s]t]\n",
      "100%|██████████| 8/8 [00:02<00:00,  3.79it/s]t]\n",
      "100%|██████████| 8/8 [00:02<00:00,  3.83it/s]t]\n",
      "100%|██████████| 6/6 [00:01<00:00,  3.78it/s]t]\n",
      "100%|██████████| 6/6 [00:00<00:00, -6.53it/s]t]\n",
      "100%|██████████| 6/6 [00:01<00:00,  3.88it/s]\n",
      "100%|██████████| 5/5 [00:01<00:00,  3.86it/s]t]\n",
      "100%|██████████| 5/5 [00:01<00:00,  3.69it/s]t]\n",
      "100%|██████████| 5/5 [00:01<00:00,  4.00it/s]t]\n",
      "100%|██████████| 5/5 [00:01<00:00,  3.93it/s]t]\n",
      "100%|██████████| 4/4 [00:01<00:00,  3.98it/s]t]\n",
      "100%|██████████| 4/4 [00:01<00:00,  3.80it/s]t]\n",
      "100%|██████████| 4/4 [00:01<00:00,  3.79it/s]t]\n",
      "100%|██████████| 4/4 [00:00<00:00,  4.04it/s]t]\n",
      "100%|██████████| 3/3 [00:00<00:00,  3.75it/s]t]\n",
      "100%|██████████| 3/3 [00:00<00:00,  3.92it/s]t]\n",
      "100%|██████████| 3/3 [00:00<00:00,  3.79it/s]s]\n",
      "100%|██████████| 2/2 [00:00<00:00,  3.88it/s]s]\n",
      "100%|██████████| 2/2 [00:00<00:00,  3.96it/s]s]\n",
      "100%|██████████| 2/2 [00:00<00:00,  3.91it/s]s]\n",
      "100%|██████████| 35/35 [31:00<00:00, 53.17s/it]\n"
     ]
    }
   ],
   "source": [
    "# Computing and evaluating metrics for eco chambers classification\n",
    "results = []\n",
    "for comm_id, comm_info in tqdm(cluster_tree.items()):\n",
    "    users = comm_info['users']\n",
    "    comm_type = comm_info['type']\n",
    "    conductance = comm_info['conductance']\n",
    "    internal_density = comm_info['internal_density']\n",
    "    modularity_gain = comm_info['modularity_gain']\n",
    "    num_users = comm_info['num_users']\n",
    "\n",
    "    # Select user embeddings in current community \n",
    "    user_embs = [user_emb_dict[u] for u in users if u in user_emb_dict]\n",
    "    \n",
    "    # Intra-community cosine similarity \n",
    "    if len(user_embs) > 1:\n",
    "        all_pairs = list(combinations(range(len(user_embs)), 2))\n",
    "        if len(all_pairs) > max_pairs_intra:\n",
    "            all_pairs = sample(all_pairs, max_pairs_intra)\n",
    "        intra_sims = [cosine_similarity(user_embs[i].reshape(1, -1), user_embs[j].reshape(1, -1))[0][0] for i, j in all_pairs]\n",
    "    else:\n",
    "        intra_sims = [1.0]\n",
    "\n",
    "    intra_mean = np.mean(intra_sims)\n",
    "    intra_std = np.std(intra_sims)\n",
    "\n",
    "    # Inter-community cosine similarity\n",
    "    external_users = [u for u in user_emb_dict.keys() if u not in users]\n",
    "    if len(external_users) > inter_sample_size:\n",
    "        external_users = sample(external_users, inter_sample_size)\n",
    "    external_embs = [user_emb_dict[u] for u in external_users]\n",
    "    \n",
    "    inter_sims = []\n",
    "    for ue in tqdm(user_embs):\n",
    "        for ve in external_embs:\n",
    "            inter_sims.append(cosine_similarity(ue.reshape(1, -1), ve.reshape(1, -1))[0][0])\n",
    "    inter_mean = np.mean(inter_sims)\n",
    "    inter_std = np.std(inter_sims)\n",
    "\n",
    "    # Evaluating Hub / bridge infos\n",
    "    comm_users_df = users_role[users_role['id'].isin(users)]\n",
    "    num_hubs = comm_users_df['is_hub'].sum()\n",
    "    num_bridges = comm_users_df['is_bridge'].sum()\n",
    "    pct_bridges = num_bridges / len(users) if len(users) > 0 else 0\n",
    "\n",
    "    # --- Echo chamber score ---\n",
    "    # combined weight: similarity, structure, bridge presence\n",
    "    # [0,1] normalization\n",
    "    sim_score = intra_mean - inter_mean\n",
    "    struct_score = (1 - conductance) * 0.5 + internal_density * 0.5\n",
    "    bridge_score = 1 - pct_bridges\n",
    "\n",
    "    echo_score = 0.5 * sim_score + 0.3 * struct_score + 0.2 * bridge_score\n",
    "\n",
    "    # Classification\n",
    "    if echo_score > 0.7:\n",
    "        echo_class = \"Strong Echo Chamber\"\n",
    "    elif echo_score > 0.4:\n",
    "        echo_class = \"Moderate Echo Chamber\"\n",
    "    else:\n",
    "        echo_class = \"Weak/No Echo Chamber\"\n",
    "\n",
    "    results.append({\n",
    "        'community_id': comm_id,\n",
    "        'community_type': comm_type,\n",
    "        'num_users': num_users,\n",
    "        'num_hubs': num_hubs,\n",
    "        'num_bridges': num_bridges,\n",
    "        'intra_mean': intra_mean,\n",
    "        'inter_mean': inter_mean,\n",
    "        'intra_std': intra_std,\n",
    "        'inter_std': inter_std,\n",
    "        'echo_score': echo_score,\n",
    "        'echo_class': echo_class\n",
    "    })"
   ]
  },
  {
   "cell_type": "code",
   "execution_count": 4,
   "id": "8e571598",
   "metadata": {},
   "outputs": [
    {
     "name": "stdout",
     "output_type": "stream",
     "text": [
      "  community_id community_type  num_users  num_hubs  num_bridges  intra_mean  \\\n",
      "0            0    Very Strong       3508       120          174    0.547294   \n",
      "1            1         Strong       1666        64          121    0.489642   \n",
      "2            2         Strong       1142        48           34    0.579118   \n",
      "3            3         Strong       1080        29           70    0.640398   \n",
      "4            4         Strong        137         1           12    0.541577   \n",
      "\n",
      "   inter_mean  intra_std  inter_std  echo_score             echo_class  \n",
      "0    0.439390   0.128893   0.142130    0.381590   Weak/No Echo Chamber  \n",
      "1    0.409471   0.124557   0.126677    0.354576   Weak/No Echo Chamber  \n",
      "2    0.401598   0.135655   0.124379    0.423170  Moderate Echo Chamber  \n",
      "3    0.454251   0.117906   0.158863    0.415613  Moderate Echo Chamber  \n",
      "4    0.420593   0.125450   0.131156    0.351625   Weak/No Echo Chamber  \n"
     ]
    }
   ],
   "source": [
    "df_echo = pd.DataFrame(results)\n",
    "df_echo.to_csv('../../src/research_question/echo_chambers_results.csv', index=False)\n",
    "print(df_echo.head())"
   ]
  },
  {
   "cell_type": "markdown",
   "id": "f122eae7",
   "metadata": {},
   "source": [
    "##### Cosine similarity distrubuition plots"
   ]
  },
  {
   "cell_type": "code",
   "execution_count": 8,
   "id": "624f10d9",
   "metadata": {},
   "outputs": [],
   "source": [
    "# Associating user embedding with relative user row informations\n",
    "if isinstance(user_embeddings, np.ndarray) and user_embeddings.dtype == object:\n",
    "    user_embeddings = dict(user_embeddings.tolist())\n",
    "\n",
    "users_role['embedding'] = users_role['id'].map(user_embeddings)"
   ]
  },
  {
   "cell_type": "code",
   "execution_count": 9,
   "id": "86804cd4",
   "metadata": {},
   "outputs": [],
   "source": [
    "# Pair-users generation\n",
    "N_SAMPLES = 100000  \n",
    "\n",
    "community_users = users_role.groupby('community_id')['id'].apply(list).to_dict()\n",
    "\n",
    "# Intra-community\n",
    "intra_pairs = []\n",
    "for comm, members in community_users.items():\n",
    "    if len(members) < 2:\n",
    "        continue\n",
    "    pairs = list(itertools.combinations(members, 2))\n",
    "    sampled = random.sample(pairs, min(len(pairs), N_SAMPLES // len(community_users)))\n",
    "    intra_pairs.extend([(u, v, comm) for u, v in sampled])\n",
    "\n",
    "# Inter-community\n",
    "all_users = users_role['id'].tolist()\n",
    "inter_pairs = []\n",
    "while len(inter_pairs) < N_SAMPLES:\n",
    "    u, v = random.sample(all_users, 2)\n",
    "    cu, cv = users_role.loc[users_role['id'] == u, 'community_id'].item(), \\\n",
    "             users_role.loc[users_role['id'] == v, 'community_id'].item()\n",
    "    if cu != cv:\n",
    "        inter_pairs.append((u, v))"
   ]
  },
  {
   "cell_type": "code",
   "execution_count": 11,
   "id": "ab7d4954",
   "metadata": {},
   "outputs": [
    {
     "name": "stdout",
     "output_type": "stream",
     "text": [
      "Intra-community sample size: 16223\n",
      "Inter-community sample size: 100000\n"
     ]
    }
   ],
   "source": [
    "# Cosine similarity evaluation\n",
    "# Utility functions that computes cosine similarity between two embeddings\n",
    "def cosine(u, v):\n",
    "    u, v = np.array(u), np.array(v)\n",
    "    return cosine_similarity(u.reshape(1, -1), v.reshape(1, -1))[0, 0]\n",
    "emb_dict = dict(zip(users_role['id'], users_role['embedding']))\n",
    "\n",
    "# Intra-community similarities\n",
    "intra_sims = [cosine(emb_dict[u], emb_dict[v]) for u, v, _ in intra_pairs]\n",
    "\n",
    "# Inter-community similarities\n",
    "inter_sims = [cosine(emb_dict[u], emb_dict[v]) for u, v in inter_pairs]\n",
    "\n",
    "print(f\"Intra-community sample size: {len(intra_sims)}\")\n",
    "print(f\"Inter-community sample size: {len(inter_sims)}\")"
   ]
  },
  {
   "cell_type": "code",
   "execution_count": 12,
   "id": "d0b1bcdc",
   "metadata": {},
   "outputs": [
    {
     "data": {
      "image/png": "[encoded data removed]",
      "text/plain": [
       "<Figure size 800x500 with 1 Axes>"
      ]
     },
     "metadata": {},
     "output_type": "display_data"
    }
   ],
   "source": [
    "plt.figure(figsize=(8,5))\n",
    "sns.kdeplot(intra_sims, label=\"Intra-community\", fill=True)\n",
    "sns.kdeplot(inter_sims, label=\"Inter-community\", fill=True)\n",
    "plt.xlabel(\"Cosine similarity\")\n",
    "plt.ylabel(\"Density\")\n",
    "plt.title(\"Cosine Similarity distribuition\")\n",
    "plt.legend()\n",
    "plt.show()"
   ]
  }
 ],
 "metadata": {
  "kernelspec": {
   "display_name": ".analysa (3.10.12)",
   "language": "python",
   "name": "python3"
  },
  "language_info": {
   "codemirror_mode": {
    "name": "ipython",
    "version": 3
   },
   "file_extension": ".py",
   "mimetype": "text/x-python",
   "name": "python",
   "nbconvert_exporter": "python",
   "pygments_lexer": "ipython3",
   "version": "3.10.12"
  }
 },
 "nbformat": 4,
 "nbformat_minor": 5
}
