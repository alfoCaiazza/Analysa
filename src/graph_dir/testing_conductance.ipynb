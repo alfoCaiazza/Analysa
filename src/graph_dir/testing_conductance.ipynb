{
 "cells": [
  {
   "cell_type": "code",
   "execution_count": 3,
   "id": "b733b5ee",
   "metadata": {},
   "outputs": [],
   "source": [
    "import sknetwork as skn\n",
    "from sknetwork.clustering import Louvain, get_modularity\n",
    "from sknetwork.linalg import normalize\n",
    "from sknetwork.utils import get_membership\n",
    "from sknetwork.visualization import visualize_graph\n",
    "import networkx as nx  \n",
    "import torch\n",
    "from torch_geometric.utils import to_scipy_sparse_matrix, to_networkx\n",
    "from torch_geometric.data import Data\n",
    "import os\n",
    "from tqdm import tqdm\n",
    "import json\n",
    "import numpy as np\n",
    "import pandas as pd\n",
    "from IPython.display import SVG\n",
    "from cdlib import evaluation, NodeClustering, algorithms"
   ]
  },
  {
   "cell_type": "code",
   "execution_count": 4,
   "id": "24986281",
   "metadata": {},
   "outputs": [
    {
     "data": {
      "text/plain": [
       "15"
      ]
     },
     "execution_count": 4,
     "metadata": {},
     "output_type": "execute_result"
    }
   ],
   "source": [
    "graph_dir = os.path.join('..','..', 'src', 'data', 'graph_data.pt')\n",
    "data = torch.load(graph_dir, weights_only=False)\n",
    "graph = data['data']\n",
    "mapping = data['idx2user']\n",
    "\n",
    "# Extracting nodes position\n",
    "G_nx = to_networkx(graph, to_undirected=True)\n",
    "communities = algorithms.louvain(G_nx, weight='weight', resolution=1)\n",
    "len(communities.communities)"
   ]
  },
  {
   "cell_type": "code",
   "execution_count": 5,
   "id": "bc684759",
   "metadata": {},
   "outputs": [
    {
     "data": {
      "text/plain": [
       "[0.3260675361800965,\n",
       " 0.34177740863787376,\n",
       " 0.07890613872667711,\n",
       " 0.08086096567771961,\n",
       " 0.48406676783004554,\n",
       " 0.2638888888888889,\n",
       " 0.5586914688903143,\n",
       " 0.4716981132075472,\n",
       " 0.40458015267175573,\n",
       " 0.2727272727272727,\n",
       " 0.2,\n",
       " 0.0,\n",
       " 0.0,\n",
       " 0.0,\n",
       " 0.0]"
      ]
     },
     "execution_count": 5,
     "metadata": {},
     "output_type": "execute_result"
    }
   ],
   "source": [
    "conductances = evaluation.conductance(G_nx, communities, summary=False)\n",
    "conductances"
   ]
  },
  {
   "cell_type": "code",
   "execution_count": 6,
   "id": "14048539",
   "metadata": {},
   "outputs": [
    {
     "data": {
      "text/plain": [
       "[0.2195319349834761,\n",
       " 0.07943462897526501,\n",
       " 0.35788949726231956,\n",
       " 0.06682027649769585,\n",
       " 0.2606060606060606,\n",
       " 0.5252282556463239,\n",
       " 0.4424853064651553,\n",
       " 0.5064102564102564,\n",
       " 0.52,\n",
       " 0.5135135135135135,\n",
       " 0.2727272727272727,\n",
       " 0.2,\n",
       " 0.0,\n",
       " 0.5,\n",
       " 0.0,\n",
       " 0.0,\n",
       " 0.0,\n",
       " 0.3333333333333333,\n",
       " 0.3333333333333333]"
      ]
     },
     "execution_count": 6,
     "metadata": {},
     "output_type": "execute_result"
    }
   ],
   "source": [
    "leiden_communities = algorithms.leiden(G_nx)\n",
    "conductances = evaluation.conductance(G_nx, leiden_communities, summary=False)\n",
    "conductances"
   ]
  },
  {
   "cell_type": "code",
   "execution_count": 7,
   "id": "f6417190",
   "metadata": {},
   "outputs": [
    {
     "data": {
      "text/plain": [
       "([3085, 3086], [3100, 3101, 3102, 3103, 4000])"
      ]
     },
     "execution_count": 7,
     "metadata": {},
     "output_type": "execute_result"
    }
   ],
   "source": [
    "communities.communities[11], leiden_communities.communities[10]"
   ]
  },
  {
   "cell_type": "code",
   "execution_count": 8,
   "id": "7cbf5b4d",
   "metadata": {},
   "outputs": [
    {
     "data": {
      "text/plain": [
       "[0.3260675361800965,\n",
       " 0.34177740863787376,\n",
       " 0.07890613872667711,\n",
       " 0.08086096567771961,\n",
       " 0.48406676783004554,\n",
       " 0.2638888888888889,\n",
       " 0.5586914688903143,\n",
       " 0.4716981132075472,\n",
       " 0.40458015267175573,\n",
       " 0.2727272727272727,\n",
       " 0.2,\n",
       " 0.0,\n",
       " 0.0,\n",
       " 0.0,\n",
       " 0.0]"
      ]
     },
     "execution_count": 8,
     "metadata": {},
     "output_type": "execute_result"
    }
   ],
   "source": [
    "# Conductance qualify a cluster of a graph measuring how good separated reffered to the global graph:\n",
    "# evaluated the ratio between the numebr of exiting edges from the cluster anche the total number of entering edged in the cluster\n",
    "\n",
    "# Range values have these meanings:\n",
    "# Well defined clusters -> < 0.1\n",
    "# Decent clusters > 0 .1 & < 0.2\n",
    "# Problematic cluster > 0.2\n",
    "\n",
    "# A small value of conductance \n",
    "conductance = evaluation.conductance(G_nx, communities, summary=False)\n",
    "conductance"
   ]
  },
  {
   "cell_type": "code",
   "execution_count": 9,
   "id": "c6e94b48",
   "metadata": {},
   "outputs": [
    {
     "data": {
      "text/plain": [
       "[0.25276312937946976,\n",
       " 0.07895671949399474,\n",
       " 0.3743295019157088,\n",
       " 0.07995495495495496,\n",
       " 0.2909196067090804,\n",
       " 0.5188749074759438,\n",
       " 0.5656063618290258,\n",
       " 0.5196078431372549,\n",
       " 0.47770700636942676,\n",
       " 0.0,\n",
       " 0.5,\n",
       " 0.0,\n",
       " 0.0,\n",
       " 0.0]"
      ]
     },
     "execution_count": 9,
     "metadata": {},
     "output_type": "execute_result"
    }
   ],
   "source": [
    "communities = algorithms.louvain(G_nx, weight='weight', resolution=1)\n",
    "conductance = evaluation.conductance(G_nx, communities, summary=False)\n",
    "conductance"
   ]
  },
  {
   "cell_type": "code",
   "execution_count": 10,
   "id": "4cf50a49",
   "metadata": {},
   "outputs": [
    {
     "name": "stdout",
     "output_type": "stream",
     "text": [
      "[3085, 3086]\n"
     ]
    }
   ],
   "source": [
    "communities_list = communities.communities[9]\n",
    "print(communities_list)"
   ]
  },
  {
   "cell_type": "code",
   "execution_count": 11,
   "id": "3438fb49",
   "metadata": {},
   "outputs": [
    {
     "ename": "AttributeError",
     "evalue": "'dict' object has no attribute 'node_offsets'",
     "output_type": "error",
     "traceback": [
      "\u001b[0;31m---------------------------------------------------------------------------\u001b[0m",
      "\u001b[0;31mAttributeError\u001b[0m                            Traceback (most recent call last)",
      "Cell \u001b[0;32mIn[11], line 1\u001b[0m\n\u001b[0;32m----> 1\u001b[0m G_nx \u001b[38;5;241m=\u001b[39m \u001b[43mto_networkx\u001b[49m\u001b[43m(\u001b[49m\u001b[43mdata\u001b[49m\u001b[43m,\u001b[49m\u001b[43m \u001b[49m\u001b[43mto_undirected\u001b[49m\u001b[38;5;241;43m=\u001b[39;49m\u001b[38;5;28;43;01mTrue\u001b[39;49;00m\u001b[43m)\u001b[49m\n\u001b[1;32m      2\u001b[0m pos \u001b[38;5;241m=\u001b[39m nx\u001b[38;5;241m.\u001b[39mspring_layout(G_nx)\n\u001b[1;32m      3\u001b[0m positions \u001b[38;5;241m=\u001b[39m np\u001b[38;5;241m.\u001b[39marray([pos[i] \u001b[38;5;28;01mfor\u001b[39;00m i \u001b[38;5;129;01min\u001b[39;00m \u001b[38;5;28mrange\u001b[39m(\u001b[38;5;28mlen\u001b[39m(pos))])\n",
      "File \u001b[0;32m~/Analysa/Analysa/.analysa/lib/python3.10/site-packages/torch_geometric/utils/convert.py:157\u001b[0m, in \u001b[0;36mto_networkx\u001b[0;34m(data, node_attrs, edge_attrs, graph_attrs, to_undirected, to_multi, remove_self_loops)\u001b[0m\n\u001b[1;32m    154\u001b[0m \u001b[38;5;28;01mfor\u001b[39;00m key \u001b[38;5;129;01min\u001b[39;00m graph_attrs \u001b[38;5;129;01mor\u001b[39;00m []:\n\u001b[1;32m    155\u001b[0m     G\u001b[38;5;241m.\u001b[39mgraph[key] \u001b[38;5;241m=\u001b[39m to_networkx_value(data[key])\n\u001b[0;32m--> 157\u001b[0m node_offsets \u001b[38;5;241m=\u001b[39m \u001b[43mdata\u001b[49m\u001b[38;5;241;43m.\u001b[39;49m\u001b[43mnode_offsets\u001b[49m\n\u001b[1;32m    158\u001b[0m \u001b[38;5;28;01mfor\u001b[39;00m node_store \u001b[38;5;129;01min\u001b[39;00m data\u001b[38;5;241m.\u001b[39mnode_stores:\n\u001b[1;32m    159\u001b[0m     start \u001b[38;5;241m=\u001b[39m node_offsets[node_store\u001b[38;5;241m.\u001b[39m_key]\n",
      "\u001b[0;31mAttributeError\u001b[0m: 'dict' object has no attribute 'node_offsets'"
     ]
    }
   ],
   "source": [
    "G_nx = to_networkx(data, to_undirected=True)\n",
    "pos = nx.spring_layout(G_nx)\n",
    "positions = np.array([pos[i] for i in range(len(pos))])\n",
    "\n",
    "# Clusterizing the graph\n",
    "leiden = Louvain()\n",
    "labels = louvain.fit_predict(adjacency_matrix)\n",
    "labels_unique, counts = np.unique(labels, return_counts=True)\n",
    "print(labels_unique, counts)"
   ]
  }
 ],
 "metadata": {
  "kernelspec": {
   "display_name": ".analysa (3.10.12)",
   "language": "python",
   "name": "python3"
  },
  "language_info": {
   "codemirror_mode": {
    "name": "ipython",
    "version": 3
   },
   "file_extension": ".py",
   "mimetype": "text/x-python",
   "name": "python",
   "nbconvert_exporter": "python",
   "pygments_lexer": "ipython3",
   "version": "3.10.12"
  }
 },
 "nbformat": 4,
 "nbformat_minor": 5
}
