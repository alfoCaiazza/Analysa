{
 "cells": [
  {
   "cell_type": "code",
   "execution_count": null,
   "id": "66da10cc",
   "metadata": {},
   "outputs": [],
   "source": [
    "import pandas as pd\n",
    "import torch\n",
    "import numpy as np\n",
    "from sentence_transformers import SentenceTransformer\n",
    "from sklearn.preprocessing import normalize"
   ]
  },
  {
   "cell_type": "code",
   "execution_count": null,
   "id": "8dc45e8f",
   "metadata": {},
   "outputs": [],
   "source": [
    "text_df = pd.read_csv('../../../src/nlp/cleaned_dataset.csv')\n",
    "community_df = pd.read_csv('../../../src/data/distribuitions/hub_bridge_df.csv')\n",
    "merged_df = text_df.merge(community_df, left_on='author', right_on='id', how='inner')"
   ]
  },
  {
   "cell_type": "code",
   "execution_count": null,
   "id": "ca18c5c2",
   "metadata": {},
   "outputs": [],
   "source": [
    "# Setting cuda environment\n",
    "device = torch.device(\"cuda\" if torch.cuda.is_available() else \"cpu\")\n",
    "print(f\"Using device : {device}\")\n",
    "\n",
    "# Instantiating model embedding\n",
    "embedding_model = SentenceTransformer('all-mpnet-base-v2')\n",
    "embedding_model.to(device)"
   ]
  },
  {
   "cell_type": "code",
   "execution_count": null,
   "id": "8b0544e0",
   "metadata": {},
   "outputs": [],
   "source": [
    "# Calculating embeddings\n",
    "embeddings = embedding_model.encode(\n",
    "    merged_df['clean_text'].tolist(),\n",
    "    show_progress_bar=True\n",
    ")\n",
    "\n",
    "merged_df['embedding'] = embeddings.tolist()"
   ]
  },
  {
   "cell_type": "code",
   "execution_count": null,
   "id": "726b3c85",
   "metadata": {},
   "outputs": [],
   "source": [
    "community_embeddings = (\n",
    "    merged_df.groupby('community_id')['embedding']\n",
    "    .apply(lambda x: np.mean(np.stack(x), axis=0))\n",
    "    .reset_index(name='mean_community_embedding')\n",
    ")\n",
    "\n",
    "# Normalizing embedding value range\n",
    "community_embeddings['mean_community_embedding'] = normalize(np.stack(community_embeddings['mean_community_embedding']), axis=1).tolist()\n",
    "community_embeddings\n"
   ]
  },
  {
   "cell_type": "code",
   "execution_count": null,
   "id": "51151f86",
   "metadata": {},
   "outputs": [],
   "source": [
    "print(\"=== Embeddings Dimensions ===\")\n",
    "print(\"Dimension embedding texts (BERT):\", len(merged_df['embedding'].iloc[0]))\n",
    "print(\"Dimension embedding community (mean):\", len(community_embeddings['mean_community_embedding'].iloc[0]))\n",
    "\n",
    "print(\"\\n=== Final Shape ===\")\n",
    "print(\"Community num:\", len(community_embeddings))\n",
    "print(\"Unique users num:\", merged_df['author'].nunique())"
   ]
  },
  {
   "cell_type": "code",
   "execution_count": null,
   "id": "6ac44555",
   "metadata": {},
   "outputs": [],
   "source": [
    "user_embeddings = (\n",
    "    merged_df.groupby('author')['embedding']\n",
    "    .apply(lambda x: np.mean(np.stack(x), axis=0))\n",
    "    .reset_index(name='mean_user_embedding')\n",
    ")\n",
    "\n",
    "# Normalizing embedding value range\n",
    "user_embeddings['mean_user_embedding'] = normalize(np.stack(user_embeddings['mean_user_embedding']), axis=1).tolist()\n",
    "user_embeddings"
   ]
  },
  {
   "cell_type": "code",
   "execution_count": null,
   "id": "f0ed0781",
   "metadata": {},
   "outputs": [],
   "source": [
    "print(\"=== User Embeddings Dimensions ===\")\n",
    "print(\"Dimension embedding texts (BERT):\", len(merged_df['embedding'].iloc[0]))\n",
    "print(\"Dimension embedding user (mean):\", len(user_embeddings['mean_user_embedding'].iloc[0]))\n",
    "\n",
    "print(\"\\n=== Final Shape ===\")\n",
    "print(\"Users num:\", len(user_embeddings))\n",
    "print(\"Unique users num:\", merged_df['author'].nunique())"
   ]
  },
  {
   "cell_type": "code",
   "execution_count": null,
   "id": "587dd609",
   "metadata": {},
   "outputs": [],
   "source": [
    "# Saving emebddings separatelly in a numpy file\n",
    "np.save('../../../src/nlp/topic_modeling/text_embeddings.npy', embeddings)\n",
    "np.save('../../../src/nlp/topic_modeling/community_embeddings.npy', community_embeddings)\n",
    "np.save('../../../src/nlp/topic_modeling/user_embeddings.npy', user_embeddings)"
   ]
  }
 ],
 "metadata": {
  "language_info": {
   "name": "python"
  }
 },
 "nbformat": 4,
 "nbformat_minor": 5
}
