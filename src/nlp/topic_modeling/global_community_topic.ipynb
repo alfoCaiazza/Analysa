{
 "cells": [
  {
   "cell_type": "code",
   "execution_count": 1,
   "id": "2a552826",
   "metadata": {},
   "outputs": [
    {
     "name": "stderr",
     "output_type": "stream",
     "text": [
      "2025-08-20 16:12:53.983330: I tensorflow/core/util/port.cc:153] oneDNN custom operations are on. You may see slightly different numerical results due to floating-point round-off errors from different computation orders. To turn them off, set the environment variable `TF_ENABLE_ONEDNN_OPTS=0`.\n",
      "2025-08-20 16:12:54.305382: E external/local_xla/xla/stream_executor/cuda/cuda_fft.cc:467] Unable to register cuFFT factory: Attempting to register factory for plugin cuFFT when one has already been registered\n",
      "WARNING: All log messages before absl::InitializeLog() is called are written to STDERR\n",
      "E0000 00:00:1755699174.425077    1137 cuda_dnn.cc:8579] Unable to register cuDNN factory: Attempting to register factory for plugin cuDNN when one has already been registered\n",
      "E0000 00:00:1755699174.456928    1137 cuda_blas.cc:1407] Unable to register cuBLAS factory: Attempting to register factory for plugin cuBLAS when one has already been registered\n",
      "W0000 00:00:1755699174.719150    1137 computation_placer.cc:177] computation placer already registered. Please check linkage and avoid linking the same target more than once.\n",
      "W0000 00:00:1755699174.719199    1137 computation_placer.cc:177] computation placer already registered. Please check linkage and avoid linking the same target more than once.\n",
      "W0000 00:00:1755699174.719201    1137 computation_placer.cc:177] computation placer already registered. Please check linkage and avoid linking the same target more than once.\n",
      "W0000 00:00:1755699174.719202    1137 computation_placer.cc:177] computation placer already registered. Please check linkage and avoid linking the same target more than once.\n",
      "2025-08-20 16:12:54.747714: I tensorflow/core/platform/cpu_feature_guard.cc:210] This TensorFlow binary is optimized to use available CPU instructions in performance-critical operations.\n",
      "To enable the following instructions: AVX2 AVX_VNNI FMA, in other operations, rebuild TensorFlow with the appropriate compiler flags.\n"
     ]
    }
   ],
   "source": [
    "import pandas as pd\n",
    "import torch\n",
    "import numpy as np\n",
    "import tqdm\n",
    "from bertopic import BERTopic\n",
    "from bertopic.representation import KeyBERTInspired\n",
    "from sentence_transformers import SentenceTransformer\n",
    "from sklearn.preprocessing import normalize\n",
    "from sklearn.feature_extraction.text import CountVectorizer\n",
    "from hdbscan import HDBSCAN"
   ]
  },
  {
   "cell_type": "code",
   "execution_count": 2,
   "id": "61356a4b",
   "metadata": {},
   "outputs": [],
   "source": [
    "text_df = pd.read_csv('../../../src/nlp/cleaned_dataset.csv')\n",
    "community_df = pd.read_csv('../../../src/data/distribuitions/hub_bridge_df.csv')\n",
    "merged_df = text_df.merge(community_df, left_on='author', right_on='id', how='inner')"
   ]
  },
  {
   "cell_type": "code",
   "execution_count": 3,
   "id": "d1e99035",
   "metadata": {},
   "outputs": [
    {
     "name": "stdout",
     "output_type": "stream",
     "text": [
      "Using device : cuda\n"
     ]
    },
    {
     "name": "stderr",
     "output_type": "stream",
     "text": [
      "/home/acaia/Analysa/Analysa/.analysa/lib/python3.10/site-packages/numba/np/ufunc/parallel.py:371: NumbaWarning:\n",
      "\n",
      "The TBB threading layer requires TBB version 2021 update 6 or later i.e., TBB_INTERFACE_VERSION >= 12060. Found TBB_INTERFACE_VERSION = 12050. The TBB threading layer is disabled.\n",
      "\n"
     ]
    }
   ],
   "source": [
    "# Setting cuda environment\n",
    "device = torch.device(\"cuda\" if torch.cuda.is_available() else \"cpu\")\n",
    "print(f\"Using device : {device}\")\n",
    "\n",
    "# Instantiating model embedding\n",
    "embedding_model = SentenceTransformer('all-mpnet-base-v2')\n",
    "embedding_model.to(device)\n",
    "\n",
    "# Instantiating CountVectorizer (bag-of-words) to upgrade pre-procerssing\n",
    "vectorizer_model = CountVectorizer(\n",
    "    stop_words='english',\n",
    "    min_df=1, # min number of a word occurance - rare words\n",
    "    max_df=0.9 # max percentage of occurance - word likely stopword\n",
    ")\n",
    "\n",
    "# customizing HDBSCAN clustering model\n",
    "hdbscan_model = HDBSCAN(min_cluster_size=10, min_samples=3, cluster_selection_epsilon=0.2, prediction_data=True)\n",
    "\n",
    "# Instantiating a representation model to customize topic labels\n",
    "representation_model = KeyBERTInspired()\n",
    "\n",
    "# Removing empty texts\n",
    "merged_df['clean_text'] = merged_df['clean_text'].fillna('').astype(str)\n",
    "merged_df = merged_df[merged_df['clean_text'].str.strip() != ''].reset_index(drop=True)\n",
    "\n",
    "topic_model = BERTopic(\n",
    "    embedding_model=embedding_model,\n",
    "    vectorizer_model=vectorizer_model,\n",
    "    hdbscan_model=hdbscan_model,\n",
    "    representation_model=representation_model\n",
    ")\n",
    "\n",
    "topics, probs = topic_model.fit_transform(merged_df['clean_text'].astype(str))"
   ]
  },
  {
   "cell_type": "code",
   "execution_count": 4,
   "id": "81df8862",
   "metadata": {},
   "outputs": [],
   "source": [
    "topic_info = topic_model.get_topic_info()\n",
    "topic_id_to_name = dict(zip(topic_info['Topic'], topic_info['Name']))\n",
    "\n",
    "merged_df['topic'] = [topic_id_to_name[topic] for topic in topics]\n",
    "merged_df['topic_id'] = topics"
   ]
  },
  {
   "cell_type": "code",
   "execution_count": 5,
   "id": "85bfc0d9",
   "metadata": {},
   "outputs": [
    {
     "data": {
      "application/vnd.jupyter.widget-view+json": {
       "model_id": "5e5b616ab3224c0c9afc4096a1ea2be8",
       "version_major": 2,
       "version_minor": 0
      },
      "text/plain": [
       "Batches:   0%|          | 0/3092 [00:00<?, ?it/s]"
      ]
     },
     "metadata": {},
     "output_type": "display_data"
    }
   ],
   "source": [
    "# Calculating embeddings\n",
    "embeddings = embedding_model.encode(\n",
    "    merged_df['clean_text'].tolist(),\n",
    "    show_progress_bar=True\n",
    ")\n",
    "\n",
    "merged_df['embedding'] = embeddings.tolist()"
   ]
  },
  {
   "cell_type": "code",
   "execution_count": 6,
   "id": "2f69251a",
   "metadata": {},
   "outputs": [
    {
     "data": {
      "application/vnd.plotly.v1+json": {
       "config": {
        "plotlyServerURL": "https://plot.ly"
       },
       "data": [
        {
         "marker": {
          "color": "#D55E00"
         },
         "orientation": "h",
         "type": "bar",
         "x": [
          0.36583852767944336,
          0.4279695153236389,
          0.4279773533344269,
          0.43498796224594116,
          0.43913084268569946
         ],
         "xaxis": "x",
         "y": [
          "trump  ",
          "democrats  ",
          "government  ",
          "republicans  ",
          "political  "
         ],
         "yaxis": "y"
        },
        {
         "marker": {
          "color": "#0072B2"
         },
         "orientation": "h",
         "type": "bar",
         "x": [
          0.22441691160202026,
          0.24262690544128418,
          0.24940824508666992,
          0.27674371004104614,
          0.2995145916938782
         ],
         "xaxis": "x2",
         "y": [
          "appeal  ",
          "moderated  ",
          "appeals  ",
          "moderation  ",
          "moderators  "
         ],
         "yaxis": "y2"
        },
        {
         "marker": {
          "color": "#CC79A7"
         },
         "orientation": "h",
         "type": "bar",
         "x": [
          0.2507115602493286,
          0.2626490890979767,
          0.2674274444580078,
          0.28460681438446045,
          0.3194068372249603
         ],
         "xaxis": "x3",
         "y": [
          "conversation  ",
          "clarifying  ",
          "moderators  ",
          "arguments  ",
          "responses  "
         ],
         "yaxis": "y3"
        },
        {
         "marker": {
          "color": "#E69F00"
         },
         "orientation": "h",
         "type": "bar",
         "x": [
          0.17442390322685242,
          0.18341562151908875,
          0.1993163526058197,
          0.22666439414024353,
          0.2728819251060486
         ],
         "xaxis": "x4",
         "y": [
          "socratic  ",
          "wiki  ",
          "moderation  ",
          "moderators  ",
          "information  "
         ],
         "yaxis": "y4"
        },
        {
         "marker": {
          "color": "#56B4E9"
         },
         "orientation": "h",
         "type": "bar",
         "x": [
          0.18221288919448853,
          0.2105674147605896,
          0.21156786382198334,
          0.21169263124465942,
          0.23069193959236145
         ],
         "xaxis": "x5",
         "y": [
          "wiki  ",
          "murky  ",
          "appointment  ",
          "apprehensive  ",
          "fox  "
         ],
         "yaxis": "y5"
        },
        {
         "marker": {
          "color": "#009E73"
         },
         "orientation": "h",
         "type": "bar",
         "x": [
          0.1590932160615921,
          0.22094222903251648,
          0.2529732882976532,
          0.26745060086250305,
          0.331879198551178
         ],
         "xaxis": "x6",
         "y": [
          "compose  ",
          "concerns  ",
          "discussion  ",
          "topic  ",
          "moderators  "
         ],
         "yaxis": "y6"
        },
        {
         "marker": {
          "color": "#F0E442"
         },
         "orientation": "h",
         "type": "bar",
         "x": [
          0.3001757860183716,
          0.30326932668685913,
          0.3070230782032013,
          0.30941516160964966,
          0.3475445508956909
         ],
         "xaxis": "x7",
         "y": [
          "appeals  ",
          "moderators  ",
          "topic  ",
          "information  ",
          "moderation  "
         ],
         "yaxis": "y7"
        },
        {
         "marker": {
          "color": "#D55E00"
         },
         "orientation": "h",
         "type": "bar",
         "x": [
          0.1715993881225586,
          0.17314037680625916,
          0.18396398425102234,
          0.18409541249275208,
          0.19281743466854095
         ],
         "xaxis": "x8",
         "y": [
          "groups  ",
          "mainstream  ",
          "things  ",
          "american  ",
          "example  "
         ],
         "yaxis": "y8"
        }
       ],
       "layout": {
        "annotations": [
         {
          "font": {
           "size": 16
          },
          "showarrow": false,
          "text": "Topic 0",
          "x": 0.0875,
          "xanchor": "center",
          "xref": "paper",
          "y": 1,
          "yanchor": "bottom",
          "yref": "paper"
         },
         {
          "font": {
           "size": 16
          },
          "showarrow": false,
          "text": "Topic 1",
          "x": 0.36250000000000004,
          "xanchor": "center",
          "xref": "paper",
          "y": 1,
          "yanchor": "bottom",
          "yref": "paper"
         },
         {
          "font": {
           "size": 16
          },
          "showarrow": false,
          "text": "Topic 2",
          "x": 0.6375000000000001,
          "xanchor": "center",
          "xref": "paper",
          "y": 1,
          "yanchor": "bottom",
          "yref": "paper"
         },
         {
          "font": {
           "size": 16
          },
          "showarrow": false,
          "text": "Topic 3",
          "x": 0.9125,
          "xanchor": "center",
          "xref": "paper",
          "y": 1,
          "yanchor": "bottom",
          "yref": "paper"
         },
         {
          "font": {
           "size": 16
          },
          "showarrow": false,
          "text": "Topic 4",
          "x": 0.0875,
          "xanchor": "center",
          "xref": "paper",
          "y": 0.4,
          "yanchor": "bottom",
          "yref": "paper"
         },
         {
          "font": {
           "size": 16
          },
          "showarrow": false,
          "text": "Topic 5",
          "x": 0.36250000000000004,
          "xanchor": "center",
          "xref": "paper",
          "y": 0.4,
          "yanchor": "bottom",
          "yref": "paper"
         },
         {
          "font": {
           "size": 16
          },
          "showarrow": false,
          "text": "Topic 6",
          "x": 0.6375000000000001,
          "xanchor": "center",
          "xref": "paper",
          "y": 0.4,
          "yanchor": "bottom",
          "yref": "paper"
         },
         {
          "font": {
           "size": 16
          },
          "showarrow": false,
          "text": "Topic 7",
          "x": 0.9125,
          "xanchor": "center",
          "xref": "paper",
          "y": 0.4,
          "yanchor": "bottom",
          "yref": "paper"
         }
        ],
        "height": 500,
        "hoverlabel": {
         "bgcolor": "white",
         "font": {
          "family": "Rockwell",
          "size": 16
         }
        },
        "showlegend": false,
        "template": {
         "data": {
          "bar": [
           {
            "error_x": {
             "color": "#2a3f5f"
            },
            "error_y": {
             "color": "#2a3f5f"
            },
            "marker": {
             "line": {
              "color": "white",
              "width": 0.5
             },
             "pattern": {
              "fillmode": "overlay",
              "size": 10,
              "solidity": 0.2
             }
            },
            "type": "bar"
           }
          ],
          "barpolar": [
           {
            "marker": {
             "line": {
              "color": "white",
              "width": 0.5
             },
             "pattern": {
              "fillmode": "overlay",
              "size": 10,
              "solidity": 0.2
             }
            },
            "type": "barpolar"
           }
          ],
          "carpet": [
           {
            "aaxis": {
             "endlinecolor": "#2a3f5f",
             "gridcolor": "#C8D4E3",
             "linecolor": "#C8D4E3",
             "minorgridcolor": "#C8D4E3",
             "startlinecolor": "#2a3f5f"
            },
            "baxis": {
             "endlinecolor": "#2a3f5f",
             "gridcolor": "#C8D4E3",
             "linecolor": "#C8D4E3",
             "minorgridcolor": "#C8D4E3",
             "startlinecolor": "#2a3f5f"
            },
            "type": "carpet"
           }
          ],
          "choropleth": [
           {
            "colorbar": {
             "outlinewidth": 0,
             "ticks": ""
            },
            "type": "choropleth"
           }
          ],
          "contour": [
           {
            "colorbar": {
             "outlinewidth": 0,
             "ticks": ""
            },
            "colorscale": [
             [
              0,
              "#0d0887"
             ],
             [
              0.1111111111111111,
              "#46039f"
             ],
             [
              0.2222222222222222,
              "#7201a8"
             ],
             [
              0.3333333333333333,
              "#9c179e"
             ],
             [
              0.4444444444444444,
              "#bd3786"
             ],
             [
              0.5555555555555556,
              "#d8576b"
             ],
             [
              0.6666666666666666,
              "#ed7953"
             ],
             [
              0.7777777777777778,
              "#fb9f3a"
             ],
             [
              0.8888888888888888,
              "#fdca26"
             ],
             [
              1,
              "#f0f921"
             ]
            ],
            "type": "contour"
           }
          ],
          "contourcarpet": [
           {
            "colorbar": {
             "outlinewidth": 0,
             "ticks": ""
            },
            "type": "contourcarpet"
           }
          ],
          "heatmap": [
           {
            "colorbar": {
             "outlinewidth": 0,
             "ticks": ""
            },
            "colorscale": [
             [
              0,
              "#0d0887"
             ],
             [
              0.1111111111111111,
              "#46039f"
             ],
             [
              0.2222222222222222,
              "#7201a8"
             ],
             [
              0.3333333333333333,
              "#9c179e"
             ],
             [
              0.4444444444444444,
              "#bd3786"
             ],
             [
              0.5555555555555556,
              "#d8576b"
             ],
             [
              0.6666666666666666,
              "#ed7953"
             ],
             [
              0.7777777777777778,
              "#fb9f3a"
             ],
             [
              0.8888888888888888,
              "#fdca26"
             ],
             [
              1,
              "#f0f921"
             ]
            ],
            "type": "heatmap"
           }
          ],
          "histogram": [
           {
            "marker": {
             "pattern": {
              "fillmode": "overlay",
              "size": 10,
              "solidity": 0.2
             }
            },
            "type": "histogram"
           }
          ],
          "histogram2d": [
           {
            "colorbar": {
             "outlinewidth": 0,
             "ticks": ""
            },
            "colorscale": [
             [
              0,
              "#0d0887"
             ],
             [
              0.1111111111111111,
              "#46039f"
             ],
             [
              0.2222222222222222,
              "#7201a8"
             ],
             [
              0.3333333333333333,
              "#9c179e"
             ],
             [
              0.4444444444444444,
              "#bd3786"
             ],
             [
              0.5555555555555556,
              "#d8576b"
             ],
             [
              0.6666666666666666,
              "#ed7953"
             ],
             [
              0.7777777777777778,
              "#fb9f3a"
             ],
             [
              0.8888888888888888,
              "#fdca26"
             ],
             [
              1,
              "#f0f921"
             ]
            ],
            "type": "histogram2d"
           }
          ],
          "histogram2dcontour": [
           {
            "colorbar": {
             "outlinewidth": 0,
             "ticks": ""
            },
            "colorscale": [
             [
              0,
              "#0d0887"
             ],
             [
              0.1111111111111111,
              "#46039f"
             ],
             [
              0.2222222222222222,
              "#7201a8"
             ],
             [
              0.3333333333333333,
              "#9c179e"
             ],
             [
              0.4444444444444444,
              "#bd3786"
             ],
             [
              0.5555555555555556,
              "#d8576b"
             ],
             [
              0.6666666666666666,
              "#ed7953"
             ],
             [
              0.7777777777777778,
              "#fb9f3a"
             ],
             [
              0.8888888888888888,
              "#fdca26"
             ],
             [
              1,
              "#f0f921"
             ]
            ],
            "type": "histogram2dcontour"
           }
          ],
          "mesh3d": [
           {
            "colorbar": {
             "outlinewidth": 0,
             "ticks": ""
            },
            "type": "mesh3d"
           }
          ],
          "parcoords": [
           {
            "line": {
             "colorbar": {
              "outlinewidth": 0,
              "ticks": ""
             }
            },
            "type": "parcoords"
           }
          ],
          "pie": [
           {
            "automargin": true,
            "type": "pie"
           }
          ],
          "scatter": [
           {
            "fillpattern": {
             "fillmode": "overlay",
             "size": 10,
             "solidity": 0.2
            },
            "type": "scatter"
           }
          ],
          "scatter3d": [
           {
            "line": {
             "colorbar": {
              "outlinewidth": 0,
              "ticks": ""
             }
            },
            "marker": {
             "colorbar": {
              "outlinewidth": 0,
              "ticks": ""
             }
            },
            "type": "scatter3d"
           }
          ],
          "scattercarpet": [
           {
            "marker": {
             "colorbar": {
              "outlinewidth": 0,
              "ticks": ""
             }
            },
            "type": "scattercarpet"
           }
          ],
          "scattergeo": [
           {
            "marker": {
             "colorbar": {
              "outlinewidth": 0,
              "ticks": ""
             }
            },
            "type": "scattergeo"
           }
          ],
          "scattergl": [
           {
            "marker": {
             "colorbar": {
              "outlinewidth": 0,
              "ticks": ""
             }
            },
            "type": "scattergl"
           }
          ],
          "scattermap": [
           {
            "marker": {
             "colorbar": {
              "outlinewidth": 0,
              "ticks": ""
             }
            },
            "type": "scattermap"
           }
          ],
          "scattermapbox": [
           {
            "marker": {
             "colorbar": {
              "outlinewidth": 0,
              "ticks": ""
             }
            },
            "type": "scattermapbox"
           }
          ],
          "scatterpolar": [
           {
            "marker": {
             "colorbar": {
              "outlinewidth": 0,
              "ticks": ""
             }
            },
            "type": "scatterpolar"
           }
          ],
          "scatterpolargl": [
           {
            "marker": {
             "colorbar": {
              "outlinewidth": 0,
              "ticks": ""
             }
            },
            "type": "scatterpolargl"
           }
          ],
          "scatterternary": [
           {
            "marker": {
             "colorbar": {
              "outlinewidth": 0,
              "ticks": ""
             }
            },
            "type": "scatterternary"
           }
          ],
          "surface": [
           {
            "colorbar": {
             "outlinewidth": 0,
             "ticks": ""
            },
            "colorscale": [
             [
              0,
              "#0d0887"
             ],
             [
              0.1111111111111111,
              "#46039f"
             ],
             [
              0.2222222222222222,
              "#7201a8"
             ],
             [
              0.3333333333333333,
              "#9c179e"
             ],
             [
              0.4444444444444444,
              "#bd3786"
             ],
             [
              0.5555555555555556,
              "#d8576b"
             ],
             [
              0.6666666666666666,
              "#ed7953"
             ],
             [
              0.7777777777777778,
              "#fb9f3a"
             ],
             [
              0.8888888888888888,
              "#fdca26"
             ],
             [
              1,
              "#f0f921"
             ]
            ],
            "type": "surface"
           }
          ],
          "table": [
           {
            "cells": {
             "fill": {
              "color": "#EBF0F8"
             },
             "line": {
              "color": "white"
             }
            },
            "header": {
             "fill": {
              "color": "#C8D4E3"
             },
             "line": {
              "color": "white"
             }
            },
            "type": "table"
           }
          ]
         },
         "layout": {
          "annotationdefaults": {
           "arrowcolor": "#2a3f5f",
           "arrowhead": 0,
           "arrowwidth": 1
          },
          "autotypenumbers": "strict",
          "coloraxis": {
           "colorbar": {
            "outlinewidth": 0,
            "ticks": ""
           }
          },
          "colorscale": {
           "diverging": [
            [
             0,
             "#8e0152"
            ],
            [
             0.1,
             "#c51b7d"
            ],
            [
             0.2,
             "#de77ae"
            ],
            [
             0.3,
             "#f1b6da"
            ],
            [
             0.4,
             "#fde0ef"
            ],
            [
             0.5,
             "#f7f7f7"
            ],
            [
             0.6,
             "#e6f5d0"
            ],
            [
             0.7,
             "#b8e186"
            ],
            [
             0.8,
             "#7fbc41"
            ],
            [
             0.9,
             "#4d9221"
            ],
            [
             1,
             "#276419"
            ]
           ],
           "sequential": [
            [
             0,
             "#0d0887"
            ],
            [
             0.1111111111111111,
             "#46039f"
            ],
            [
             0.2222222222222222,
             "#7201a8"
            ],
            [
             0.3333333333333333,
             "#9c179e"
            ],
            [
             0.4444444444444444,
             "#bd3786"
            ],
            [
             0.5555555555555556,
             "#d8576b"
            ],
            [
             0.6666666666666666,
             "#ed7953"
            ],
            [
             0.7777777777777778,
             "#fb9f3a"
            ],
            [
             0.8888888888888888,
             "#fdca26"
            ],
            [
             1,
             "#f0f921"
            ]
           ],
           "sequentialminus": [
            [
             0,
             "#0d0887"
            ],
            [
             0.1111111111111111,
             "#46039f"
            ],
            [
             0.2222222222222222,
             "#7201a8"
            ],
            [
             0.3333333333333333,
             "#9c179e"
            ],
            [
             0.4444444444444444,
             "#bd3786"
            ],
            [
             0.5555555555555556,
             "#d8576b"
            ],
            [
             0.6666666666666666,
             "#ed7953"
            ],
            [
             0.7777777777777778,
             "#fb9f3a"
            ],
            [
             0.8888888888888888,
             "#fdca26"
            ],
            [
             1,
             "#f0f921"
            ]
           ]
          },
          "colorway": [
           "#636efa",
           "#EF553B",
           "#00cc96",
           "#ab63fa",
           "#FFA15A",
           "#19d3f3",
           "#FF6692",
           "#B6E880",
           "#FF97FF",
           "#FECB52"
          ],
          "font": {
           "color": "#2a3f5f"
          },
          "geo": {
           "bgcolor": "white",
           "lakecolor": "white",
           "landcolor": "white",
           "showlakes": true,
           "showland": true,
           "subunitcolor": "#C8D4E3"
          },
          "hoverlabel": {
           "align": "left"
          },
          "hovermode": "closest",
          "mapbox": {
           "style": "light"
          },
          "paper_bgcolor": "white",
          "plot_bgcolor": "white",
          "polar": {
           "angularaxis": {
            "gridcolor": "#EBF0F8",
            "linecolor": "#EBF0F8",
            "ticks": ""
           },
           "bgcolor": "white",
           "radialaxis": {
            "gridcolor": "#EBF0F8",
            "linecolor": "#EBF0F8",
            "ticks": ""
           }
          },
          "scene": {
           "xaxis": {
            "backgroundcolor": "white",
            "gridcolor": "#DFE8F3",
            "gridwidth": 2,
            "linecolor": "#EBF0F8",
            "showbackground": true,
            "ticks": "",
            "zerolinecolor": "#EBF0F8"
           },
           "yaxis": {
            "backgroundcolor": "white",
            "gridcolor": "#DFE8F3",
            "gridwidth": 2,
            "linecolor": "#EBF0F8",
            "showbackground": true,
            "ticks": "",
            "zerolinecolor": "#EBF0F8"
           },
           "zaxis": {
            "backgroundcolor": "white",
            "gridcolor": "#DFE8F3",
            "gridwidth": 2,
            "linecolor": "#EBF0F8",
            "showbackground": true,
            "ticks": "",
            "zerolinecolor": "#EBF0F8"
           }
          },
          "shapedefaults": {
           "line": {
            "color": "#2a3f5f"
           }
          },
          "ternary": {
           "aaxis": {
            "gridcolor": "#DFE8F3",
            "linecolor": "#A2B1C6",
            "ticks": ""
           },
           "baxis": {
            "gridcolor": "#DFE8F3",
            "linecolor": "#A2B1C6",
            "ticks": ""
           },
           "bgcolor": "white",
           "caxis": {
            "gridcolor": "#DFE8F3",
            "linecolor": "#A2B1C6",
            "ticks": ""
           }
          },
          "title": {
           "x": 0.05
          },
          "xaxis": {
           "automargin": true,
           "gridcolor": "#EBF0F8",
           "linecolor": "#EBF0F8",
           "ticks": "",
           "title": {
            "standoff": 15
           },
           "zerolinecolor": "#EBF0F8",
           "zerolinewidth": 2
          },
          "yaxis": {
           "automargin": true,
           "gridcolor": "#EBF0F8",
           "linecolor": "#EBF0F8",
           "ticks": "",
           "title": {
            "standoff": 15
           },
           "zerolinecolor": "#EBF0F8",
           "zerolinewidth": 2
          }
         }
        },
        "title": {
         "font": {
          "color": "Black",
          "size": 22
         },
         "text": "Topic Word Scores",
         "x": 0.5,
         "xanchor": "center",
         "yanchor": "top"
        },
        "width": 1000,
        "xaxis": {
         "anchor": "y",
         "domain": [
          0,
          0.175
         ],
         "showgrid": true
        },
        "xaxis2": {
         "anchor": "y2",
         "domain": [
          0.275,
          0.45
         ],
         "showgrid": true
        },
        "xaxis3": {
         "anchor": "y3",
         "domain": [
          0.55,
          0.7250000000000001
         ],
         "showgrid": true
        },
        "xaxis4": {
         "anchor": "y4",
         "domain": [
          0.825,
          1
         ],
         "showgrid": true
        },
        "xaxis5": {
         "anchor": "y5",
         "domain": [
          0,
          0.175
         ],
         "showgrid": true
        },
        "xaxis6": {
         "anchor": "y6",
         "domain": [
          0.275,
          0.45
         ],
         "showgrid": true
        },
        "xaxis7": {
         "anchor": "y7",
         "domain": [
          0.55,
          0.7250000000000001
         ],
         "showgrid": true
        },
        "xaxis8": {
         "anchor": "y8",
         "domain": [
          0.825,
          1
         ],
         "showgrid": true
        },
        "yaxis": {
         "anchor": "x",
         "domain": [
          0.6000000000000001,
          1
         ],
         "showgrid": true
        },
        "yaxis2": {
         "anchor": "x2",
         "domain": [
          0.6000000000000001,
          1
         ],
         "showgrid": true
        },
        "yaxis3": {
         "anchor": "x3",
         "domain": [
          0.6000000000000001,
          1
         ],
         "showgrid": true
        },
        "yaxis4": {
         "anchor": "x4",
         "domain": [
          0.6000000000000001,
          1
         ],
         "showgrid": true
        },
        "yaxis5": {
         "anchor": "x5",
         "domain": [
          0,
          0.4
         ],
         "showgrid": true
        },
        "yaxis6": {
         "anchor": "x6",
         "domain": [
          0,
          0.4
         ],
         "showgrid": true
        },
        "yaxis7": {
         "anchor": "x7",
         "domain": [
          0,
          0.4
         ],
         "showgrid": true
        },
        "yaxis8": {
         "anchor": "x8",
         "domain": [
          0,
          0.4
         ],
         "showgrid": true
        }
       }
      }
     },
     "metadata": {},
     "output_type": "display_data"
    }
   ],
   "source": [
    "topic_model.visualize_barchart()"
   ]
  },
  {
   "cell_type": "code",
   "execution_count": 7,
   "id": "8a05dd20",
   "metadata": {},
   "outputs": [
    {
     "data": {
      "application/vnd.plotly.v1+json": {
       "config": {
        "plotlyServerURL": "https://plot.ly"
       },
       "data": [
        {
         "hoverinfo": "text",
         "marker": {
          "color": "rgb(61,153,112)"
         },
         "mode": "lines",
         "type": "scatter",
         "x": {
          "bdata": "AAAAAAAAAABAlYfkp4vNP0CVh+Sni80/AAAAAAAAAAA=",
          "dtype": "f8"
         },
         "xaxis": "x",
         "y": {
          "bdata": "AAAAAAAAFMAAAAAAAAAUwAAAAAAAAC7AAAAAAAAALsA=",
          "dtype": "f8"
         },
         "yaxis": "y"
        },
        {
         "hoverinfo": "text",
         "marker": {
          "color": "rgb(255,65,54)"
         },
         "mode": "lines",
         "type": "scatter",
         "x": {
          "bdata": "AAAAAAAAAACcKExMdl7sP5woTEx2Xuw/AAAAAAAAAAA=",
          "dtype": "f8"
         },
         "xaxis": "x",
         "y": {
          "bdata": "AAAAAAAAOcAAAAAAAAA5wAAAAAAAgEHAAAAAAACAQcA=",
          "dtype": "f8"
         },
         "yaxis": "y"
        },
        {
         "hoverinfo": "text",
         "marker": {
          "color": "rgb(255,65,54)"
         },
         "mode": "lines",
         "type": "scatter",
         "x": {
          "bdata": "nChMTHZe7D8MRBOhcmDtPwxEE6FyYO0/AAAAAAAAAAA=",
          "dtype": "f8"
         },
         "xaxis": "x",
         "y": {
          "bdata": "AAAAAAAAPsAAAAAAAAA+wAAAAAAAgEbAAAAAAACARsA=",
          "dtype": "f8"
         },
         "yaxis": "y"
        },
        {
         "hoverinfo": "text",
         "marker": {
          "color": "rgb(35,205,205)"
         },
         "mode": "lines",
         "type": "scatter",
         "x": {
          "bdata": "AAAAAAAAAABoZXWIyGXgP2hldYjIZeA/AAAAAAAAAAA=",
          "dtype": "f8"
         },
         "xaxis": "x",
         "y": {
          "bdata": "AAAAAABAUMAAAAAAAEBQwAAAAAAAwFLAAAAAAADAUsA=",
          "dtype": "f8"
         },
         "yaxis": "y"
        },
        {
         "hoverinfo": "text",
         "marker": {
          "color": "rgb(35,205,205)"
         },
         "mode": "lines",
         "type": "scatter",
         "x": {
          "bdata": "AAAAAAAAAABAooFGnYnqP0CigUadieo/aGV1iMhl4D8=",
          "dtype": "f8"
         },
         "xaxis": "x",
         "y": {
          "bdata": "AAAAAACAS8AAAAAAAIBLwAAAAAAAgFHAAAAAAACAUcA=",
          "dtype": "f8"
         },
         "yaxis": "y"
        },
        {
         "hoverinfo": "text",
         "marker": {
          "color": "rgb(35,205,205)"
         },
         "mode": "lines",
         "type": "scatter",
         "x": {
          "bdata": "AAAAAAAAAABq+duNI8jqP2r5240jyOo/AAAAAAAAAAA=",
          "dtype": "f8"
         },
         "xaxis": "x",
         "y": {
          "bdata": "AAAAAABAVcAAAAAAAEBVwAAAAAAAwFfAAAAAAADAV8A=",
          "dtype": "f8"
         },
         "yaxis": "y"
        },
        {
         "hoverinfo": "text",
         "marker": {
          "color": "rgb(35,205,205)"
         },
         "mode": "lines",
         "type": "scatter",
         "x": {
          "bdata": "QKKBRp2J6j/drTe2HN/rP92tN7Yc3+s/avnbjSPI6j8=",
          "dtype": "f8"
         },
         "xaxis": "x",
         "y": {
          "bdata": "AAAAAABAT8AAAAAAAEBPwAAAAAAAgFbAAAAAAACAVsA=",
          "dtype": "f8"
         },
         "yaxis": "y"
        },
        {
         "hoverinfo": "text",
         "marker": {
          "color": "rgb(0,116,217)"
         },
         "mode": "lines",
         "type": "scatter",
         "x": {
          "bdata": "DEQToXJg7T+enhKisbnwP56eEqKxufA/3a03thzf6z8=",
          "dtype": "f8"
         },
         "xaxis": "x",
         "y": {
          "bdata": "AAAAAADAQsAAAAAAAMBCwAAAAAAAEFPAAAAAAAAQU8A=",
          "dtype": "f8"
         },
         "yaxis": "y"
        },
        {
         "hoverinfo": "text",
         "marker": {
          "color": "rgb(133,20,75)"
         },
         "mode": "lines",
         "type": "scatter",
         "x": {
          "bdata": "AAAAAAAAAAB6C7qGlGHrP3oLuoaUYes/AAAAAAAAAAA=",
          "dtype": "f8"
         },
         "xaxis": "x",
         "y": {
          "bdata": "AAAAAABAWsAAAAAAAEBawAAAAAAAwFzAAAAAAADAXMA=",
          "dtype": "f8"
         },
         "yaxis": "y"
        },
        {
         "hoverinfo": "text",
         "marker": {
          "color": "rgb(133,20,75)"
         },
         "mode": "lines",
         "type": "scatter",
         "x": {
          "bdata": "egu6hpRh6z/Lf3jlrUXsP8t/eOWtRew/AAAAAAAAAAA=",
          "dtype": "f8"
         },
         "xaxis": "x",
         "y": {
          "bdata": "AAAAAACAW8AAAAAAAIBbwAAAAAAAQF/AAAAAAABAX8A=",
          "dtype": "f8"
         },
         "yaxis": "y"
        },
        {
         "hoverinfo": "text",
         "marker": {
          "color": "rgb(0,116,217)"
         },
         "mode": "lines",
         "type": "scatter",
         "x": {
          "bdata": "np4SorG58D8gnakuXEbxPyCdqS5cRvE/y3945a1F7D8=",
          "dtype": "f8"
         },
         "xaxis": "x",
         "y": {
          "bdata": "AAAAAABwTMAAAAAAAHBMwAAAAAAAYF3AAAAAAABgXcA=",
          "dtype": "f8"
         },
         "yaxis": "y"
        },
        {
         "hoverinfo": "text",
         "marker": {
          "color": "rgb(255,220,0)"
         },
         "mode": "lines",
         "type": "scatter",
         "x": {
          "bdata": "AAAAAAAAAAAScPitgxLqPxJw+K2DEuo/AAAAAAAAAAA=",
          "dtype": "f8"
         },
         "xaxis": "x",
         "y": {
          "bdata": "AAAAAADgYMAAAAAAAOBgwAAAAAAAIGLAAAAAAAAgYsA=",
          "dtype": "f8"
         },
         "yaxis": "y"
        },
        {
         "hoverinfo": "text",
         "marker": {
          "color": "rgb(255,220,0)"
         },
         "mode": "lines",
         "type": "scatter",
         "x": {
          "bdata": "AAAAAAAAAAAlL8rpiEXsPyUvyumIRew/AAAAAAAAAAA=",
          "dtype": "f8"
         },
         "xaxis": "x",
         "y": {
          "bdata": "AAAAAABgY8AAAAAAAGBjwAAAAAAAoGTAAAAAAACgZMA=",
          "dtype": "f8"
         },
         "yaxis": "y"
        },
        {
         "hoverinfo": "text",
         "marker": {
          "color": "rgb(255,220,0)"
         },
         "mode": "lines",
         "type": "scatter",
         "x": {
          "bdata": "EnD4rYMS6j8YLj8hPnvvPxguPyE+e+8/JS/K6YhF7D8=",
          "dtype": "f8"
         },
         "xaxis": "x",
         "y": {
          "bdata": "AAAAAACAYcAAAAAAAIBhwAAAAAAAAGTAAAAAAAAAZMA=",
          "dtype": "f8"
         },
         "yaxis": "y"
        },
        {
         "hoverinfo": "text",
         "marker": {
          "color": "rgb(0,116,217)"
         },
         "mode": "lines",
         "type": "scatter",
         "x": {
          "bdata": "IJ2pLlxG8T/aIKm9B83xP9ogqb0HzfE/GC4/IT577z8=",
          "dtype": "f8"
         },
         "xaxis": "x",
         "y": {
          "bdata": "AAAAAADMVcAAAAAAAMxVwAAAAAAAwGLAAAAAAADAYsA=",
          "dtype": "f8"
         },
         "yaxis": "y"
        },
        {
         "hoverinfo": "text",
         "marker": {
          "color": "rgb(40,35,35)"
         },
         "mode": "lines",
         "type": "scatter",
         "x": {
          "bdata": "AAAAAAAAAAAE4EI55qrtPwTgQjnmqu0/AAAAAAAAAAA=",
          "dtype": "f8"
         },
         "xaxis": "x",
         "y": {
          "bdata": "AAAAAAAgZ8AAAAAAACBnwAAAAAAAYGjAAAAAAABgaMA=",
          "dtype": "f8"
         },
         "yaxis": "y"
        },
        {
         "hoverinfo": "text",
         "marker": {
          "color": "rgb(40,35,35)"
         },
         "mode": "lines",
         "type": "scatter",
         "x": {
          "bdata": "AAAAAAAAAACPZVbKWKTuP49lVspYpO4/BOBCOeaq7T8=",
          "dtype": "f8"
         },
         "xaxis": "x",
         "y": {
          "bdata": "AAAAAADgZcAAAAAAAOBlwAAAAAAAwGfAAAAAAADAZ8A=",
          "dtype": "f8"
         },
         "yaxis": "y"
        },
        {
         "hoverinfo": "text",
         "marker": {
          "color": "rgb(61,153,112)"
         },
         "mode": "lines",
         "type": "scatter",
         "x": {
          "bdata": "AAAAAAAAAABXr9C6WFDrP1ev0LpYUOs/AAAAAAAAAAA=",
          "dtype": "f8"
         },
         "xaxis": "x",
         "y": {
          "bdata": "AAAAAACgacAAAAAAAKBpwAAAAAAA4GrAAAAAAADgasA=",
          "dtype": "f8"
         },
         "yaxis": "y"
        },
        {
         "hoverinfo": "text",
         "marker": {
          "color": "rgb(0,116,217)"
         },
         "mode": "lines",
         "type": "scatter",
         "x": {
          "bdata": "j2VWylik7j/4VoAFb1bwP/hWgAVvVvA/V6/QulhQ6z8=",
          "dtype": "f8"
         },
         "xaxis": "x",
         "y": {
          "bdata": "AAAAAADQZsAAAAAAANBmwAAAAAAAQGrAAAAAAABAasA=",
          "dtype": "f8"
         },
         "yaxis": "y"
        },
        {
         "hoverinfo": "text",
         "marker": {
          "color": "rgb(255,65,54)"
         },
         "mode": "lines",
         "type": "scatter",
         "x": {
          "bdata": "AAAAAAAAAABod/jRBAfvP2h3+NEEB+8/AAAAAAAAAAA=",
          "dtype": "f8"
         },
         "xaxis": "x",
         "y": {
          "bdata": "AAAAAAAgbMAAAAAAACBswAAAAAAAYG3AAAAAAABgbcA=",
          "dtype": "f8"
         },
         "yaxis": "y"
        },
        {
         "hoverinfo": "text",
         "marker": {
          "color": "rgb(255,65,54)"
         },
         "mode": "lines",
         "type": "scatter",
         "x": {
          "bdata": "AAAAAAAAAACn2WyWmX7tP6fZbJaZfu0/AAAAAAAAAAA=",
          "dtype": "f8"
         },
         "xaxis": "x",
         "y": {
          "bdata": "AAAAAACgbsAAAAAAAKBuwAAAAAAA4G/AAAAAAADgb8A=",
          "dtype": "f8"
         },
         "yaxis": "y"
        },
        {
         "hoverinfo": "text",
         "marker": {
          "color": "rgb(255,65,54)"
         },
         "mode": "lines",
         "type": "scatter",
         "x": {
          "bdata": "p9lslpl+7T8lm/hXH0HuPyWb+FcfQe4/AAAAAAAAAAA=",
          "dtype": "f8"
         },
         "xaxis": "x",
         "y": {
          "bdata": "AAAAAABAb8AAAAAAAEBvwAAAAAAAkHDAAAAAAACQcMA=",
          "dtype": "f8"
         },
         "yaxis": "y"
        },
        {
         "hoverinfo": "text",
         "marker": {
          "color": "rgb(255,65,54)"
         },
         "mode": "lines",
         "type": "scatter",
         "x": {
          "bdata": "aHf40QQH7z+5hlb7B/PvP7mGVvsH8+8/JZv4Vx9B7j8=",
          "dtype": "f8"
         },
         "xaxis": "x",
         "y": {
          "bdata": "AAAAAADAbMAAAAAAAMBswAAAAAAAGHDAAAAAAAAYcMA=",
          "dtype": "f8"
         },
         "yaxis": "y"
        },
        {
         "hoverinfo": "text",
         "marker": {
          "color": "rgb(35,205,205)"
         },
         "mode": "lines",
         "type": "scatter",
         "x": {
          "bdata": "AAAAAAAAAAAftrG+6AvtPx+2sb7oC+0/AAAAAAAAAAA=",
          "dtype": "f8"
         },
         "xaxis": "x",
         "y": {
          "bdata": "AAAAAAAwccAAAAAAADBxwAAAAAAA0HHAAAAAAADQccA=",
          "dtype": "f8"
         },
         "yaxis": "y"
        },
        {
         "hoverinfo": "text",
         "marker": {
          "color": "rgb(35,205,205)"
         },
         "mode": "lines",
         "type": "scatter",
         "x": {
          "bdata": "AAAAAAAAAADoBtVTUInsP+gG1VNQiew/AAAAAAAAAAA=",
          "dtype": "f8"
         },
         "xaxis": "x",
         "y": {
          "bdata": "AAAAAAAQc8AAAAAAABBzwAAAAAAAsHPAAAAAAACwc8A=",
          "dtype": "f8"
         },
         "yaxis": "y"
        },
        {
         "hoverinfo": "text",
         "marker": {
          "color": "rgb(35,205,205)"
         },
         "mode": "lines",
         "type": "scatter",
         "x": {
          "bdata": "AAAAAAAAAADOElVMPsztP84SVUw+zO0/6AbVU1CJ7D8=",
          "dtype": "f8"
         },
         "xaxis": "x",
         "y": {
          "bdata": "AAAAAABwcsAAAAAAAHBywAAAAAAAYHPAAAAAAABgc8A=",
          "dtype": "f8"
         },
         "yaxis": "y"
        },
        {
         "hoverinfo": "text",
         "marker": {
          "color": "rgb(35,205,205)"
         },
         "mode": "lines",
         "type": "scatter",
         "x": {
          "bdata": "H7axvugL7T9drb/ly0HuP12tv+XLQe4/zhJVTD7M7T8=",
          "dtype": "f8"
         },
         "xaxis": "x",
         "y": {
          "bdata": "AAAAAACAccAAAAAAAIBxwAAAAAAA6HLAAAAAAADocsA=",
          "dtype": "f8"
         },
         "yaxis": "y"
        },
        {
         "hoverinfo": "text",
         "marker": {
          "color": "rgb(61,153,112)"
         },
         "mode": "lines",
         "type": "scatter",
         "x": {
          "bdata": "AAAAAAAAAACG21fcqvHtP4bbV9yq8e0/AAAAAAAAAAA=",
          "dtype": "f8"
         },
         "xaxis": "x",
         "y": {
          "bdata": "AAAAAABQdMAAAAAAAFB0wAAAAAAA8HTAAAAAAADwdMA=",
          "dtype": "f8"
         },
         "yaxis": "y"
        },
        {
         "hoverinfo": "text",
         "marker": {
          "color": "rgb(0,116,217)"
         },
         "mode": "lines",
         "type": "scatter",
         "x": {
          "bdata": "Xa2/5ctB7j8jcdej3gPwPyNx16PeA/A/httX3Krx7T8=",
          "dtype": "f8"
         },
         "xaxis": "x",
         "y": {
          "bdata": "AAAAAAA0csAAAAAAADRywAAAAAAAoHTAAAAAAACgdMA=",
          "dtype": "f8"
         },
         "yaxis": "y"
        },
        {
         "hoverinfo": "text",
         "marker": {
          "color": "rgb(0,116,217)"
         },
         "mode": "lines",
         "type": "scatter",
         "x": {
          "bdata": "uYZW+wfz7z/7NI7zjI7wP/s0jvOMjvA/I3HXo94D8D8=",
          "dtype": "f8"
         },
         "xaxis": "x",
         "y": {
          "bdata": "AAAAAAB4bsAAAAAAAHhuwAAAAAAAanPAAAAAAABqc8A=",
          "dtype": "f8"
         },
         "yaxis": "y"
        },
        {
         "hoverinfo": "text",
         "marker": {
          "color": "rgb(0,116,217)"
         },
         "mode": "lines",
         "type": "scatter",
         "x": {
          "bdata": "+FaABW9W8D+BUbm4u2HxP4FRubi7YfE/+zSO84yO8D8=",
          "dtype": "f8"
         },
         "xaxis": "x",
         "y": {
          "bdata": "AAAAAACIaMAAAAAAAIhowAAAAAAAU3HAAAAAAABTccA=",
          "dtype": "f8"
         },
         "yaxis": "y"
        },
        {
         "hoverinfo": "text",
         "marker": {
          "color": "rgb(255,65,54)"
         },
         "mode": "lines",
         "type": "scatter",
         "x": {
          "bdata": "AAAAAAAAAABjTb/Uv6HsP2NNv9S/oew/AAAAAAAAAAA=",
          "dtype": "f8"
         },
         "xaxis": "x",
         "y": {
          "bdata": "AAAAAACQdcAAAAAAAJB1wAAAAAAAMHbAAAAAAAAwdsA=",
          "dtype": "f8"
         },
         "yaxis": "y"
        },
        {
         "hoverinfo": "text",
         "marker": {
          "color": "rgb(35,205,205)"
         },
         "mode": "lines",
         "type": "scatter",
         "x": {
          "bdata": "AAAAAAAAAAAcBoN/ssntPxwGg3+yye0/AAAAAAAAAAA=",
          "dtype": "f8"
         },
         "xaxis": "x",
         "y": {
          "bdata": "AAAAAABwd8AAAAAAAHB3wAAAAAAAEHjAAAAAAAAQeMA=",
          "dtype": "f8"
         },
         "yaxis": "y"
        },
        {
         "hoverinfo": "text",
         "marker": {
          "color": "rgb(35,205,205)"
         },
         "mode": "lines",
         "type": "scatter",
         "x": {
          "bdata": "AAAAAAAAAADGAuL+fFruP8YC4v58Wu4/HAaDf7LJ7T8=",
          "dtype": "f8"
         },
         "xaxis": "x",
         "y": {
          "bdata": "AAAAAADQdsAAAAAAANB2wAAAAAAAwHfAAAAAAADAd8A=",
          "dtype": "f8"
         },
         "yaxis": "y"
        },
        {
         "hoverinfo": "text",
         "marker": {
          "color": "rgb(0,116,217)"
         },
         "mode": "lines",
         "type": "scatter",
         "x": {
          "bdata": "Y02/1L+h7D+m7L0fzDHwP6bsvR/MMfA/xgLi/nxa7j8=",
          "dtype": "f8"
         },
         "xaxis": "x",
         "y": {
          "bdata": "AAAAAADgdcAAAAAAAOB1wAAAAAAASHfAAAAAAABId8A=",
          "dtype": "f8"
         },
         "yaxis": "y"
        },
        {
         "hoverinfo": "text",
         "marker": {
          "color": "rgb(133,20,75)"
         },
         "mode": "lines",
         "type": "scatter",
         "x": {
          "bdata": "AAAAAAAAAAARh70eexnvPxGHvR57Ge8/AAAAAAAAAAA=",
          "dtype": "f8"
         },
         "xaxis": "x",
         "y": {
          "bdata": "AAAAAACweMAAAAAAALB4wAAAAAAAUHnAAAAAAABQecA=",
          "dtype": "f8"
         },
         "yaxis": "y"
        },
        {
         "hoverinfo": "text",
         "marker": {
          "color": "rgb(133,20,75)"
         },
         "mode": "lines",
         "type": "scatter",
         "x": {
          "bdata": "AAAAAAAAAAD89pff7wzuP/z2l9/vDO4/AAAAAAAAAAA=",
          "dtype": "f8"
         },
         "xaxis": "x",
         "y": {
          "bdata": "AAAAAADwecAAAAAAAPB5wAAAAAAAkHrAAAAAAACQesA=",
          "dtype": "f8"
         },
         "yaxis": "y"
        },
        {
         "hoverinfo": "text",
         "marker": {
          "color": "rgb(133,20,75)"
         },
         "mode": "lines",
         "type": "scatter",
         "x": {
          "bdata": "EYe9HnsZ7z/z+be1kFfvP/P5t7WQV+8//PaX3+8M7j8=",
          "dtype": "f8"
         },
         "xaxis": "x",
         "y": {
          "bdata": "AAAAAAAAecAAAAAAAAB5wAAAAAAAQHrAAAAAAABAesA=",
          "dtype": "f8"
         },
         "yaxis": "y"
        },
        {
         "hoverinfo": "text",
         "marker": {
          "color": "rgb(255,220,0)"
         },
         "mode": "lines",
         "type": "scatter",
         "x": {
          "bdata": "AAAAAAAAAAB9gEA7AnrsP32AQDsCeuw/AAAAAAAAAAA=",
          "dtype": "f8"
         },
         "xaxis": "x",
         "y": {
          "bdata": "AAAAAAAwe8AAAAAAADB7wAAAAAAA0HvAAAAAAADQe8A=",
          "dtype": "f8"
         },
         "yaxis": "y"
        },
        {
         "hoverinfo": "text",
         "marker": {
          "color": "rgb(0,116,217)"
         },
         "mode": "lines",
         "type": "scatter",
         "x": {
          "bdata": "8/m3tZBX7z9AkjGNdhfwP0CSMY12F/A/fYBAOwJ67D8=",
          "dtype": "f8"
         },
         "xaxis": "x",
         "y": {
          "bdata": "AAAAAACgecAAAAAAAKB5wAAAAAAAgHvAAAAAAACAe8A=",
          "dtype": "f8"
         },
         "yaxis": "y"
        },
        {
         "hoverinfo": "text",
         "marker": {
          "color": "rgb(40,35,35)"
         },
         "mode": "lines",
         "type": "scatter",
         "x": {
          "bdata": "AAAAAAAAAADfayq5SvbsP99rKrlK9uw/AAAAAAAAAAA=",
          "dtype": "f8"
         },
         "xaxis": "x",
         "y": {
          "bdata": "AAAAAAAQfcAAAAAAABB9wAAAAAAAsH3AAAAAAACwfcA=",
          "dtype": "f8"
         },
         "yaxis": "y"
        },
        {
         "hoverinfo": "text",
         "marker": {
          "color": "rgb(40,35,35)"
         },
         "mode": "lines",
         "type": "scatter",
         "x": {
          "bdata": "AAAAAAAAAAAEj7vyFoDuPwSPu/IWgO4/32squUr27D8=",
          "dtype": "f8"
         },
         "xaxis": "x",
         "y": {
          "bdata": "AAAAAABwfMAAAAAAAHB8wAAAAAAAYH3AAAAAAABgfcA=",
          "dtype": "f8"
         },
         "yaxis": "y"
        },
        {
         "hoverinfo": "text",
         "marker": {
          "color": "rgb(40,35,35)"
         },
         "mode": "lines",
         "type": "scatter",
         "x": {
          "bdata": "AAAAAAAAAABAcZH0IDXsP0BxkfQgNew/AAAAAAAAAAA=",
          "dtype": "f8"
         },
         "xaxis": "x",
         "y": {
          "bdata": "AAAAAABQfsAAAAAAAFB+wAAAAAAA8H7AAAAAAADwfsA=",
          "dtype": "f8"
         },
         "yaxis": "y"
        },
        {
         "hoverinfo": "text",
         "marker": {
          "color": "rgb(40,35,35)"
         },
         "mode": "lines",
         "type": "scatter",
         "x": {
          "bdata": "QHGR9CA17D+hd30Xtd7uP6F3fRe13u4/AAAAAAAAAAA=",
          "dtype": "f8"
         },
         "xaxis": "x",
         "y": {
          "bdata": "AAAAAACgfsAAAAAAAKB+wAAAAAAAkH/AAAAAAACQf8A=",
          "dtype": "f8"
         },
         "yaxis": "y"
        },
        {
         "hoverinfo": "text",
         "marker": {
          "color": "rgb(40,35,35)"
         },
         "mode": "lines",
         "type": "scatter",
         "x": {
          "bdata": "BI+78haA7j8gtQlQ9sXvPyC1CVD2xe8/oXd9F7Xe7j8=",
          "dtype": "f8"
         },
         "xaxis": "x",
         "y": {
          "bdata": "AAAAAADofMAAAAAAAOh8wAAAAAAAGH/AAAAAAAAYf8A=",
          "dtype": "f8"
         },
         "yaxis": "y"
        },
        {
         "hoverinfo": "text",
         "marker": {
          "color": "rgb(0,116,217)"
         },
         "mode": "lines",
         "type": "scatter",
         "x": {
          "bdata": "QJIxjXYX8D+WemJOcE7wP5Z6Yk5wTvA/ILUJUPbF7z8=",
          "dtype": "f8"
         },
         "xaxis": "x",
         "y": {
          "bdata": "AAAAAACQesAAAAAAAJB6wAAAAAAAAH7AAAAAAAAAfsA=",
          "dtype": "f8"
         },
         "yaxis": "y"
        },
        {
         "hoverinfo": "text",
         "marker": {
          "color": "rgb(0,116,217)"
         },
         "mode": "lines",
         "type": "scatter",
         "x": {
          "bdata": "puy9H8wx8D/D1eDdcbrwP8PV4N1xuvA/lnpiTnBO8D8=",
          "dtype": "f8"
         },
         "xaxis": "x",
         "y": {
          "bdata": "AAAAAACUdsAAAAAAAJR2wAAAAAAASHzAAAAAAABIfMA=",
          "dtype": "f8"
         },
         "yaxis": "y"
        },
        {
         "hoverinfo": "text",
         "marker": {
          "color": "rgb(0,116,217)"
         },
         "mode": "lines",
         "type": "scatter",
         "x": {
          "bdata": "gVG5uLth8T+XS7gtQqPxP5dLuC1Co/E/w9Xg3XG68D8=",
          "dtype": "f8"
         },
         "xaxis": "x",
         "y": {
          "bdata": "AAAAAACXbcAAAAAAAJdtwAAAAAAAbnnAAAAAAABuecA=",
          "dtype": "f8"
         },
         "yaxis": "y"
        },
        {
         "hoverinfo": "text",
         "marker": {
          "color": "rgb(61,153,112)"
         },
         "mode": "lines",
         "type": "scatter",
         "x": {
          "bdata": "AAAAAAAAAABe+DwypS3uP174PDKlLe4/AAAAAAAAAAA=",
          "dtype": "f8"
         },
         "xaxis": "x",
         "y": {
          "bdata": "AAAAAAAYgMAAAAAAABiAwAAAAAAAaIDAAAAAAABogMA=",
          "dtype": "f8"
         },
         "yaxis": "y"
        },
        {
         "hoverinfo": "text",
         "marker": {
          "color": "rgb(255,65,54)"
         },
         "mode": "lines",
         "type": "scatter",
         "x": {
          "bdata": "AAAAAAAAAAAIzZ+ibnLuPwjNn6Jucu4/AAAAAAAAAAA=",
          "dtype": "f8"
         },
         "xaxis": "x",
         "y": {
          "bdata": "AAAAAAC4gMAAAAAAALiAwAAAAAAACIHAAAAAAAAIgcA=",
          "dtype": "f8"
         },
         "yaxis": "y"
        },
        {
         "hoverinfo": "text",
         "marker": {
          "color": "rgb(35,205,205)"
         },
         "mode": "lines",
         "type": "scatter",
         "x": {
          "bdata": "AAAAAAAAAAA76MBv3ITtPzvowG/chO0/AAAAAAAAAAA=",
          "dtype": "f8"
         },
         "xaxis": "x",
         "y": {
          "bdata": "AAAAAABYgcAAAAAAAFiBwAAAAAAAqIHAAAAAAACogcA=",
          "dtype": "f8"
         },
         "yaxis": "y"
        },
        {
         "hoverinfo": "text",
         "marker": {
          "color": "rgb(0,116,217)"
         },
         "mode": "lines",
         "type": "scatter",
         "x": {
          "bdata": "CM2fom5y7j+PAG/kdWTwP48Ab+R1ZPA/O+jAb9yE7T8=",
          "dtype": "f8"
         },
         "xaxis": "x",
         "y": {
          "bdata": "AAAAAADggMAAAAAAAOCAwAAAAAAAgIHAAAAAAACAgcA=",
          "dtype": "f8"
         },
         "yaxis": "y"
        },
        {
         "hoverinfo": "text",
         "marker": {
          "color": "rgb(61,153,112)"
         },
         "mode": "lines",
         "type": "scatter",
         "x": {
          "bdata": "AAAAAAAAAAAdcTGeKwrtPx1xMZ4rCu0/AAAAAAAAAAA=",
          "dtype": "f8"
         },
         "xaxis": "x",
         "y": {
          "bdata": "AAAAAAD4gcAAAAAAAPiBwAAAAAAASILAAAAAAABIgsA=",
          "dtype": "f8"
         },
         "yaxis": "y"
        },
        {
         "hoverinfo": "text",
         "marker": {
          "color": "rgb(255,65,54)"
         },
         "mode": "lines",
         "type": "scatter",
         "x": {
          "bdata": "AAAAAAAAAADbyX1yb+HvP9vJfXJv4e8/AAAAAAAAAAA=",
          "dtype": "f8"
         },
         "xaxis": "x",
         "y": {
          "bdata": "AAAAAACYgsAAAAAAAJiCwAAAAAAA6ILAAAAAAADogsA=",
          "dtype": "f8"
         },
         "yaxis": "y"
        },
        {
         "hoverinfo": "text",
         "marker": {
          "color": "rgb(35,205,205)"
         },
         "mode": "lines",
         "type": "scatter",
         "x": {
          "bdata": "AAAAAAAAAACObz9Ir97vP45vP0iv3u8/AAAAAAAAAAA=",
          "dtype": "f8"
         },
         "xaxis": "x",
         "y": {
          "bdata": "AAAAAAA4g8AAAAAAADiDwAAAAAAAiIPAAAAAAACIg8A=",
          "dtype": "f8"
         },
         "yaxis": "y"
        },
        {
         "hoverinfo": "text",
         "marker": {
          "color": "rgb(35,205,205)"
         },
         "mode": "lines",
         "type": "scatter",
         "x": {
          "bdata": "jm8/SK/e7z+0aWFXl/bvP7RpYVeX9u8/AAAAAAAAAAA=",
          "dtype": "f8"
         },
         "xaxis": "x",
         "y": {
          "bdata": "AAAAAABgg8AAAAAAAGCDwAAAAAAA2IPAAAAAAADYg8A=",
          "dtype": "f8"
         },
         "yaxis": "y"
        },
        {
         "hoverinfo": "text",
         "marker": {
          "color": "rgb(0,116,217)"
         },
         "mode": "lines",
         "type": "scatter",
         "x": {
          "bdata": "28l9cm/h7z8xbtNG3QfwPzFu00bdB/A/tGlhV5f27z8=",
          "dtype": "f8"
         },
         "xaxis": "x",
         "y": {
          "bdata": "AAAAAADAgsAAAAAAAMCCwAAAAAAAnIPAAAAAAACcg8A=",
          "dtype": "f8"
         },
         "yaxis": "y"
        },
        {
         "hoverinfo": "text",
         "marker": {
          "color": "rgb(0,116,217)"
         },
         "mode": "lines",
         "type": "scatter",
         "x": {
          "bdata": "HXExnisK7T8tj5ojr4/wPy2PmiOvj/A/MW7TRt0H8D8=",
          "dtype": "f8"
         },
         "xaxis": "x",
         "y": {
          "bdata": "AAAAAAAggsAAAAAAACCCwAAAAAAALoPAAAAAAAAug8A=",
          "dtype": "f8"
         },
         "yaxis": "y"
        },
        {
         "hoverinfo": "text",
         "marker": {
          "color": "rgb(0,116,217)"
         },
         "mode": "lines",
         "type": "scatter",
         "x": {
          "bdata": "jwBv5HVk8D/zT42On77wP/NPjY6fvvA/LY+aI6+P8D8=",
          "dtype": "f8"
         },
         "xaxis": "x",
         "y": {
          "bdata": "AAAAAAAwgcAAAAAAADCBwAAAAAAAp4LAAAAAAACngsA=",
          "dtype": "f8"
         },
         "yaxis": "y"
        },
        {
         "hoverinfo": "text",
         "marker": {
          "color": "rgb(0,116,217)"
         },
         "mode": "lines",
         "type": "scatter",
         "x": {
          "bdata": "Xvg8MqUt7j+Du+dhXuHwP4O752Fe4fA/80+Njp++8D8=",
          "dtype": "f8"
         },
         "xaxis": "x",
         "y": {
          "bdata": "AAAAAABAgMAAAAAAAECAwAAAAACA64HAAAAAAIDrgcA=",
          "dtype": "f8"
         },
         "yaxis": "y"
        },
        {
         "hoverinfo": "text",
         "marker": {
          "color": "rgb(133,20,75)"
         },
         "mode": "lines",
         "type": "scatter",
         "x": {
          "bdata": "AAAAAAAAAAAwQCJkQCvuPzBAImRAK+4/AAAAAAAAAAA=",
          "dtype": "f8"
         },
         "xaxis": "x",
         "y": {
          "bdata": "AAAAAAB4hMAAAAAAAHiEwAAAAAAAyITAAAAAAADIhMA=",
          "dtype": "f8"
         },
         "yaxis": "y"
        },
        {
         "hoverinfo": "text",
         "marker": {
          "color": "rgb(133,20,75)"
         },
         "mode": "lines",
         "type": "scatter",
         "x": {
          "bdata": "MEAiZEAr7j8vsqNmxNfuPy+yo2bE1+4/AAAAAAAAAAA=",
          "dtype": "f8"
         },
         "xaxis": "x",
         "y": {
          "bdata": "AAAAAACghMAAAAAAAKCEwAAAAAAAGIXAAAAAAAAYhcA=",
          "dtype": "f8"
         },
         "yaxis": "y"
        },
        {
         "hoverinfo": "text",
         "marker": {
          "color": "rgb(133,20,75)"
         },
         "mode": "lines",
         "type": "scatter",
         "x": {
          "bdata": "AAAAAAAAAAA5WMhE+E7vPzlYyET4Tu8/L7KjZsTX7j8=",
          "dtype": "f8"
         },
         "xaxis": "x",
         "y": {
          "bdata": "AAAAAAAohMAAAAAAACiEwAAAAAAA3ITAAAAAAADchMA=",
          "dtype": "f8"
         },
         "yaxis": "y"
        },
        {
         "hoverinfo": "text",
         "marker": {
          "color": "rgb(255,220,0)"
         },
         "mode": "lines",
         "type": "scatter",
         "x": {
          "bdata": "AAAAAAAAAAAyWL5KhOjuPzJYvkqE6O4/AAAAAAAAAAA=",
          "dtype": "f8"
         },
         "xaxis": "x",
         "y": {
          "bdata": "AAAAAABohcAAAAAAAGiFwAAAAAAAuIXAAAAAAAC4hcA=",
          "dtype": "f8"
         },
         "yaxis": "y"
        },
        {
         "hoverinfo": "text",
         "marker": {
          "color": "rgb(255,220,0)"
         },
         "mode": "lines",
         "type": "scatter",
         "x": {
          "bdata": "AAAAAAAAAABR2UFkpKXuP1HZQWSkpe4/AAAAAAAAAAA=",
          "dtype": "f8"
         },
         "xaxis": "x",
         "y": {
          "bdata": "AAAAAAAIhsAAAAAAAAiGwAAAAAAAWIbAAAAAAABYhsA=",
          "dtype": "f8"
         },
         "yaxis": "y"
        },
        {
         "hoverinfo": "text",
         "marker": {
          "color": "rgb(255,220,0)"
         },
         "mode": "lines",
         "type": "scatter",
         "x": {
          "bdata": "Mli+SoTo7j9aYr+VzGzvP1piv5XMbO8/UdlBZKSl7j8=",
          "dtype": "f8"
         },
         "xaxis": "x",
         "y": {
          "bdata": "AAAAAACQhcAAAAAAAJCFwAAAAAAAMIbAAAAAAAAwhsA=",
          "dtype": "f8"
         },
         "yaxis": "y"
        },
        {
         "hoverinfo": "text",
         "marker": {
          "color": "rgb(40,35,35)"
         },
         "mode": "lines",
         "type": "scatter",
         "x": {
          "bdata": "AAAAAAAAAACLAOx8Ye/tP4sA7Hxh7+0/AAAAAAAAAAA=",
          "dtype": "f8"
         },
         "xaxis": "x",
         "y": {
          "bdata": "AAAAAACohsAAAAAAAKiGwAAAAAAA+IbAAAAAAAD4hsA=",
          "dtype": "f8"
         },
         "yaxis": "y"
        },
        {
         "hoverinfo": "text",
         "marker": {
          "color": "rgb(40,35,35)"
         },
         "mode": "lines",
         "type": "scatter",
         "x": {
          "bdata": "AAAAAAAAAACgBUaZG43tP6AFRpkbje0/AAAAAAAAAAA=",
          "dtype": "f8"
         },
         "xaxis": "x",
         "y": {
          "bdata": "AAAAAABIh8AAAAAAAEiHwAAAAAAAmIfAAAAAAACYh8A=",
          "dtype": "f8"
         },
         "yaxis": "y"
        },
        {
         "hoverinfo": "text",
         "marker": {
          "color": "rgb(40,35,35)"
         },
         "mode": "lines",
         "type": "scatter",
         "x": {
          "bdata": "iwDsfGHv7T8HNfc+Bn7uPwc19z4Gfu4/oAVGmRuN7T8=",
          "dtype": "f8"
         },
         "xaxis": "x",
         "y": {
          "bdata": "AAAAAADQhsAAAAAAANCGwAAAAAAAcIfAAAAAAABwh8A=",
          "dtype": "f8"
         },
         "yaxis": "y"
        },
        {
         "hoverinfo": "text",
         "marker": {
          "color": "rgb(40,35,35)"
         },
         "mode": "lines",
         "type": "scatter",
         "x": {
          "bdata": "BzX3PgZ+7j8jLIDn6YTvPyMsgOfphO8/AAAAAAAAAAA=",
          "dtype": "f8"
         },
         "xaxis": "x",
         "y": {
          "bdata": "AAAAAAAgh8AAAAAAACCHwAAAAAAA6IfAAAAAAADoh8A=",
          "dtype": "f8"
         },
         "yaxis": "y"
        },
        {
         "hoverinfo": "text",
         "marker": {
          "color": "rgb(0,116,217)"
         },
         "mode": "lines",
         "type": "scatter",
         "x": {
          "bdata": "WmK/lcxs7z+hgM8XcSvwP6GAzxdxK/A/IyyA5+mE7z8=",
          "dtype": "f8"
         },
         "xaxis": "x",
         "y": {
          "bdata": "AAAAAADghcAAAAAAAOCFwAAAAAAAhIfAAAAAAACEh8A=",
          "dtype": "f8"
         },
         "yaxis": "y"
        },
        {
         "hoverinfo": "text",
         "marker": {
          "color": "rgb(0,116,217)"
         },
         "mode": "lines",
         "type": "scatter",
         "x": {
          "bdata": "OVjIRPhO7z8cDiohOVXwPxwOKiE5VfA/oYDPF3Er8D8=",
          "dtype": "f8"
         },
         "xaxis": "x",
         "y": {
          "bdata": "AAAAAACChMAAAAAAAIKEwAAAAAAAsobAAAAAAACyhsA=",
          "dtype": "f8"
         },
         "yaxis": "y"
        },
        {
         "hoverinfo": "text",
         "marker": {
          "color": "rgb(61,153,112)"
         },
         "mode": "lines",
         "type": "scatter",
         "x": {
          "bdata": "AAAAAAAAAADxCYMIKADrP/EJgwgoAOs/AAAAAAAAAAA=",
          "dtype": "f8"
         },
         "xaxis": "x",
         "y": {
          "bdata": "AAAAAAA4iMAAAAAAADiIwAAAAAAAiIjAAAAAAACIiMA=",
          "dtype": "f8"
         },
         "yaxis": "y"
        },
        {
         "hoverinfo": "text",
         "marker": {
          "color": "rgb(61,153,112)"
         },
         "mode": "lines",
         "type": "scatter",
         "x": {
          "bdata": "8QmDCCgA6z/B8hziV8/tP8HyHOJXz+0/AAAAAAAAAAA=",
          "dtype": "f8"
         },
         "xaxis": "x",
         "y": {
          "bdata": "AAAAAABgiMAAAAAAAGCIwAAAAAAA2IjAAAAAAADYiMA=",
          "dtype": "f8"
         },
         "yaxis": "y"
        },
        {
         "hoverinfo": "text",
         "marker": {
          "color": "rgb(0,116,217)"
         },
         "mode": "lines",
         "type": "scatter",
         "x": {
          "bdata": "HA4qITlV8D+Ug0DGIPnwP5SDQMYg+fA/wfIc4lfP7T8=",
          "dtype": "f8"
         },
         "xaxis": "x",
         "y": {
          "bdata": "AAAAAACahcAAAAAAAJqFwAAAAAAAnIjAAAAAAACciMA=",
          "dtype": "f8"
         },
         "yaxis": "y"
        },
        {
         "hoverinfo": "text",
         "marker": {
          "color": "rgb(0,116,217)"
         },
         "mode": "lines",
         "type": "scatter",
         "x": {
          "bdata": "g7vnYV7h8D8zTvMC+eLxPzNO8wL54vE/lINAxiD58D8=",
          "dtype": "f8"
         },
         "xaxis": "x",
         "y": {
          "bdata": "AAAAAMAVgcAAAAAAwBWBwAAAAAAAG4fAAAAAAAAbh8A=",
          "dtype": "f8"
         },
         "yaxis": "y"
        },
        {
         "hoverinfo": "text",
         "marker": {
          "color": "rgb(0,116,217)"
         },
         "mode": "lines",
         "type": "scatter",
         "x": {
          "bdata": "l0u4LUKj8T/TbiK6F0/yP9NuIroXT/I/M07zAvni8T8=",
          "dtype": "f8"
         },
         "xaxis": "x",
         "y": {
          "bdata": "AAAAAMAcdMAAAAAAwBx0wAAAAABgGITAAAAAAGAYhMA=",
          "dtype": "f8"
         },
         "yaxis": "y"
        },
        {
         "hoverinfo": "text",
         "marker": {
          "color": "rgb(255,65,54)"
         },
         "mode": "lines",
         "type": "scatter",
         "x": {
          "bdata": "AAAAAAAAAACJ8jnqJoPpP4nyOeomg+k/AAAAAAAAAAA=",
          "dtype": "f8"
         },
         "xaxis": "x",
         "y": {
          "bdata": "AAAAAAAoicAAAAAAACiJwAAAAAAAeInAAAAAAAB4icA=",
          "dtype": "f8"
         },
         "yaxis": "y"
        },
        {
         "hoverinfo": "text",
         "marker": {
          "color": "rgb(0,116,217)"
         },
         "mode": "lines",
         "type": "scatter",
         "x": {
          "bdata": "024iuhdP8j9lhyA5WM/yP2WHIDlYz/I/ifI56iaD6T8=",
          "dtype": "f8"
         },
         "xaxis": "x",
         "y": {
          "bdata": "AAAAAMAmfsAAAAAAwCZ+wAAAAAAAUInAAAAAAABQicA=",
          "dtype": "f8"
         },
         "yaxis": "y"
        },
        {
         "hoverinfo": "text",
         "marker": {
          "color": "rgb(0,116,217)"
         },
         "mode": "lines",
         "type": "scatter",
         "x": {
          "bdata": "2iCpvQfN8T/ciTHcBrTzP9yJMdwGtPM/ZYcgOVjP8j8=",
          "dtype": "f8"
         },
         "xaxis": "x",
         "y": {
          "bdata": "AAAAAACmXcAAAAAAAKZdwAAAAACwMYTAAAAAALAxhMA=",
          "dtype": "f8"
         },
         "yaxis": "y"
        },
        {
         "hoverinfo": "text",
         "marker": {
          "color": "rgb(35,205,205)"
         },
         "mode": "lines",
         "type": "scatter",
         "x": {
          "bdata": "AAAAAAAAAAADDmw5YXngPwMObDlheeA/AAAAAAAAAAA=",
          "dtype": "f8"
         },
         "xaxis": "x",
         "y": {
          "bdata": "AAAAAADIicAAAAAAAMiJwAAAAAAAGIrAAAAAAAAYisA=",
          "dtype": "f8"
         },
         "yaxis": "y"
        },
        {
         "hoverinfo": "text",
         "marker": {
          "color": "rgb(0,116,217)"
         },
         "mode": "lines",
         "type": "scatter",
         "x": {
          "bdata": "3Ikx3Aa08z/hGeiaT6D0P+EZ6JpPoPQ/Aw5sOWF54D8=",
          "dtype": "f8"
         },
         "xaxis": "x",
         "y": {
          "bdata": "AAAAAHDmd8AAAAAAcOZ3wAAAAAAA8InAAAAAAADwicA=",
          "dtype": "f8"
         },
         "yaxis": "y"
        },
        {
         "hoverinfo": "text",
         "marker": {
          "color": "rgb(0,116,217)"
         },
         "mode": "lines",
         "type": "scatter",
         "x": {
          "bdata": "QJWH5KeLzT+U3Hly8Hn2P5TceXLwefY/4Rnomk+g9D8=",
          "dtype": "f8"
         },
         "xaxis": "x",
         "y": {
          "bdata": "AAAAAAAAJMAAAAAAAAAkwAAAAACc8YLAAAAAAJzxgsA=",
          "dtype": "f8"
         },
         "yaxis": "y"
        },
        {
         "hoverinfo": "text",
         "marker": {
          "color": "rgb(61,153,112)"
         },
         "mode": "lines",
         "type": "scatter",
         "x": {
          "bdata": "AAAAAAAAAAA6E3otG7fmPzoTei0bt+Y/AAAAAAAAAAA=",
          "dtype": "f8"
         },
         "xaxis": "x",
         "y": {
          "bdata": "AAAAAABoisAAAAAAAGiKwAAAAAAAuIrAAAAAAAC4isA=",
          "dtype": "f8"
         },
         "yaxis": "y"
        },
        {
         "hoverinfo": "text",
         "marker": {
          "color": "rgb(61,153,112)"
         },
         "mode": "lines",
         "type": "scatter",
         "x": {
          "bdata": "AAAAAAAAAAAB05OG/y7kPwHTk4b/LuQ/AAAAAAAAAAA=",
          "dtype": "f8"
         },
         "xaxis": "x",
         "y": {
          "bdata": "AAAAAAAIi8AAAAAAAAiLwAAAAAAAWIvAAAAAAABYi8A=",
          "dtype": "f8"
         },
         "yaxis": "y"
        },
        {
         "hoverinfo": "text",
         "marker": {
          "color": "rgb(61,153,112)"
         },
         "mode": "lines",
         "type": "scatter",
         "x": {
          "bdata": "OhN6LRu35j9EbFWF1AjpP0RsVYXUCOk/AdOThv8u5D8=",
          "dtype": "f8"
         },
         "xaxis": "x",
         "y": {
          "bdata": "AAAAAACQisAAAAAAAJCKwAAAAAAAMIvAAAAAAAAwi8A=",
          "dtype": "f8"
         },
         "yaxis": "y"
        },
        {
         "hoverinfo": "text",
         "marker": {
          "color": "rgb(255,65,54)"
         },
         "mode": "lines",
         "type": "scatter",
         "x": {
          "bdata": "AAAAAAAAAAC+NeWSnB7QP7415ZKcHtA/AAAAAAAAAAA=",
          "dtype": "f8"
         },
         "xaxis": "x",
         "y": {
          "bdata": "AAAAAACoi8AAAAAAAKiLwAAAAAAA+IvAAAAAAAD4i8A=",
          "dtype": "f8"
         },
         "yaxis": "y"
        },
        {
         "hoverinfo": "text",
         "marker": {
          "color": "rgb(255,65,54)"
         },
         "mode": "lines",
         "type": "scatter",
         "x": {
          "bdata": "vjXlkpwe0D94vvN897vbP3i+83z3u9s/AAAAAAAAAAA=",
          "dtype": "f8"
         },
         "xaxis": "x",
         "y": {
          "bdata": "AAAAAADQi8AAAAAAANCLwAAAAAAASIzAAAAAAABIjMA=",
          "dtype": "f8"
         },
         "yaxis": "y"
        },
        {
         "hoverinfo": "text",
         "marker": {
          "color": "rgb(0,116,217)"
         },
         "mode": "lines",
         "type": "scatter",
         "x": {
          "bdata": "RGxVhdQI6T80P1Hmg1L1PzQ/UeaDUvU/eL7zfPe72z8=",
          "dtype": "f8"
         },
         "xaxis": "x",
         "y": {
          "bdata": "AAAAAADgisAAAAAAAOCKwAAAAAAADIzAAAAAAAAMjMA=",
          "dtype": "f8"
         },
         "yaxis": "y"
        },
        {
         "hoverinfo": "text",
         "marker": {
          "color": "rgb(35,205,205)"
         },
         "mode": "lines",
         "type": "scatter",
         "x": {
          "bdata": "AAAAAAAAAAA8qibn7RfHPzyqJuftF8c/AAAAAAAAAAA=",
          "dtype": "f8"
         },
         "xaxis": "x",
         "y": {
          "bdata": "AAAAAACYjMAAAAAAAJiMwAAAAAAA6IzAAAAAAADojMA=",
          "dtype": "f8"
         },
         "yaxis": "y"
        },
        {
         "hoverinfo": "text",
         "marker": {
          "color": "rgb(133,20,75)"
         },
         "mode": "lines",
         "type": "scatter",
         "x": {
          "bdata": "AAAAAAAAAABoSnNmT63NP2hKc2ZPrc0/AAAAAAAAAAA=",
          "dtype": "f8"
         },
         "xaxis": "x",
         "y": {
          "bdata": "AAAAAAA4jcAAAAAAADiNwAAAAAAAiI3AAAAAAACIjcA=",
          "dtype": "f8"
         },
         "yaxis": "y"
        },
        {
         "hoverinfo": "text",
         "marker": {
          "color": "rgb(133,20,75)"
         },
         "mode": "lines",
         "type": "scatter",
         "x": {
          "bdata": "AAAAAAAAAAD4IzJYYTW6P/gjMlhhNbo/AAAAAAAAAAA=",
          "dtype": "f8"
         },
         "xaxis": "x",
         "y": {
          "bdata": "AAAAAADYjcAAAAAAANiNwAAAAAAAKI7AAAAAAAAojsA=",
          "dtype": "f8"
         },
         "yaxis": "y"
        },
        {
         "hoverinfo": "text",
         "marker": {
          "color": "rgb(133,20,75)"
         },
         "mode": "lines",
         "type": "scatter",
         "x": {
          "bdata": "AAAAAAAAAAAAV/d4EYahPwBX93gRhqE/AAAAAAAAAAA=",
          "dtype": "f8"
         },
         "xaxis": "x",
         "y": {
          "bdata": "AAAAAAB4jsAAAAAAAHiOwAAAAAAAyI7AAAAAAADIjsA=",
          "dtype": "f8"
         },
         "yaxis": "y"
        },
        {
         "hoverinfo": "text",
         "marker": {
          "color": "rgb(133,20,75)"
         },
         "mode": "lines",
         "type": "scatter",
         "x": {
          "bdata": "+CMyWGE1uj+DkgyZP0LoP4OSDJk/Qug/AFf3eBGGoT8=",
          "dtype": "f8"
         },
         "xaxis": "x",
         "y": {
          "bdata": "AAAAAAAAjsAAAAAAAACOwAAAAAAAoI7AAAAAAACgjsA=",
          "dtype": "f8"
         },
         "yaxis": "y"
        },
        {
         "hoverinfo": "text",
         "marker": {
          "color": "rgb(133,20,75)"
         },
         "mode": "lines",
         "type": "scatter",
         "x": {
          "bdata": "aEpzZk+tzT8rwA1+b3rpPyvADX5veuk/g5IMmT9C6D8=",
          "dtype": "f8"
         },
         "xaxis": "x",
         "y": {
          "bdata": "AAAAAABgjcAAAAAAAGCNwAAAAAAAUI7AAAAAAABQjsA=",
          "dtype": "f8"
         },
         "yaxis": "y"
        },
        {
         "hoverinfo": "text",
         "marker": {
          "color": "rgb(0,116,217)"
         },
         "mode": "lines",
         "type": "scatter",
         "x": {
          "bdata": "PKom5+0Xxz+8P9+K4bLwP7w/34rhsvA/K8ANfm966T8=",
          "dtype": "f8"
         },
         "xaxis": "x",
         "y": {
          "bdata": "AAAAAADAjMAAAAAAAMCMwAAAAAAA2I3AAAAAAADYjcA=",
          "dtype": "f8"
         },
         "yaxis": "y"
        },
        {
         "hoverinfo": "text",
         "marker": {
          "color": "rgb(0,116,217)"
         },
         "mode": "lines",
         "type": "scatter",
         "x": {
          "bdata": "ND9R5oNS9T9UVB0bcOf4P1RUHRtw5/g/vD/fiuGy8D8=",
          "dtype": "f8"
         },
         "xaxis": "x",
         "y": {
          "bdata": "AAAAAAB2i8AAAAAAAHaLwAAAAAAATI3AAAAAAABMjcA=",
          "dtype": "f8"
         },
         "yaxis": "y"
        },
        {
         "hoverinfo": "text",
         "marker": {
          "color": "rgb(255,220,0)"
         },
         "mode": "lines",
         "type": "scatter",
         "x": {
          "bdata": "AAAAAAAAAADUgE7opUTkP9SATuilROQ/AAAAAAAAAAA=",
          "dtype": "f8"
         },
         "xaxis": "x",
         "y": {
          "bdata": "AAAAAABoj8AAAAAAAGiPwAAAAAAAuI/AAAAAAAC4j8A=",
          "dtype": "f8"
         },
         "yaxis": "y"
        },
        {
         "hoverinfo": "text",
         "marker": {
          "color": "rgb(255,220,0)"
         },
         "mode": "lines",
         "type": "scatter",
         "x": {
          "bdata": "AAAAAAAAAABvNQJzaVvmP281AnNpW+Y/1IBO6KVE5D8=",
          "dtype": "f8"
         },
         "xaxis": "x",
         "y": {
          "bdata": "AAAAAAAYj8AAAAAAABiPwAAAAAAAkI/AAAAAAACQj8A=",
          "dtype": "f8"
         },
         "yaxis": "y"
        },
        {
         "hoverinfo": "text",
         "marker": {
          "color": "rgb(255,220,0)"
         },
         "mode": "lines",
         "type": "scatter",
         "x": {
          "bdata": "bzUCc2lb5j9DEBCvmxjrP0MQEK+bGOs/AAAAAAAAAAA=",
          "dtype": "f8"
         },
         "xaxis": "x",
         "y": {
          "bdata": "AAAAAABUj8AAAAAAAFSPwAAAAAAABJDAAAAAAAAEkMA=",
          "dtype": "f8"
         },
         "yaxis": "y"
        },
        {
         "hoverinfo": "text",
         "marker": {
          "color": "rgb(40,35,35)"
         },
         "mode": "lines",
         "type": "scatter",
         "x": {
          "bdata": "AAAAAAAAAAAwobAf0QjgPzChsB/RCOA/AAAAAAAAAAA=",
          "dtype": "f8"
         },
         "xaxis": "x",
         "y": {
          "bdata": "AAAAAAAskMAAAAAAACyQwAAAAAAAVJDAAAAAAABUkMA=",
          "dtype": "f8"
         },
         "yaxis": "y"
        },
        {
         "hoverinfo": "text",
         "marker": {
          "color": "rgb(40,35,35)"
         },
         "mode": "lines",
         "type": "scatter",
         "x": {
          "bdata": "MKGwH9EI4D/taSo2VxbmP+1pKjZXFuY/AAAAAAAAAAA=",
          "dtype": "f8"
         },
         "xaxis": "x",
         "y": {
          "bdata": "AAAAAABAkMAAAAAAAECQwAAAAAAAfJDAAAAAAAB8kMA=",
          "dtype": "f8"
         },
         "yaxis": "y"
        },
        {
         "hoverinfo": "text",
         "marker": {
          "color": "rgb(0,116,217)"
         },
         "mode": "lines",
         "type": "scatter",
         "x": {
          "bdata": "QxAQr5sY6z+h+8XRjAnwP6H7xdGMCfA/7WkqNlcW5j8=",
          "dtype": "f8"
         },
         "xaxis": "x",
         "y": {
          "bdata": "AAAAAACuj8AAAAAAAK6PwAAAAAAAXpDAAAAAAABekMA=",
          "dtype": "f8"
         },
         "yaxis": "y"
        },
        {
         "hoverinfo": "text",
         "marker": {
          "color": "rgb(0,116,217)"
         },
         "mode": "lines",
         "type": "scatter",
         "x": {
          "bdata": "VFQdG3Dn+D+5LfID0bn9P7kt8gPRuf0/ofvF0YwJ8D8=",
          "dtype": "f8"
         },
         "xaxis": "x",
         "y": {
          "bdata": "AAAAAABhjMAAAAAAAGGMwAAAAACAGpDAAAAAAIAakMA=",
          "dtype": "f8"
         },
         "yaxis": "y"
        },
        {
         "hoverinfo": "text",
         "marker": {
          "color": "rgb(0,116,217)"
         },
         "mode": "lines",
         "type": "scatter",
         "x": {
          "bdata": "lNx5cvB59j8KCCG12pcDQAoIIbXalwNAuS3yA9G5/T8=",
          "dtype": "f8"
         },
         "xaxis": "x",
         "y": {
          "bdata": "AAAAAJxBc8AAAAAAnEFzwAAAAAAAS47AAAAAAABLjsA=",
          "dtype": "f8"
         },
         "yaxis": "y"
        }
       ],
       "layout": {
        "autosize": false,
        "height": 1790,
        "hoverlabel": {
         "bgcolor": "white",
         "font": {
          "family": "Rockwell",
          "size": 16
         }
        },
        "hovermode": "closest",
        "plot_bgcolor": "#ECEFF1",
        "showlegend": false,
        "template": {
         "data": {
          "bar": [
           {
            "error_x": {
             "color": "#2a3f5f"
            },
            "error_y": {
             "color": "#2a3f5f"
            },
            "marker": {
             "line": {
              "color": "white",
              "width": 0.5
             },
             "pattern": {
              "fillmode": "overlay",
              "size": 10,
              "solidity": 0.2
             }
            },
            "type": "bar"
           }
          ],
          "barpolar": [
           {
            "marker": {
             "line": {
              "color": "white",
              "width": 0.5
             },
             "pattern": {
              "fillmode": "overlay",
              "size": 10,
              "solidity": 0.2
             }
            },
            "type": "barpolar"
           }
          ],
          "carpet": [
           {
            "aaxis": {
             "endlinecolor": "#2a3f5f",
             "gridcolor": "#C8D4E3",
             "linecolor": "#C8D4E3",
             "minorgridcolor": "#C8D4E3",
             "startlinecolor": "#2a3f5f"
            },
            "baxis": {
             "endlinecolor": "#2a3f5f",
             "gridcolor": "#C8D4E3",
             "linecolor": "#C8D4E3",
             "minorgridcolor": "#C8D4E3",
             "startlinecolor": "#2a3f5f"
            },
            "type": "carpet"
           }
          ],
          "choropleth": [
           {
            "colorbar": {
             "outlinewidth": 0,
             "ticks": ""
            },
            "type": "choropleth"
           }
          ],
          "contour": [
           {
            "colorbar": {
             "outlinewidth": 0,
             "ticks": ""
            },
            "colorscale": [
             [
              0,
              "#0d0887"
             ],
             [
              0.1111111111111111,
              "#46039f"
             ],
             [
              0.2222222222222222,
              "#7201a8"
             ],
             [
              0.3333333333333333,
              "#9c179e"
             ],
             [
              0.4444444444444444,
              "#bd3786"
             ],
             [
              0.5555555555555556,
              "#d8576b"
             ],
             [
              0.6666666666666666,
              "#ed7953"
             ],
             [
              0.7777777777777778,
              "#fb9f3a"
             ],
             [
              0.8888888888888888,
              "#fdca26"
             ],
             [
              1,
              "#f0f921"
             ]
            ],
            "type": "contour"
           }
          ],
          "contourcarpet": [
           {
            "colorbar": {
             "outlinewidth": 0,
             "ticks": ""
            },
            "type": "contourcarpet"
           }
          ],
          "heatmap": [
           {
            "colorbar": {
             "outlinewidth": 0,
             "ticks": ""
            },
            "colorscale": [
             [
              0,
              "#0d0887"
             ],
             [
              0.1111111111111111,
              "#46039f"
             ],
             [
              0.2222222222222222,
              "#7201a8"
             ],
             [
              0.3333333333333333,
              "#9c179e"
             ],
             [
              0.4444444444444444,
              "#bd3786"
             ],
             [
              0.5555555555555556,
              "#d8576b"
             ],
             [
              0.6666666666666666,
              "#ed7953"
             ],
             [
              0.7777777777777778,
              "#fb9f3a"
             ],
             [
              0.8888888888888888,
              "#fdca26"
             ],
             [
              1,
              "#f0f921"
             ]
            ],
            "type": "heatmap"
           }
          ],
          "histogram": [
           {
            "marker": {
             "pattern": {
              "fillmode": "overlay",
              "size": 10,
              "solidity": 0.2
             }
            },
            "type": "histogram"
           }
          ],
          "histogram2d": [
           {
            "colorbar": {
             "outlinewidth": 0,
             "ticks": ""
            },
            "colorscale": [
             [
              0,
              "#0d0887"
             ],
             [
              0.1111111111111111,
              "#46039f"
             ],
             [
              0.2222222222222222,
              "#7201a8"
             ],
             [
              0.3333333333333333,
              "#9c179e"
             ],
             [
              0.4444444444444444,
              "#bd3786"
             ],
             [
              0.5555555555555556,
              "#d8576b"
             ],
             [
              0.6666666666666666,
              "#ed7953"
             ],
             [
              0.7777777777777778,
              "#fb9f3a"
             ],
             [
              0.8888888888888888,
              "#fdca26"
             ],
             [
              1,
              "#f0f921"
             ]
            ],
            "type": "histogram2d"
           }
          ],
          "histogram2dcontour": [
           {
            "colorbar": {
             "outlinewidth": 0,
             "ticks": ""
            },
            "colorscale": [
             [
              0,
              "#0d0887"
             ],
             [
              0.1111111111111111,
              "#46039f"
             ],
             [
              0.2222222222222222,
              "#7201a8"
             ],
             [
              0.3333333333333333,
              "#9c179e"
             ],
             [
              0.4444444444444444,
              "#bd3786"
             ],
             [
              0.5555555555555556,
              "#d8576b"
             ],
             [
              0.6666666666666666,
              "#ed7953"
             ],
             [
              0.7777777777777778,
              "#fb9f3a"
             ],
             [
              0.8888888888888888,
              "#fdca26"
             ],
             [
              1,
              "#f0f921"
             ]
            ],
            "type": "histogram2dcontour"
           }
          ],
          "mesh3d": [
           {
            "colorbar": {
             "outlinewidth": 0,
             "ticks": ""
            },
            "type": "mesh3d"
           }
          ],
          "parcoords": [
           {
            "line": {
             "colorbar": {
              "outlinewidth": 0,
              "ticks": ""
             }
            },
            "type": "parcoords"
           }
          ],
          "pie": [
           {
            "automargin": true,
            "type": "pie"
           }
          ],
          "scatter": [
           {
            "fillpattern": {
             "fillmode": "overlay",
             "size": 10,
             "solidity": 0.2
            },
            "type": "scatter"
           }
          ],
          "scatter3d": [
           {
            "line": {
             "colorbar": {
              "outlinewidth": 0,
              "ticks": ""
             }
            },
            "marker": {
             "colorbar": {
              "outlinewidth": 0,
              "ticks": ""
             }
            },
            "type": "scatter3d"
           }
          ],
          "scattercarpet": [
           {
            "marker": {
             "colorbar": {
              "outlinewidth": 0,
              "ticks": ""
             }
            },
            "type": "scattercarpet"
           }
          ],
          "scattergeo": [
           {
            "marker": {
             "colorbar": {
              "outlinewidth": 0,
              "ticks": ""
             }
            },
            "type": "scattergeo"
           }
          ],
          "scattergl": [
           {
            "marker": {
             "colorbar": {
              "outlinewidth": 0,
              "ticks": ""
             }
            },
            "type": "scattergl"
           }
          ],
          "scattermap": [
           {
            "marker": {
             "colorbar": {
              "outlinewidth": 0,
              "ticks": ""
             }
            },
            "type": "scattermap"
           }
          ],
          "scattermapbox": [
           {
            "marker": {
             "colorbar": {
              "outlinewidth": 0,
              "ticks": ""
             }
            },
            "type": "scattermapbox"
           }
          ],
          "scatterpolar": [
           {
            "marker": {
             "colorbar": {
              "outlinewidth": 0,
              "ticks": ""
             }
            },
            "type": "scatterpolar"
           }
          ],
          "scatterpolargl": [
           {
            "marker": {
             "colorbar": {
              "outlinewidth": 0,
              "ticks": ""
             }
            },
            "type": "scatterpolargl"
           }
          ],
          "scatterternary": [
           {
            "marker": {
             "colorbar": {
              "outlinewidth": 0,
              "ticks": ""
             }
            },
            "type": "scatterternary"
           }
          ],
          "surface": [
           {
            "colorbar": {
             "outlinewidth": 0,
             "ticks": ""
            },
            "colorscale": [
             [
              0,
              "#0d0887"
             ],
             [
              0.1111111111111111,
              "#46039f"
             ],
             [
              0.2222222222222222,
              "#7201a8"
             ],
             [
              0.3333333333333333,
              "#9c179e"
             ],
             [
              0.4444444444444444,
              "#bd3786"
             ],
             [
              0.5555555555555556,
              "#d8576b"
             ],
             [
              0.6666666666666666,
              "#ed7953"
             ],
             [
              0.7777777777777778,
              "#fb9f3a"
             ],
             [
              0.8888888888888888,
              "#fdca26"
             ],
             [
              1,
              "#f0f921"
             ]
            ],
            "type": "surface"
           }
          ],
          "table": [
           {
            "cells": {
             "fill": {
              "color": "#EBF0F8"
             },
             "line": {
              "color": "white"
             }
            },
            "header": {
             "fill": {
              "color": "#C8D4E3"
             },
             "line": {
              "color": "white"
             }
            },
            "type": "table"
           }
          ]
         },
         "layout": {
          "annotationdefaults": {
           "arrowcolor": "#2a3f5f",
           "arrowhead": 0,
           "arrowwidth": 1
          },
          "autotypenumbers": "strict",
          "coloraxis": {
           "colorbar": {
            "outlinewidth": 0,
            "ticks": ""
           }
          },
          "colorscale": {
           "diverging": [
            [
             0,
             "#8e0152"
            ],
            [
             0.1,
             "#c51b7d"
            ],
            [
             0.2,
             "#de77ae"
            ],
            [
             0.3,
             "#f1b6da"
            ],
            [
             0.4,
             "#fde0ef"
            ],
            [
             0.5,
             "#f7f7f7"
            ],
            [
             0.6,
             "#e6f5d0"
            ],
            [
             0.7,
             "#b8e186"
            ],
            [
             0.8,
             "#7fbc41"
            ],
            [
             0.9,
             "#4d9221"
            ],
            [
             1,
             "#276419"
            ]
           ],
           "sequential": [
            [
             0,
             "#0d0887"
            ],
            [
             0.1111111111111111,
             "#46039f"
            ],
            [
             0.2222222222222222,
             "#7201a8"
            ],
            [
             0.3333333333333333,
             "#9c179e"
            ],
            [
             0.4444444444444444,
             "#bd3786"
            ],
            [
             0.5555555555555556,
             "#d8576b"
            ],
            [
             0.6666666666666666,
             "#ed7953"
            ],
            [
             0.7777777777777778,
             "#fb9f3a"
            ],
            [
             0.8888888888888888,
             "#fdca26"
            ],
            [
             1,
             "#f0f921"
            ]
           ],
           "sequentialminus": [
            [
             0,
             "#0d0887"
            ],
            [
             0.1111111111111111,
             "#46039f"
            ],
            [
             0.2222222222222222,
             "#7201a8"
            ],
            [
             0.3333333333333333,
             "#9c179e"
            ],
            [
             0.4444444444444444,
             "#bd3786"
            ],
            [
             0.5555555555555556,
             "#d8576b"
            ],
            [
             0.6666666666666666,
             "#ed7953"
            ],
            [
             0.7777777777777778,
             "#fb9f3a"
            ],
            [
             0.8888888888888888,
             "#fdca26"
            ],
            [
             1,
             "#f0f921"
            ]
           ]
          },
          "colorway": [
           "#636efa",
           "#EF553B",
           "#00cc96",
           "#ab63fa",
           "#FFA15A",
           "#19d3f3",
           "#FF6692",
           "#B6E880",
           "#FF97FF",
           "#FECB52"
          ],
          "font": {
           "color": "#2a3f5f"
          },
          "geo": {
           "bgcolor": "white",
           "lakecolor": "white",
           "landcolor": "white",
           "showlakes": true,
           "showland": true,
           "subunitcolor": "#C8D4E3"
          },
          "hoverlabel": {
           "align": "left"
          },
          "hovermode": "closest",
          "mapbox": {
           "style": "light"
          },
          "paper_bgcolor": "white",
          "plot_bgcolor": "white",
          "polar": {
           "angularaxis": {
            "gridcolor": "#EBF0F8",
            "linecolor": "#EBF0F8",
            "ticks": ""
           },
           "bgcolor": "white",
           "radialaxis": {
            "gridcolor": "#EBF0F8",
            "linecolor": "#EBF0F8",
            "ticks": ""
           }
          },
          "scene": {
           "xaxis": {
            "backgroundcolor": "white",
            "gridcolor": "#DFE8F3",
            "gridwidth": 2,
            "linecolor": "#EBF0F8",
            "showbackground": true,
            "ticks": "",
            "zerolinecolor": "#EBF0F8"
           },
           "yaxis": {
            "backgroundcolor": "white",
            "gridcolor": "#DFE8F3",
            "gridwidth": 2,
            "linecolor": "#EBF0F8",
            "showbackground": true,
            "ticks": "",
            "zerolinecolor": "#EBF0F8"
           },
           "zaxis": {
            "backgroundcolor": "white",
            "gridcolor": "#DFE8F3",
            "gridwidth": 2,
            "linecolor": "#EBF0F8",
            "showbackground": true,
            "ticks": "",
            "zerolinecolor": "#EBF0F8"
           }
          },
          "shapedefaults": {
           "line": {
            "color": "#2a3f5f"
           }
          },
          "ternary": {
           "aaxis": {
            "gridcolor": "#DFE8F3",
            "linecolor": "#A2B1C6",
            "ticks": ""
           },
           "baxis": {
            "gridcolor": "#DFE8F3",
            "linecolor": "#A2B1C6",
            "ticks": ""
           },
           "bgcolor": "white",
           "caxis": {
            "gridcolor": "#DFE8F3",
            "linecolor": "#A2B1C6",
            "ticks": ""
           }
          },
          "title": {
           "x": 0.05
          },
          "xaxis": {
           "automargin": true,
           "gridcolor": "#EBF0F8",
           "linecolor": "#EBF0F8",
           "ticks": "",
           "title": {
            "standoff": 15
           },
           "zerolinecolor": "#EBF0F8",
           "zerolinewidth": 2
          },
          "yaxis": {
           "automargin": true,
           "gridcolor": "#EBF0F8",
           "linecolor": "#EBF0F8",
           "ticks": "",
           "title": {
            "standoff": 15
           },
           "zerolinecolor": "#EBF0F8",
           "zerolinewidth": 2
          }
         }
        },
        "title": {
         "font": {
          "color": "Black",
          "size": 22
         },
         "text": "<b>Hierarchical Clustering</b>",
         "x": 0.5,
         "xanchor": "center",
         "yanchor": "top"
        },
        "width": 1000,
        "xaxis": {
         "mirror": "allticks",
         "rangemode": "tozero",
         "showgrid": false,
         "showline": true,
         "showticklabels": true,
         "ticks": "outside",
         "type": "linear",
         "zeroline": false
        },
        "yaxis": {
         "mirror": "allticks",
         "range": [
          -1060,
          0
         ],
         "rangemode": "tozero",
         "showgrid": false,
         "showline": true,
         "showticklabels": true,
         "tickmode": "array",
         "ticks": "outside",
         "ticktext": [
          "30_political_debates_racist",
          "53_discussions_debate_speech",
          "50_distinctions_behaviors_p...",
          "33_reform_society_laws",
          "60_government_enron_oligarc...",
          "9_legalization_laws_law",
          "0_political_republicans_gov...",
          "7_example_american_things",
          "8_cultural_penises_benefits",
          "19_climate_trump_conspiracy",
          "92_law_sanction_enforcement",
          "15_society_oppression_culture",
          "82_enforcement_countries_co...",
          "88_law_laws_legislating",
          "16_judgment_aren_educate",
          "51_fulfilling_prophecy_feat...",
          "48_maximalism_transportatio...",
          "72_trump_maga_clown",
          "28_history_corruption_gover...",
          "100_democrats_trump_partisan",
          "89_laws_insolvency_substant...",
          "52_revolution_secessionists...",
          "38_peace_trump_peaceful",
          "78_conservatives_predicted_...",
          "81_negotiating_misinformati...",
          "67_shady_berniers_money",
          "41_objectivity_policies_jud...",
          "93_symptom_addiction_govern...",
          "69_coup_dictatorial_sanctions",
          "103_drugs_ignorance_dysfunc...",
          "97_political_uprisings_rest...",
          "20_government_prep_infrastr...",
          "36_climate_health_risks",
          "99_republicans_politicized_...",
          "68_administration_propagand...",
          "39_advocates_agreement_argu...",
          "24_utilitarianism_utilitari...",
          "56_votes_leftists_policies",
          "104_political_elections_dem...",
          "79_prediction_retrograde_ye...",
          "83_threatening_argument_att...",
          "42_enlightenment_consciousn...",
          "22_immigration_argue_global...",
          "94_judgments_stigma_conduct",
          "59_outrage_suspicious_insti...",
          "31_agendas_political_pundits",
          "61_agenda_things_disagree",
          "80_democrats_democrat_repub...",
          "84_dissident_dichotomy_power",
          "37_history_historiography_r...",
          "105_cnn_facts_things",
          "76_removed_discussion_meta",
          "35_political_discussion_con...",
          "96_suspect_lack_judgmental",
          "44_provide_feelings_love",
          "58_politically_vote_choose",
          "101_news_group_mental",
          "98_legislation_politically_...",
          "40_word_thinking_derp",
          "75_world_proof_",
          "73_trump_propaganda_whatabo...",
          "102_anti_euthanasia_complying",
          "29_observation_apparatus_ax...",
          "87_authority_citizen_governor",
          "47_paring_concern_dishes",
          "25_usefulness_consumption_r...",
          "21_aspects_ecosystem_text",
          "62_bills_issues_outlet",
          "95_true_okay_ways",
          "90_harmless_condemning_prot...",
          "43_inference_situation_intu...",
          "63_situation_threats_negoti...",
          "27_analogy_provide_revenue",
          "14_men_women_woman",
          "23_law_violence_win",
          "74_situation_confrontation_...",
          "54_social_develop_machines",
          "64_compromised_policap_hacked",
          "71_911_blackmail_surveilled",
          "86_bombings_surveillance_ra...",
          "66_right_remove_comment",
          "55_race_examples_decide",
          "45_religion_ideology_religi...",
          "91_comprehension_fascism_na...",
          "11_politicaldiscussion_rule...",
          "5_moderators_topic_discussion",
          "70_moderators_moderation_op...",
          "32_humor_wiki_darwinstrousers",
          "12_topics_moderators_wiki",
          "57_campaign_topics_moderators",
          "85_appeals_appeal_topic",
          "26_topic_discussion_read",
          "6_moderation_information_to...",
          "13_policy_moderation_change",
          "2_responses_arguments_moder...",
          "34_moderation_arguing_socra...",
          "3_information_moderators_mo...",
          "1_moderators_moderation_app...",
          "17_moderation_hostile_infor...",
          "10_votersespecially_midterm...",
          "77_change_violations_modera...",
          "18_argument_merit_example",
          "46_character_semantic_privi...",
          "65_polling_abuse_misuse",
          "4_fox_apprehensive_appointm...",
          "49_wiki_explained_user"
         ],
         "tickvals": [
          -5,
          -15,
          -25,
          -35,
          -45,
          -55,
          -65,
          -75,
          -85,
          -95,
          -105,
          -115,
          -125,
          -135,
          -145,
          -155,
          -165,
          -175,
          -185,
          -195,
          -205,
          -215,
          -225,
          -235,
          -245,
          -255,
          -265,
          -275,
          -285,
          -295,
          -305,
          -315,
          -325,
          -335,
          -345,
          -355,
          -365,
          -375,
          -385,
          -395,
          -405,
          -415,
          -425,
          -435,
          -445,
          -455,
          -465,
          -475,
          -485,
          -495,
          -505,
          -515,
          -525,
          -535,
          -545,
          -555,
          -565,
          -575,
          -585,
          -595,
          -605,
          -615,
          -625,
          -635,
          -645,
          -655,
          -665,
          -675,
          -685,
          -695,
          -705,
          -715,
          -725,
          -735,
          -745,
          -755,
          -765,
          -775,
          -785,
          -795,
          -805,
          -815,
          -825,
          -835,
          -845,
          -855,
          -865,
          -875,
          -885,
          -895,
          -905,
          -915,
          -925,
          -935,
          -945,
          -955,
          -965,
          -975,
          -985,
          -995,
          -1005,
          -1015,
          -1025,
          -1035,
          -1045,
          -1055
         ],
         "type": "linear",
         "zeroline": false
        }
       }
      }
     },
     "metadata": {},
     "output_type": "display_data"
    }
   ],
   "source": [
    "topic_model.visualize_hierarchy()"
   ]
  },
  {
   "cell_type": "markdown",
   "id": "b40ac38c",
   "metadata": {},
   "source": [
    "#### Computing topic at community-level"
   ]
  },
  {
   "cell_type": "code",
   "execution_count": 8,
   "id": "419ed587",
   "metadata": {},
   "outputs": [
    {
     "data": {
      "text/html": [
       "<div>\n",
       "<style scoped>\n",
       "    .dataframe tbody tr th:only-of-type {\n",
       "        vertical-align: middle;\n",
       "    }\n",
       "\n",
       "    .dataframe tbody tr th {\n",
       "        vertical-align: top;\n",
       "    }\n",
       "\n",
       "    .dataframe thead th {\n",
       "        text-align: right;\n",
       "    }\n",
       "</style>\n",
       "<table border=\"1\" class=\"dataframe\">\n",
       "  <thead>\n",
       "    <tr style=\"text-align: right;\">\n",
       "      <th></th>\n",
       "      <th>author</th>\n",
       "      <th>id_x</th>\n",
       "      <th>type</th>\n",
       "      <th>clean_text</th>\n",
       "      <th>id_y</th>\n",
       "      <th>indegree</th>\n",
       "      <th>outdegree</th>\n",
       "      <th>degree</th>\n",
       "      <th>internal_degree</th>\n",
       "      <th>community_id</th>\n",
       "      <th>community_type</th>\n",
       "      <th>external_degree</th>\n",
       "      <th>pct_internal</th>\n",
       "      <th>pct_external</th>\n",
       "      <th>is_hub</th>\n",
       "      <th>is_bridge</th>\n",
       "      <th>topic</th>\n",
       "      <th>topic_id</th>\n",
       "      <th>embedding</th>\n",
       "    </tr>\n",
       "  </thead>\n",
       "  <tbody>\n",
       "    <tr>\n",
       "      <th>28188</th>\n",
       "      <td>MagnanimosDesolation</td>\n",
       "      <td>t1_n2hpebz</td>\n",
       "      <td>comment</td>\n",
       "      <td>ok disney hot hectic exhausting often unnecess...</td>\n",
       "      <td>MagnanimosDesolation</td>\n",
       "      <td>7</td>\n",
       "      <td>5</td>\n",
       "      <td>12</td>\n",
       "      <td>4</td>\n",
       "      <td>74.0</td>\n",
       "      <td>Weak community</td>\n",
       "      <td>8</td>\n",
       "      <td>0.333333</td>\n",
       "      <td>0.666667</td>\n",
       "      <td>False</td>\n",
       "      <td>True</td>\n",
       "      <td>-1_trump_government_political_congress</td>\n",
       "      <td>-1</td>\n",
       "      <td>[0.05375266447663307, 0.02026956155896187, 0.0...</td>\n",
       "    </tr>\n",
       "    <tr>\n",
       "      <th>30908</th>\n",
       "      <td>elocin1985</td>\n",
       "      <td>t1_n36y1va</td>\n",
       "      <td>comment</td>\n",
       "      <td>grandma rose secret didn t find died dad ances...</td>\n",
       "      <td>elocin1985</td>\n",
       "      <td>4</td>\n",
       "      <td>3</td>\n",
       "      <td>7</td>\n",
       "      <td>4</td>\n",
       "      <td>74.0</td>\n",
       "      <td>Weak community</td>\n",
       "      <td>3</td>\n",
       "      <td>0.571429</td>\n",
       "      <td>0.428571</td>\n",
       "      <td>False</td>\n",
       "      <td>False</td>\n",
       "      <td>0_political_republicans_government_democrats</td>\n",
       "      <td>0</td>\n",
       "      <td>[0.037965159863233566, 0.02537514828145504, -0...</td>\n",
       "    </tr>\n",
       "    <tr>\n",
       "      <th>32637</th>\n",
       "      <td>MagnanimosDesolation</td>\n",
       "      <td>t1_n3e7mz6</td>\n",
       "      <td>comment</td>\n",
       "      <td>scandal administration able simply spin ignore...</td>\n",
       "      <td>MagnanimosDesolation</td>\n",
       "      <td>7</td>\n",
       "      <td>5</td>\n",
       "      <td>12</td>\n",
       "      <td>4</td>\n",
       "      <td>74.0</td>\n",
       "      <td>Weak community</td>\n",
       "      <td>8</td>\n",
       "      <td>0.333333</td>\n",
       "      <td>0.666667</td>\n",
       "      <td>False</td>\n",
       "      <td>True</td>\n",
       "      <td>0_political_republicans_government_democrats</td>\n",
       "      <td>0</td>\n",
       "      <td>[0.016284022480249405, 0.07522033154964447, -0...</td>\n",
       "    </tr>\n",
       "    <tr>\n",
       "      <th>33789</th>\n",
       "      <td>MediocreSizedDan</td>\n",
       "      <td>t1_n3b8esl</td>\n",
       "      <td>comment</td>\n",
       "      <td>guess curious argument must deport 11 million ...</td>\n",
       "      <td>MediocreSizedDan</td>\n",
       "      <td>2</td>\n",
       "      <td>4</td>\n",
       "      <td>6</td>\n",
       "      <td>1</td>\n",
       "      <td>74.0</td>\n",
       "      <td>Weak community</td>\n",
       "      <td>5</td>\n",
       "      <td>0.166667</td>\n",
       "      <td>0.833333</td>\n",
       "      <td>False</td>\n",
       "      <td>True</td>\n",
       "      <td>0_political_republicans_government_democrats</td>\n",
       "      <td>0</td>\n",
       "      <td>[-0.021855007857084274, 0.09594006091356277, 0...</td>\n",
       "    </tr>\n",
       "    <tr>\n",
       "      <th>33848</th>\n",
       "      <td>MediocreSizedDan</td>\n",
       "      <td>t1_n3bd97w</td>\n",
       "      <td>comment</td>\n",
       "      <td>sure understand point kicking certain period p...</td>\n",
       "      <td>MediocreSizedDan</td>\n",
       "      <td>2</td>\n",
       "      <td>4</td>\n",
       "      <td>6</td>\n",
       "      <td>1</td>\n",
       "      <td>74.0</td>\n",
       "      <td>Weak community</td>\n",
       "      <td>5</td>\n",
       "      <td>0.166667</td>\n",
       "      <td>0.833333</td>\n",
       "      <td>False</td>\n",
       "      <td>True</td>\n",
       "      <td>0_political_republicans_government_democrats</td>\n",
       "      <td>0</td>\n",
       "      <td>[-0.043908920139074326, 0.07180030643939972, 0...</td>\n",
       "    </tr>\n",
       "    <tr>\n",
       "      <th>...</th>\n",
       "      <td>...</td>\n",
       "      <td>...</td>\n",
       "      <td>...</td>\n",
       "      <td>...</td>\n",
       "      <td>...</td>\n",
       "      <td>...</td>\n",
       "      <td>...</td>\n",
       "      <td>...</td>\n",
       "      <td>...</td>\n",
       "      <td>...</td>\n",
       "      <td>...</td>\n",
       "      <td>...</td>\n",
       "      <td>...</td>\n",
       "      <td>...</td>\n",
       "      <td>...</td>\n",
       "      <td>...</td>\n",
       "      <td>...</td>\n",
       "      <td>...</td>\n",
       "      <td>...</td>\n",
       "    </tr>\n",
       "    <tr>\n",
       "      <th>77611</th>\n",
       "      <td>unbelizeable1</td>\n",
       "      <td>t1_mzny97z</td>\n",
       "      <td>comment</td>\n",
       "      <td>yea focus illegal shady shit see come legaliza...</td>\n",
       "      <td>unbelizeable1</td>\n",
       "      <td>6</td>\n",
       "      <td>9</td>\n",
       "      <td>15</td>\n",
       "      <td>6</td>\n",
       "      <td>74.0</td>\n",
       "      <td>Weak community</td>\n",
       "      <td>9</td>\n",
       "      <td>0.400000</td>\n",
       "      <td>0.600000</td>\n",
       "      <td>False</td>\n",
       "      <td>False</td>\n",
       "      <td>0_political_republicans_government_democrats</td>\n",
       "      <td>0</td>\n",
       "      <td>[-0.061489030718803406, 0.12323072552680969, 0...</td>\n",
       "    </tr>\n",
       "    <tr>\n",
       "      <th>77627</th>\n",
       "      <td>unbelizeable1</td>\n",
       "      <td>t1_mznz5oz</td>\n",
       "      <td>comment</td>\n",
       "      <td>really bummed sex nowhere important sex traffi...</td>\n",
       "      <td>unbelizeable1</td>\n",
       "      <td>6</td>\n",
       "      <td>9</td>\n",
       "      <td>15</td>\n",
       "      <td>6</td>\n",
       "      <td>74.0</td>\n",
       "      <td>Weak community</td>\n",
       "      <td>9</td>\n",
       "      <td>0.400000</td>\n",
       "      <td>0.600000</td>\n",
       "      <td>False</td>\n",
       "      <td>False</td>\n",
       "      <td>0_political_republicans_government_democrats</td>\n",
       "      <td>0</td>\n",
       "      <td>[0.02317735180258751, 0.04522618278861046, -0....</td>\n",
       "    </tr>\n",
       "    <tr>\n",
       "      <th>89593</th>\n",
       "      <td>unbelizeable1</td>\n",
       "      <td>t1_myogxdl</td>\n",
       "      <td>comment</td>\n",
       "      <td>imo biggest mistakes us history accepting trea...</td>\n",
       "      <td>unbelizeable1</td>\n",
       "      <td>6</td>\n",
       "      <td>9</td>\n",
       "      <td>15</td>\n",
       "      <td>6</td>\n",
       "      <td>74.0</td>\n",
       "      <td>Weak community</td>\n",
       "      <td>9</td>\n",
       "      <td>0.400000</td>\n",
       "      <td>0.600000</td>\n",
       "      <td>False</td>\n",
       "      <td>False</td>\n",
       "      <td>-1_trump_government_political_congress</td>\n",
       "      <td>-1</td>\n",
       "      <td>[-0.015500646084547043, 0.034452587366104126, ...</td>\n",
       "    </tr>\n",
       "    <tr>\n",
       "      <th>93818</th>\n",
       "      <td>half_way_by_accident</td>\n",
       "      <td>t1_mzdtedk</td>\n",
       "      <td>comment</td>\n",
       "      <td>sorry really wtf trying asked know better syst...</td>\n",
       "      <td>half_way_by_accident</td>\n",
       "      <td>0</td>\n",
       "      <td>5</td>\n",
       "      <td>5</td>\n",
       "      <td>2</td>\n",
       "      <td>74.0</td>\n",
       "      <td>Weak community</td>\n",
       "      <td>3</td>\n",
       "      <td>0.400000</td>\n",
       "      <td>0.600000</td>\n",
       "      <td>False</td>\n",
       "      <td>False</td>\n",
       "      <td>0_political_republicans_government_democrats</td>\n",
       "      <td>0</td>\n",
       "      <td>[0.018433477729558945, 0.008822071366012096, 0...</td>\n",
       "    </tr>\n",
       "    <tr>\n",
       "      <th>95008</th>\n",
       "      <td>Rationally-Skeptical</td>\n",
       "      <td>t1_mhg3f38</td>\n",
       "      <td>comment</td>\n",
       "      <td>make nowhere near scale it s byproduct fusion</td>\n",
       "      <td>Rationally-Skeptical</td>\n",
       "      <td>9</td>\n",
       "      <td>4</td>\n",
       "      <td>13</td>\n",
       "      <td>7</td>\n",
       "      <td>74.0</td>\n",
       "      <td>Weak community</td>\n",
       "      <td>6</td>\n",
       "      <td>0.538462</td>\n",
       "      <td>0.461538</td>\n",
       "      <td>False</td>\n",
       "      <td>False</td>\n",
       "      <td>0_political_republicans_government_democrats</td>\n",
       "      <td>0</td>\n",
       "      <td>[0.029923303052783012, -0.03278900310397148, -...</td>\n",
       "    </tr>\n",
       "  </tbody>\n",
       "</table>\n",
       "<p>215 rows × 19 columns</p>\n",
       "</div>"
      ],
      "text/plain": [
       "                     author        id_x     type  \\\n",
       "28188  MagnanimosDesolation  t1_n2hpebz  comment   \n",
       "30908            elocin1985  t1_n36y1va  comment   \n",
       "32637  MagnanimosDesolation  t1_n3e7mz6  comment   \n",
       "33789      MediocreSizedDan  t1_n3b8esl  comment   \n",
       "33848      MediocreSizedDan  t1_n3bd97w  comment   \n",
       "...                     ...         ...      ...   \n",
       "77611         unbelizeable1  t1_mzny97z  comment   \n",
       "77627         unbelizeable1  t1_mznz5oz  comment   \n",
       "89593         unbelizeable1  t1_myogxdl  comment   \n",
       "93818  half_way_by_accident  t1_mzdtedk  comment   \n",
       "95008  Rationally-Skeptical  t1_mhg3f38  comment   \n",
       "\n",
       "                                              clean_text  \\\n",
       "28188  ok disney hot hectic exhausting often unnecess...   \n",
       "30908  grandma rose secret didn t find died dad ances...   \n",
       "32637  scandal administration able simply spin ignore...   \n",
       "33789  guess curious argument must deport 11 million ...   \n",
       "33848  sure understand point kicking certain period p...   \n",
       "...                                                  ...   \n",
       "77611  yea focus illegal shady shit see come legaliza...   \n",
       "77627  really bummed sex nowhere important sex traffi...   \n",
       "89593  imo biggest mistakes us history accepting trea...   \n",
       "93818  sorry really wtf trying asked know better syst...   \n",
       "95008      make nowhere near scale it s byproduct fusion   \n",
       "\n",
       "                       id_y  indegree  outdegree  degree  internal_degree  \\\n",
       "28188  MagnanimosDesolation         7          5      12                4   \n",
       "30908            elocin1985         4          3       7                4   \n",
       "32637  MagnanimosDesolation         7          5      12                4   \n",
       "33789      MediocreSizedDan         2          4       6                1   \n",
       "33848      MediocreSizedDan         2          4       6                1   \n",
       "...                     ...       ...        ...     ...              ...   \n",
       "77611         unbelizeable1         6          9      15                6   \n",
       "77627         unbelizeable1         6          9      15                6   \n",
       "89593         unbelizeable1         6          9      15                6   \n",
       "93818  half_way_by_accident         0          5       5                2   \n",
       "95008  Rationally-Skeptical         9          4      13                7   \n",
       "\n",
       "       community_id  community_type  external_degree  pct_internal  \\\n",
       "28188          74.0  Weak community                8      0.333333   \n",
       "30908          74.0  Weak community                3      0.571429   \n",
       "32637          74.0  Weak community                8      0.333333   \n",
       "33789          74.0  Weak community                5      0.166667   \n",
       "33848          74.0  Weak community                5      0.166667   \n",
       "...             ...             ...              ...           ...   \n",
       "77611          74.0  Weak community                9      0.400000   \n",
       "77627          74.0  Weak community                9      0.400000   \n",
       "89593          74.0  Weak community                9      0.400000   \n",
       "93818          74.0  Weak community                3      0.400000   \n",
       "95008          74.0  Weak community                6      0.538462   \n",
       "\n",
       "       pct_external  is_hub  is_bridge  \\\n",
       "28188      0.666667   False       True   \n",
       "30908      0.428571   False      False   \n",
       "32637      0.666667   False       True   \n",
       "33789      0.833333   False       True   \n",
       "33848      0.833333   False       True   \n",
       "...             ...     ...        ...   \n",
       "77611      0.600000   False      False   \n",
       "77627      0.600000   False      False   \n",
       "89593      0.600000   False      False   \n",
       "93818      0.600000   False      False   \n",
       "95008      0.461538   False      False   \n",
       "\n",
       "                                              topic  topic_id  \\\n",
       "28188        -1_trump_government_political_congress        -1   \n",
       "30908  0_political_republicans_government_democrats         0   \n",
       "32637  0_political_republicans_government_democrats         0   \n",
       "33789  0_political_republicans_government_democrats         0   \n",
       "33848  0_political_republicans_government_democrats         0   \n",
       "...                                             ...       ...   \n",
       "77611  0_political_republicans_government_democrats         0   \n",
       "77627  0_political_republicans_government_democrats         0   \n",
       "89593        -1_trump_government_political_congress        -1   \n",
       "93818  0_political_republicans_government_democrats         0   \n",
       "95008  0_political_republicans_government_democrats         0   \n",
       "\n",
       "                                               embedding  \n",
       "28188  [0.05375266447663307, 0.02026956155896187, 0.0...  \n",
       "30908  [0.037965159863233566, 0.02537514828145504, -0...  \n",
       "32637  [0.016284022480249405, 0.07522033154964447, -0...  \n",
       "33789  [-0.021855007857084274, 0.09594006091356277, 0...  \n",
       "33848  [-0.043908920139074326, 0.07180030643939972, 0...  \n",
       "...                                                  ...  \n",
       "77611  [-0.061489030718803406, 0.12323072552680969, 0...  \n",
       "77627  [0.02317735180258751, 0.04522618278861046, -0....  \n",
       "89593  [-0.015500646084547043, 0.034452587366104126, ...  \n",
       "93818  [0.018433477729558945, 0.008822071366012096, 0...  \n",
       "95008  [0.029923303052783012, -0.03278900310397148, -...  \n",
       "\n",
       "[215 rows x 19 columns]"
      ]
     },
     "execution_count": 8,
     "metadata": {},
     "output_type": "execute_result"
    }
   ],
   "source": [
    "base = merged_df.loc[merged_df['community_id'] == 74.0]\n",
    "base"
   ]
  },
  {
   "cell_type": "code",
   "execution_count": 9,
   "id": "a2543ac4",
   "metadata": {},
   "outputs": [
    {
     "data": {
      "text/html": [
       "<div>\n",
       "<style scoped>\n",
       "    .dataframe tbody tr th:only-of-type {\n",
       "        vertical-align: middle;\n",
       "    }\n",
       "\n",
       "    .dataframe tbody tr th {\n",
       "        vertical-align: top;\n",
       "    }\n",
       "\n",
       "    .dataframe thead th {\n",
       "        text-align: right;\n",
       "    }\n",
       "</style>\n",
       "<table border=\"1\" class=\"dataframe\">\n",
       "  <thead>\n",
       "    <tr style=\"text-align: right;\">\n",
       "      <th></th>\n",
       "      <th>community_id</th>\n",
       "      <th>topic</th>\n",
       "      <th>topic_id</th>\n",
       "      <th>count</th>\n",
       "      <th>percent</th>\n",
       "    </tr>\n",
       "    <tr>\n",
       "      <th>community_id</th>\n",
       "      <th></th>\n",
       "      <th></th>\n",
       "      <th></th>\n",
       "      <th></th>\n",
       "      <th></th>\n",
       "    </tr>\n",
       "  </thead>\n",
       "  <tbody>\n",
       "    <tr>\n",
       "      <th>0.0</th>\n",
       "      <td>0.0</td>\n",
       "      <td>0_political_republicans_government_democrats</td>\n",
       "      <td>0</td>\n",
       "      <td>23126</td>\n",
       "      <td>0.923489</td>\n",
       "    </tr>\n",
       "    <tr>\n",
       "      <th>1.0</th>\n",
       "      <td>1.0</td>\n",
       "      <td>0_political_republicans_government_democrats</td>\n",
       "      <td>0</td>\n",
       "      <td>16088</td>\n",
       "      <td>0.695126</td>\n",
       "    </tr>\n",
       "    <tr>\n",
       "      <th>2.0</th>\n",
       "      <td>2.0</td>\n",
       "      <td>0_political_republicans_government_democrats</td>\n",
       "      <td>0</td>\n",
       "      <td>2398</td>\n",
       "      <td>0.612203</td>\n",
       "    </tr>\n",
       "    <tr>\n",
       "      <th>3.0</th>\n",
       "      <td>3.0</td>\n",
       "      <td>0_political_republicans_government_democrats</td>\n",
       "      <td>0</td>\n",
       "      <td>1224</td>\n",
       "      <td>0.958496</td>\n",
       "    </tr>\n",
       "    <tr>\n",
       "      <th>4.0</th>\n",
       "      <td>4.0</td>\n",
       "      <td>0_political_republicans_government_democrats</td>\n",
       "      <td>0</td>\n",
       "      <td>1546</td>\n",
       "      <td>0.893125</td>\n",
       "    </tr>\n",
       "    <tr>\n",
       "      <th>...</th>\n",
       "      <td>...</td>\n",
       "      <td>...</td>\n",
       "      <td>...</td>\n",
       "      <td>...</td>\n",
       "      <td>...</td>\n",
       "    </tr>\n",
       "    <tr>\n",
       "      <th>165.0</th>\n",
       "      <td>165.0</td>\n",
       "      <td>0_political_republicans_government_democrats</td>\n",
       "      <td>0</td>\n",
       "      <td>51</td>\n",
       "      <td>0.944444</td>\n",
       "    </tr>\n",
       "    <tr>\n",
       "      <th>166.0</th>\n",
       "      <td>166.0</td>\n",
       "      <td>0_political_republicans_government_democrats</td>\n",
       "      <td>0</td>\n",
       "      <td>60</td>\n",
       "      <td>0.937500</td>\n",
       "    </tr>\n",
       "    <tr>\n",
       "      <th>167.0</th>\n",
       "      <td>167.0</td>\n",
       "      <td>0_political_republicans_government_democrats</td>\n",
       "      <td>0</td>\n",
       "      <td>44</td>\n",
       "      <td>0.977778</td>\n",
       "    </tr>\n",
       "    <tr>\n",
       "      <th>168.0</th>\n",
       "      <td>168.0</td>\n",
       "      <td>0_political_republicans_government_democrats</td>\n",
       "      <td>0</td>\n",
       "      <td>50</td>\n",
       "      <td>1.000000</td>\n",
       "    </tr>\n",
       "    <tr>\n",
       "      <th>169.0</th>\n",
       "      <td>169.0</td>\n",
       "      <td>0_political_republicans_government_democrats</td>\n",
       "      <td>0</td>\n",
       "      <td>31</td>\n",
       "      <td>0.911765</td>\n",
       "    </tr>\n",
       "  </tbody>\n",
       "</table>\n",
       "<p>170 rows × 5 columns</p>\n",
       "</div>"
      ],
      "text/plain": [
       "              community_id                                         topic  \\\n",
       "community_id                                                               \n",
       "0.0                    0.0  0_political_republicans_government_democrats   \n",
       "1.0                    1.0  0_political_republicans_government_democrats   \n",
       "2.0                    2.0  0_political_republicans_government_democrats   \n",
       "3.0                    3.0  0_political_republicans_government_democrats   \n",
       "4.0                    4.0  0_political_republicans_government_democrats   \n",
       "...                    ...                                           ...   \n",
       "165.0                165.0  0_political_republicans_government_democrats   \n",
       "166.0                166.0  0_political_republicans_government_democrats   \n",
       "167.0                167.0  0_political_republicans_government_democrats   \n",
       "168.0                168.0  0_political_republicans_government_democrats   \n",
       "169.0                169.0  0_political_republicans_government_democrats   \n",
       "\n",
       "              topic_id  count   percent  \n",
       "community_id                             \n",
       "0.0                  0  23126  0.923489  \n",
       "1.0                  0  16088  0.695126  \n",
       "2.0                  0   2398  0.612203  \n",
       "3.0                  0   1224  0.958496  \n",
       "4.0                  0   1546  0.893125  \n",
       "...                ...    ...       ...  \n",
       "165.0                0     51  0.944444  \n",
       "166.0                0     60  0.937500  \n",
       "167.0                0     44  0.977778  \n",
       "168.0                0     50  1.000000  \n",
       "169.0                0     31  0.911765  \n",
       "\n",
       "[170 rows x 5 columns]"
      ]
     },
     "execution_count": 9,
     "metadata": {},
     "output_type": "execute_result"
    }
   ],
   "source": [
    "community_topic_counts = merged_df.groupby(['community_id', 'topic', 'topic_id']).size().reset_index(name='count')\n",
    "\n",
    "# Compouting each tipic percentage in each community\n",
    "community_totals = community_topic_counts.groupby('community_id')['count'].transform('sum')\n",
    "community_topic_counts['percent'] = community_topic_counts['count'] / community_totals\n",
    "\n",
    "# Retrieving the dominant topic for each community\n",
    "dominant_topics = community_topic_counts.groupby('community_id').apply(\n",
    "    lambda x: x.loc[x['count'].idxmax()]\n",
    ")\n",
    "dominant_topics"
   ]
  },
  {
   "cell_type": "markdown",
   "id": "dffbbd05",
   "metadata": {},
   "source": [
    "### Elaborating mean embedding value for each community index in the dataframe"
   ]
  },
  {
   "cell_type": "code",
   "execution_count": 10,
   "id": "57fae4c4",
   "metadata": {},
   "outputs": [
    {
     "data": {
      "text/html": [
       "<div>\n",
       "<style scoped>\n",
       "    .dataframe tbody tr th:only-of-type {\n",
       "        vertical-align: middle;\n",
       "    }\n",
       "\n",
       "    .dataframe tbody tr th {\n",
       "        vertical-align: top;\n",
       "    }\n",
       "\n",
       "    .dataframe thead th {\n",
       "        text-align: right;\n",
       "    }\n",
       "</style>\n",
       "<table border=\"1\" class=\"dataframe\">\n",
       "  <thead>\n",
       "    <tr style=\"text-align: right;\">\n",
       "      <th></th>\n",
       "      <th>community_id</th>\n",
       "      <th>mean_community_embedding</th>\n",
       "    </tr>\n",
       "  </thead>\n",
       "  <tbody>\n",
       "    <tr>\n",
       "      <th>0</th>\n",
       "      <td>0.0</td>\n",
       "      <td>[-0.027600232638943952, 0.124464299879511, 0.0...</td>\n",
       "    </tr>\n",
       "    <tr>\n",
       "      <th>1</th>\n",
       "      <td>1.0</td>\n",
       "      <td>[0.04260249596115194, 0.0924507493347344, 0.00...</td>\n",
       "    </tr>\n",
       "    <tr>\n",
       "      <th>2</th>\n",
       "      <td>2.0</td>\n",
       "      <td>[0.07687575150118457, 0.046913692320080656, -0...</td>\n",
       "    </tr>\n",
       "    <tr>\n",
       "      <th>3</th>\n",
       "      <td>3.0</td>\n",
       "      <td>[-0.00619382628680516, 0.08439805578237626, 0....</td>\n",
       "    </tr>\n",
       "    <tr>\n",
       "      <th>4</th>\n",
       "      <td>4.0</td>\n",
       "      <td>[-0.03665238954230591, 0.11616745677609945, 0....</td>\n",
       "    </tr>\n",
       "    <tr>\n",
       "      <th>...</th>\n",
       "      <td>...</td>\n",
       "      <td>...</td>\n",
       "    </tr>\n",
       "    <tr>\n",
       "      <th>165</th>\n",
       "      <td>165.0</td>\n",
       "      <td>[0.010630359179901619, 0.13186817481581545, 0....</td>\n",
       "    </tr>\n",
       "    <tr>\n",
       "      <th>166</th>\n",
       "      <td>166.0</td>\n",
       "      <td>[0.037806238709498195, 0.07690723935570926, 0....</td>\n",
       "    </tr>\n",
       "    <tr>\n",
       "      <th>167</th>\n",
       "      <td>167.0</td>\n",
       "      <td>[0.036021501511538975, -0.003675442877892489, ...</td>\n",
       "    </tr>\n",
       "    <tr>\n",
       "      <th>168</th>\n",
       "      <td>168.0</td>\n",
       "      <td>[0.010211729357658694, 0.04051775931994275, 0....</td>\n",
       "    </tr>\n",
       "    <tr>\n",
       "      <th>169</th>\n",
       "      <td>169.0</td>\n",
       "      <td>[0.03915793522475163, 0.04181198021363161, -0....</td>\n",
       "    </tr>\n",
       "  </tbody>\n",
       "</table>\n",
       "<p>170 rows × 2 columns</p>\n",
       "</div>"
      ],
      "text/plain": [
       "     community_id                           mean_community_embedding\n",
       "0             0.0  [-0.027600232638943952, 0.124464299879511, 0.0...\n",
       "1             1.0  [0.04260249596115194, 0.0924507493347344, 0.00...\n",
       "2             2.0  [0.07687575150118457, 0.046913692320080656, -0...\n",
       "3             3.0  [-0.00619382628680516, 0.08439805578237626, 0....\n",
       "4             4.0  [-0.03665238954230591, 0.11616745677609945, 0....\n",
       "..            ...                                                ...\n",
       "165         165.0  [0.010630359179901619, 0.13186817481581545, 0....\n",
       "166         166.0  [0.037806238709498195, 0.07690723935570926, 0....\n",
       "167         167.0  [0.036021501511538975, -0.003675442877892489, ...\n",
       "168         168.0  [0.010211729357658694, 0.04051775931994275, 0....\n",
       "169         169.0  [0.03915793522475163, 0.04181198021363161, -0....\n",
       "\n",
       "[170 rows x 2 columns]"
      ]
     },
     "execution_count": 10,
     "metadata": {},
     "output_type": "execute_result"
    }
   ],
   "source": [
    "community_embeddings = (\n",
    "    merged_df.groupby('community_id')['embedding']\n",
    "    .apply(lambda x: np.mean(np.stack(x), axis=0))\n",
    "    .reset_index(name='mean_community_embedding')\n",
    ")\n",
    "\n",
    "# Normalizing embedding value range\n",
    "community_embeddings['mean_community_embedding'] = normalize(np.stack(community_embeddings['mean_community_embedding']), axis=1).tolist()\n",
    "community_embeddings\n"
   ]
  },
  {
   "cell_type": "code",
   "execution_count": 11,
   "id": "3c164b1d",
   "metadata": {},
   "outputs": [
    {
     "name": "stdout",
     "output_type": "stream",
     "text": [
      "=== Embeddings Dimensions ===\n",
      "Dimension embedding texts (BERT): 768\n",
      "Dimension embedding community (mean): 768\n",
      "\n",
      "=== Final Shape ===\n",
      "Community num: 170\n",
      "Unique users num: 3348\n"
     ]
    }
   ],
   "source": [
    "print(\"=== Embeddings Dimensions ===\")\n",
    "print(\"Dimension embedding texts (BERT):\", len(merged_df['embedding'].iloc[0]))\n",
    "print(\"Dimension embedding community (mean):\", len(community_embeddings['mean_community_embedding'].iloc[0]))\n",
    "\n",
    "print(\"\\n=== Final Shape ===\")\n",
    "print(\"Community num:\", len(community_embeddings))\n",
    "print(\"Unique users num:\", merged_df['author'].nunique())"
   ]
  },
  {
   "cell_type": "code",
   "execution_count": 12,
   "id": "8978336b",
   "metadata": {},
   "outputs": [
    {
     "data": {
      "text/html": [
       "<div>\n",
       "<style scoped>\n",
       "    .dataframe tbody tr th:only-of-type {\n",
       "        vertical-align: middle;\n",
       "    }\n",
       "\n",
       "    .dataframe tbody tr th {\n",
       "        vertical-align: top;\n",
       "    }\n",
       "\n",
       "    .dataframe thead th {\n",
       "        text-align: right;\n",
       "    }\n",
       "</style>\n",
       "<table border=\"1\" class=\"dataframe\">\n",
       "  <thead>\n",
       "    <tr style=\"text-align: right;\">\n",
       "      <th></th>\n",
       "      <th>author</th>\n",
       "      <th>mean_user_embedding</th>\n",
       "    </tr>\n",
       "  </thead>\n",
       "  <tbody>\n",
       "    <tr>\n",
       "      <th>0</th>\n",
       "      <td>---AI---</td>\n",
       "      <td>[0.06015991267402478, 0.06129952461877571, -0....</td>\n",
       "    </tr>\n",
       "    <tr>\n",
       "      <th>1</th>\n",
       "      <td>--o</td>\n",
       "      <td>[0.02817598359652301, 0.09259338883385021, 0.0...</td>\n",
       "    </tr>\n",
       "    <tr>\n",
       "      <th>2</th>\n",
       "      <td>-Ch4s3-</td>\n",
       "      <td>[-0.02392391131765903, 0.08075527522377651, 0....</td>\n",
       "    </tr>\n",
       "    <tr>\n",
       "      <th>3</th>\n",
       "      <td>-Foxer</td>\n",
       "      <td>[-0.009595146311128198, 0.06259979061566182, 0...</td>\n",
       "    </tr>\n",
       "    <tr>\n",
       "      <th>4</th>\n",
       "      <td>-ReadingBug-</td>\n",
       "      <td>[-0.034770284511081564, 0.13370757970011826, 0...</td>\n",
       "    </tr>\n",
       "    <tr>\n",
       "      <th>...</th>\n",
       "      <td>...</td>\n",
       "      <td>...</td>\n",
       "    </tr>\n",
       "    <tr>\n",
       "      <th>3343</th>\n",
       "      <td>zayelion</td>\n",
       "      <td>[-0.012365274927683013, 0.11976527059508234, 0...</td>\n",
       "    </tr>\n",
       "    <tr>\n",
       "      <th>3344</th>\n",
       "      <td>zeussays</td>\n",
       "      <td>[-0.03516050167924896, 0.040504033027540735, -...</td>\n",
       "    </tr>\n",
       "    <tr>\n",
       "      <th>3345</th>\n",
       "      <td>zookeepier</td>\n",
       "      <td>[-0.033230956343177, 0.08359358144134907, -0.0...</td>\n",
       "    </tr>\n",
       "    <tr>\n",
       "      <th>3346</th>\n",
       "      <td>zxxQQz</td>\n",
       "      <td>[0.01440717608256693, 0.08212747409928399, 0.0...</td>\n",
       "    </tr>\n",
       "    <tr>\n",
       "      <th>3347</th>\n",
       "      <td>zyrkseas97</td>\n",
       "      <td>[-0.008357743925426942, 0.11244696733702764, 0...</td>\n",
       "    </tr>\n",
       "  </tbody>\n",
       "</table>\n",
       "<p>3348 rows × 2 columns</p>\n",
       "</div>"
      ],
      "text/plain": [
       "            author                                mean_user_embedding\n",
       "0         ---AI---  [0.06015991267402478, 0.06129952461877571, -0....\n",
       "1              --o  [0.02817598359652301, 0.09259338883385021, 0.0...\n",
       "2          -Ch4s3-  [-0.02392391131765903, 0.08075527522377651, 0....\n",
       "3           -Foxer  [-0.009595146311128198, 0.06259979061566182, 0...\n",
       "4     -ReadingBug-  [-0.034770284511081564, 0.13370757970011826, 0...\n",
       "...            ...                                                ...\n",
       "3343      zayelion  [-0.012365274927683013, 0.11976527059508234, 0...\n",
       "3344      zeussays  [-0.03516050167924896, 0.040504033027540735, -...\n",
       "3345    zookeepier  [-0.033230956343177, 0.08359358144134907, -0.0...\n",
       "3346        zxxQQz  [0.01440717608256693, 0.08212747409928399, 0.0...\n",
       "3347    zyrkseas97  [-0.008357743925426942, 0.11244696733702764, 0...\n",
       "\n",
       "[3348 rows x 2 columns]"
      ]
     },
     "execution_count": 12,
     "metadata": {},
     "output_type": "execute_result"
    }
   ],
   "source": [
    "user_embeddings = (\n",
    "    merged_df.groupby('author')['embedding']\n",
    "    .apply(lambda x: np.mean(np.stack(x), axis=0))\n",
    "    .reset_index(name='mean_user_embedding')\n",
    ")\n",
    "\n",
    "# Normalizing embedding value range\n",
    "user_embeddings['mean_user_embedding'] = normalize(np.stack(user_embeddings['mean_user_embedding']), axis=1).tolist()\n",
    "user_embeddings"
   ]
  },
  {
   "cell_type": "code",
   "execution_count": 13,
   "id": "f79985f9",
   "metadata": {},
   "outputs": [
    {
     "name": "stdout",
     "output_type": "stream",
     "text": [
      "=== User Embeddings Dimensions ===\n",
      "Dimension embedding texts (BERT): 768\n",
      "Dimension embedding user (mean): 768\n",
      "\n",
      "=== Final Shape ===\n",
      "Users num: 3348\n",
      "Unique users num: 3348\n"
     ]
    }
   ],
   "source": [
    "print(\"=== User Embeddings Dimensions ===\")\n",
    "print(\"Dimension embedding texts (BERT):\", len(merged_df['embedding'].iloc[0]))\n",
    "print(\"Dimension embedding user (mean):\", len(user_embeddings['mean_user_embedding'].iloc[0]))\n",
    "\n",
    "print(\"\\n=== Final Shape ===\")\n",
    "print(\"Users num:\", len(user_embeddings))\n",
    "print(\"Unique users num:\", merged_df['author'].nunique())"
   ]
  },
  {
   "cell_type": "code",
   "execution_count": 14,
   "id": "8bcf46fc",
   "metadata": {},
   "outputs": [],
   "source": [
    "# Saving emebddings separatelly in a numpy file\n",
    "np.save('../../../src/nlp/topic_modeling/text_embeddings.npy', embeddings)\n",
    "np.save('../../../src/nlp/topic_modeling/community_embeddings.npy', community_embeddings)\n",
    "np.save('../../../src/nlp/topic_modeling/user_embeddings.npy', user_embeddings)\n",
    "\n",
    "# Saving final dataframe\n",
    "merged_df.drop(columns=['embedding', 'clean_text','id_y','indegree','outdegree','degree','internal_degree','external_degree','pct_internal','pct_external'], inplace=True)\n",
    "merged_df.to_csv('../../../src/nlp/topic_modeling/global_metadata.csv', index=False)"
   ]
  }
 ],
 "metadata": {
  "kernelspec": {
   "display_name": ".analysa (3.10.12)",
   "language": "python",
   "name": "python3"
  },
  "language_info": {
   "codemirror_mode": {
    "name": "ipython",
    "version": 3
   },
   "file_extension": ".py",
   "mimetype": "text/x-python",
   "name": "python",
   "nbconvert_exporter": "python",
   "pygments_lexer": "ipython3",
   "version": "3.10.12"
  }
 },
 "nbformat": 4,
 "nbformat_minor": 5
}
