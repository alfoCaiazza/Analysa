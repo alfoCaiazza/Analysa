{
 "cells": [
  {
   "cell_type": "code",
   "execution_count": 1,
   "id": "2a552826",
   "metadata": {},
   "outputs": [
    {
     "name": "stderr",
     "output_type": "stream",
     "text": [
      "2025-08-12 15:25:17.965682: I tensorflow/core/util/port.cc:153] oneDNN custom operations are on. You may see slightly different numerical results due to floating-point round-off errors from different computation orders. To turn them off, set the environment variable `TF_ENABLE_ONEDNN_OPTS=0`.\n",
      "2025-08-12 15:25:18.391800: E external/local_xla/xla/stream_executor/cuda/cuda_fft.cc:467] Unable to register cuFFT factory: Attempting to register factory for plugin cuFFT when one has already been registered\n",
      "WARNING: All log messages before absl::InitializeLog() is called are written to STDERR\n",
      "E0000 00:00:1755005118.576901    9786 cuda_dnn.cc:8579] Unable to register cuDNN factory: Attempting to register factory for plugin cuDNN when one has already been registered\n",
      "E0000 00:00:1755005118.629458    9786 cuda_blas.cc:1407] Unable to register cuBLAS factory: Attempting to register factory for plugin cuBLAS when one has already been registered\n",
      "W0000 00:00:1755005119.042616    9786 computation_placer.cc:177] computation placer already registered. Please check linkage and avoid linking the same target more than once.\n",
      "W0000 00:00:1755005119.042671    9786 computation_placer.cc:177] computation placer already registered. Please check linkage and avoid linking the same target more than once.\n",
      "W0000 00:00:1755005119.042674    9786 computation_placer.cc:177] computation placer already registered. Please check linkage and avoid linking the same target more than once.\n",
      "W0000 00:00:1755005119.042676    9786 computation_placer.cc:177] computation placer already registered. Please check linkage and avoid linking the same target more than once.\n",
      "2025-08-12 15:25:19.091857: I tensorflow/core/platform/cpu_feature_guard.cc:210] This TensorFlow binary is optimized to use available CPU instructions in performance-critical operations.\n",
      "To enable the following instructions: AVX2 AVX_VNNI FMA, in other operations, rebuild TensorFlow with the appropriate compiler flags.\n"
     ]
    }
   ],
   "source": [
    "import pandas as pd\n",
    "import torch\n",
    "import numpy as np\n",
    "import tqdm\n",
    "from bertopic import BERTopic\n",
    "from sentence_transformers import SentenceTransformer"
   ]
  },
  {
   "cell_type": "code",
   "execution_count": 2,
   "id": "61356a4b",
   "metadata": {},
   "outputs": [],
   "source": [
    "text_df = pd.read_csv('../../../src/nlp/cleaned_dataset.csv')\n",
    "community_df = pd.read_csv('../../../src/data/distribuitions/hub_bridge_df.csv')\n",
    "merged_df = text_df.merge(community_df, left_on='author', right_on='id', how='inner')"
   ]
  },
  {
   "cell_type": "code",
   "execution_count": 3,
   "id": "d1e99035",
   "metadata": {},
   "outputs": [
    {
     "name": "stdout",
     "output_type": "stream",
     "text": [
      "Using device : cuda\n"
     ]
    },
    {
     "name": "stderr",
     "output_type": "stream",
     "text": [
      "/home/acaia/Analysa/Analysa/.analysa/lib/python3.10/site-packages/numba/np/ufunc/parallel.py:371: NumbaWarning:\n",
      "\n",
      "The TBB threading layer requires TBB version 2021 update 6 or later i.e., TBB_INTERFACE_VERSION >= 12060. Found TBB_INTERFACE_VERSION = 12050. The TBB threading layer is disabled.\n",
      "\n"
     ]
    }
   ],
   "source": [
    "# Setting cuda environment\n",
    "device = torch.device(\"cuda\" if torch.cuda.is_available() else \"cpu\")\n",
    "print(f\"Using device : {device}\")\n",
    "\n",
    "# Instantiating model embedding\n",
    "embedding_model = SentenceTransformer('all-MiniLM-L6-v2')\n",
    "embedding_model.to(device)\n",
    "\n",
    "# Removing empty texts\n",
    "merged_df['clean_text'] = merged_df['clean_text'].fillna('').astype(str)\n",
    "merged_df = merged_df[merged_df['clean_text'].str.strip() != ''].reset_index(drop=True)\n",
    "\n",
    "topic_model = BERTopic(embedding_model=embedding_model)\n",
    "topics, probs = topic_model.fit_transform(merged_df['clean_text'].astype(str))"
   ]
  },
  {
   "cell_type": "code",
   "execution_count": 4,
   "id": "81df8862",
   "metadata": {},
   "outputs": [],
   "source": [
    "topic_info = topic_model.get_topic_info()\n",
    "topic_id_to_name = dict(zip(topic_info['Topic'], topic_info['Name']))\n",
    "\n",
    "merged_df['topic'] = [topic_id_to_name[topic] for topic in topics]\n",
    "merged_df['topic_id'] = topics"
   ]
  },
  {
   "cell_type": "code",
   "execution_count": 6,
   "id": "85bfc0d9",
   "metadata": {},
   "outputs": [
    {
     "data": {
      "application/vnd.jupyter.widget-view+json": {
       "model_id": "d15a03bef9824482b0c64dc7eaf32aac",
       "version_major": 2,
       "version_minor": 0
      },
      "text/plain": [
       "Batches:   0%|          | 0/3092 [00:00<?, ?it/s]"
      ]
     },
     "metadata": {},
     "output_type": "display_data"
    }
   ],
   "source": [
    "# Calculating embeddings\n",
    "embeddings = embedding_model.encode(\n",
    "    merged_df['clean_text'].tolist(),\n",
    "    show_progress_bar=True\n",
    ")\n",
    "\n",
    "merged_df['embedding'] = embeddings.tolist()"
   ]
  },
  {
   "cell_type": "markdown",
   "id": "dffbbd05",
   "metadata": {},
   "source": [
    "### Elaborating mean embedding value for each community index in the dataframe"
   ]
  },
  {
   "cell_type": "code",
   "execution_count": 7,
   "id": "57fae4c4",
   "metadata": {},
   "outputs": [
    {
     "data": {
      "text/html": [
       "<div>\n",
       "<style scoped>\n",
       "    .dataframe tbody tr th:only-of-type {\n",
       "        vertical-align: middle;\n",
       "    }\n",
       "\n",
       "    .dataframe tbody tr th {\n",
       "        vertical-align: top;\n",
       "    }\n",
       "\n",
       "    .dataframe thead th {\n",
       "        text-align: right;\n",
       "    }\n",
       "</style>\n",
       "<table border=\"1\" class=\"dataframe\">\n",
       "  <thead>\n",
       "    <tr style=\"text-align: right;\">\n",
       "      <th></th>\n",
       "      <th>community_id</th>\n",
       "      <th>mean_community_embedding</th>\n",
       "    </tr>\n",
       "  </thead>\n",
       "  <tbody>\n",
       "    <tr>\n",
       "      <th>0</th>\n",
       "      <td>0.0</td>\n",
       "      <td>[0.008139040812967555, -0.009026953029083103, ...</td>\n",
       "    </tr>\n",
       "    <tr>\n",
       "      <th>1</th>\n",
       "      <td>1.0</td>\n",
       "      <td>[-0.012794963880515417, 0.0030995555456795458,...</td>\n",
       "    </tr>\n",
       "    <tr>\n",
       "      <th>2</th>\n",
       "      <td>2.0</td>\n",
       "      <td>[-0.03335555065166391, -0.018512342972571094, ...</td>\n",
       "    </tr>\n",
       "    <tr>\n",
       "      <th>3</th>\n",
       "      <td>3.0</td>\n",
       "      <td>[0.019291695096525827, 0.026163340886505567, -...</td>\n",
       "    </tr>\n",
       "    <tr>\n",
       "      <th>4</th>\n",
       "      <td>4.0</td>\n",
       "      <td>[0.006346587028317098, -0.010347772262486067, ...</td>\n",
       "    </tr>\n",
       "    <tr>\n",
       "      <th>...</th>\n",
       "      <td>...</td>\n",
       "      <td>...</td>\n",
       "    </tr>\n",
       "    <tr>\n",
       "      <th>73</th>\n",
       "      <td>73.0</td>\n",
       "      <td>[0.007042493369804922, -0.017766871474659406, ...</td>\n",
       "    </tr>\n",
       "    <tr>\n",
       "      <th>74</th>\n",
       "      <td>74.0</td>\n",
       "      <td>[-0.009027910028952498, 0.0013565727598900193,...</td>\n",
       "    </tr>\n",
       "    <tr>\n",
       "      <th>75</th>\n",
       "      <td>75.0</td>\n",
       "      <td>[0.0024505718904084717, 0.008327407851212252, ...</td>\n",
       "    </tr>\n",
       "    <tr>\n",
       "      <th>76</th>\n",
       "      <td>76.0</td>\n",
       "      <td>[-0.02263737464518323, 0.02110920038082805, 0....</td>\n",
       "    </tr>\n",
       "    <tr>\n",
       "      <th>77</th>\n",
       "      <td>77.0</td>\n",
       "      <td>[-0.0149552645198275, 0.021057554350992446, 0....</td>\n",
       "    </tr>\n",
       "  </tbody>\n",
       "</table>\n",
       "<p>78 rows × 2 columns</p>\n",
       "</div>"
      ],
      "text/plain": [
       "    community_id                           mean_community_embedding\n",
       "0            0.0  [0.008139040812967555, -0.009026953029083103, ...\n",
       "1            1.0  [-0.012794963880515417, 0.0030995555456795458,...\n",
       "2            2.0  [-0.03335555065166391, -0.018512342972571094, ...\n",
       "3            3.0  [0.019291695096525827, 0.026163340886505567, -...\n",
       "4            4.0  [0.006346587028317098, -0.010347772262486067, ...\n",
       "..           ...                                                ...\n",
       "73          73.0  [0.007042493369804922, -0.017766871474659406, ...\n",
       "74          74.0  [-0.009027910028952498, 0.0013565727598900193,...\n",
       "75          75.0  [0.0024505718904084717, 0.008327407851212252, ...\n",
       "76          76.0  [-0.02263737464518323, 0.02110920038082805, 0....\n",
       "77          77.0  [-0.0149552645198275, 0.021057554350992446, 0....\n",
       "\n",
       "[78 rows x 2 columns]"
      ]
     },
     "execution_count": 7,
     "metadata": {},
     "output_type": "execute_result"
    }
   ],
   "source": [
    "community_embeddings = (\n",
    "    merged_df.groupby('community_id')['embedding']\n",
    "    .apply(lambda x: np.mean(np.stack(x), axis=0))\n",
    "    .reset_index(name='mean_community_embedding')\n",
    ")\n",
    "\n",
    "community_embeddings"
   ]
  },
  {
   "cell_type": "code",
   "execution_count": 8,
   "id": "8bcf46fc",
   "metadata": {},
   "outputs": [],
   "source": [
    "# Saving emebddings separatelly in a numpy file\n",
    "np.save('../../../src/nlp/topic_modeling/user_embeddings.npy', embeddings)\n",
    "np.save('../../../src/nlp/topic_modeling/global_embeddings.npy', community_embeddings)\n",
    "\n",
    "# Saving final dataframe\n",
    "merged_df.drop(columns=['embedding', 'clean_text','id_y','indegree','outdegree','degree','internal_degree','external_degree','pct_internal','pct_external'], inplace=True)\n",
    "merged_df.to_csv('../../../src/nlp/topic_modeling/global_metadata.csv', index=False)"
   ]
  }
 ],
 "metadata": {
  "kernelspec": {
   "display_name": ".analysa (3.10.12)",
   "language": "python",
   "name": "python3"
  },
  "language_info": {
   "codemirror_mode": {
    "name": "ipython",
    "version": 3
   },
   "file_extension": ".py",
   "mimetype": "text/x-python",
   "name": "python",
   "nbconvert_exporter": "python",
   "pygments_lexer": "ipython3",
   "version": "3.10.12"
  }
 },
 "nbformat": 4,
 "nbformat_minor": 5
}
