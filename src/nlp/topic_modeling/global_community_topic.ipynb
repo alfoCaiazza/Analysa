{
 "cells": [
  {
   "cell_type": "code",
   "execution_count": 1,
   "id": "2a552826",
   "metadata": {},
   "outputs": [
    {
     "name": "stderr",
     "output_type": "stream",
     "text": [
      "2025-08-13 15:00:53.001072: I tensorflow/core/util/port.cc:153] oneDNN custom operations are on. You may see slightly different numerical results due to floating-point round-off errors from different computation orders. To turn them off, set the environment variable `TF_ENABLE_ONEDNN_OPTS=0`.\n",
      "2025-08-13 15:00:53.035734: E external/local_xla/xla/stream_executor/cuda/cuda_fft.cc:467] Unable to register cuFFT factory: Attempting to register factory for plugin cuFFT when one has already been registered\n",
      "WARNING: All log messages before absl::InitializeLog() is called are written to STDERR\n",
      "E0000 00:00:1755090053.061942    5302 cuda_dnn.cc:8579] Unable to register cuDNN factory: Attempting to register factory for plugin cuDNN when one has already been registered\n",
      "E0000 00:00:1755090053.071590    5302 cuda_blas.cc:1407] Unable to register cuBLAS factory: Attempting to register factory for plugin cuBLAS when one has already been registered\n",
      "W0000 00:00:1755090053.106278    5302 computation_placer.cc:177] computation placer already registered. Please check linkage and avoid linking the same target more than once.\n",
      "W0000 00:00:1755090053.106348    5302 computation_placer.cc:177] computation placer already registered. Please check linkage and avoid linking the same target more than once.\n",
      "W0000 00:00:1755090053.106352    5302 computation_placer.cc:177] computation placer already registered. Please check linkage and avoid linking the same target more than once.\n",
      "W0000 00:00:1755090053.106354    5302 computation_placer.cc:177] computation placer already registered. Please check linkage and avoid linking the same target more than once.\n",
      "2025-08-13 15:00:53.118650: I tensorflow/core/platform/cpu_feature_guard.cc:210] This TensorFlow binary is optimized to use available CPU instructions in performance-critical operations.\n",
      "To enable the following instructions: AVX2 AVX_VNNI FMA, in other operations, rebuild TensorFlow with the appropriate compiler flags.\n"
     ]
    }
   ],
   "source": [
    "import pandas as pd\n",
    "import torch\n",
    "import numpy as np\n",
    "import tqdm\n",
    "from bertopic import BERTopic\n",
    "from sentence_transformers import SentenceTransformer\n",
    "from sklearn.preprocessing import normalize"
   ]
  },
  {
   "cell_type": "code",
   "execution_count": 2,
   "id": "61356a4b",
   "metadata": {},
   "outputs": [],
   "source": [
    "text_df = pd.read_csv('../../../src/nlp/cleaned_dataset.csv')\n",
    "community_df = pd.read_csv('../../../src/data/distribuitions/hub_bridge_df.csv')\n",
    "merged_df = text_df.merge(community_df, left_on='author', right_on='id', how='inner')"
   ]
  },
  {
   "cell_type": "code",
   "execution_count": 3,
   "id": "d1e99035",
   "metadata": {},
   "outputs": [
    {
     "name": "stdout",
     "output_type": "stream",
     "text": [
      "Using device : cuda\n"
     ]
    },
    {
     "name": "stderr",
     "output_type": "stream",
     "text": [
      "/home/acaia/Analysa/Analysa/.analysa/lib/python3.10/site-packages/numba/np/ufunc/parallel.py:371: NumbaWarning:\n",
      "\n",
      "The TBB threading layer requires TBB version 2021 update 6 or later i.e., TBB_INTERFACE_VERSION >= 12060. Found TBB_INTERFACE_VERSION = 12050. The TBB threading layer is disabled.\n",
      "\n"
     ]
    }
   ],
   "source": [
    "# Setting cuda environment\n",
    "device = torch.device(\"cuda\" if torch.cuda.is_available() else \"cpu\")\n",
    "print(f\"Using device : {device}\")\n",
    "\n",
    "# Instantiating model embedding\n",
    "embedding_model = SentenceTransformer('all-MiniLM-L6-v2')\n",
    "embedding_model.to(device)\n",
    "\n",
    "# Removing empty texts\n",
    "merged_df['clean_text'] = merged_df['clean_text'].fillna('').astype(str)\n",
    "merged_df = merged_df[merged_df['clean_text'].str.strip() != ''].reset_index(drop=True)\n",
    "\n",
    "topic_model = BERTopic(embedding_model=embedding_model)\n",
    "topics, probs = topic_model.fit_transform(merged_df['clean_text'].astype(str))"
   ]
  },
  {
   "cell_type": "code",
   "execution_count": 4,
   "id": "81df8862",
   "metadata": {},
   "outputs": [],
   "source": [
    "topic_info = topic_model.get_topic_info()\n",
    "topic_id_to_name = dict(zip(topic_info['Topic'], topic_info['Name']))\n",
    "\n",
    "merged_df['topic'] = [topic_id_to_name[topic] for topic in topics]\n",
    "merged_df['topic_id'] = topics"
   ]
  },
  {
   "cell_type": "code",
   "execution_count": 5,
   "id": "85bfc0d9",
   "metadata": {},
   "outputs": [
    {
     "data": {
      "application/vnd.jupyter.widget-view+json": {
       "model_id": "7714015a57f94fd690080b500e31b9c0",
       "version_major": 2,
       "version_minor": 0
      },
      "text/plain": [
       "Batches:   0%|          | 0/3092 [00:00<?, ?it/s]"
      ]
     },
     "metadata": {},
     "output_type": "display_data"
    }
   ],
   "source": [
    "# Calculating embeddings\n",
    "embeddings = embedding_model.encode(\n",
    "    merged_df['clean_text'].tolist(),\n",
    "    show_progress_bar=True\n",
    ")\n",
    "\n",
    "merged_df['embedding'] = embeddings.tolist()"
   ]
  },
  {
   "cell_type": "markdown",
   "id": "dffbbd05",
   "metadata": {},
   "source": [
    "### Elaborating mean embedding value for each community index in the dataframe"
   ]
  },
  {
   "cell_type": "code",
   "execution_count": 6,
   "id": "57fae4c4",
   "metadata": {},
   "outputs": [
    {
     "data": {
      "text/html": [
       "<div>\n",
       "<style scoped>\n",
       "    .dataframe tbody tr th:only-of-type {\n",
       "        vertical-align: middle;\n",
       "    }\n",
       "\n",
       "    .dataframe tbody tr th {\n",
       "        vertical-align: top;\n",
       "    }\n",
       "\n",
       "    .dataframe thead th {\n",
       "        text-align: right;\n",
       "    }\n",
       "</style>\n",
       "<table border=\"1\" class=\"dataframe\">\n",
       "  <thead>\n",
       "    <tr style=\"text-align: right;\">\n",
       "      <th></th>\n",
       "      <th>community_id</th>\n",
       "      <th>mean_community_embedding</th>\n",
       "    </tr>\n",
       "  </thead>\n",
       "  <tbody>\n",
       "    <tr>\n",
       "      <th>0</th>\n",
       "      <td>0.0</td>\n",
       "      <td>[0.020105618885145216, -0.02229900076280347, 0...</td>\n",
       "    </tr>\n",
       "    <tr>\n",
       "      <th>1</th>\n",
       "      <td>1.0</td>\n",
       "      <td>[-0.0321354957364867, 0.007784762423196177, 0....</td>\n",
       "    </tr>\n",
       "    <tr>\n",
       "      <th>2</th>\n",
       "      <td>2.0</td>\n",
       "      <td>[-0.0656525252450862, -0.03643717584053105, 0....</td>\n",
       "    </tr>\n",
       "    <tr>\n",
       "      <th>3</th>\n",
       "      <td>3.0</td>\n",
       "      <td>[0.04115581079380223, 0.05581539112406382, -0....</td>\n",
       "    </tr>\n",
       "    <tr>\n",
       "      <th>4</th>\n",
       "      <td>4.0</td>\n",
       "      <td>[0.01561084731977141, -0.025452655445941295, 0...</td>\n",
       "    </tr>\n",
       "    <tr>\n",
       "      <th>...</th>\n",
       "      <td>...</td>\n",
       "      <td>...</td>\n",
       "    </tr>\n",
       "    <tr>\n",
       "      <th>73</th>\n",
       "      <td>73.0</td>\n",
       "      <td>[0.01594564734294614, -0.04022783580273586, 0....</td>\n",
       "    </tr>\n",
       "    <tr>\n",
       "      <th>74</th>\n",
       "      <td>74.0</td>\n",
       "      <td>[-0.023686220419980374, 0.003559193800497408, ...</td>\n",
       "    </tr>\n",
       "    <tr>\n",
       "      <th>75</th>\n",
       "      <td>75.0</td>\n",
       "      <td>[0.005802778332151095, 0.019718704042567314, -...</td>\n",
       "    </tr>\n",
       "    <tr>\n",
       "      <th>76</th>\n",
       "      <td>76.0</td>\n",
       "      <td>[-0.0589436785057696, 0.054964585790700314, 0....</td>\n",
       "    </tr>\n",
       "    <tr>\n",
       "      <th>77</th>\n",
       "      <td>77.0</td>\n",
       "      <td>[-0.03628846552609711, 0.05109547438073128, 0....</td>\n",
       "    </tr>\n",
       "  </tbody>\n",
       "</table>\n",
       "<p>78 rows × 2 columns</p>\n",
       "</div>"
      ],
      "text/plain": [
       "    community_id                           mean_community_embedding\n",
       "0            0.0  [0.020105618885145216, -0.02229900076280347, 0...\n",
       "1            1.0  [-0.0321354957364867, 0.007784762423196177, 0....\n",
       "2            2.0  [-0.0656525252450862, -0.03643717584053105, 0....\n",
       "3            3.0  [0.04115581079380223, 0.05581539112406382, -0....\n",
       "4            4.0  [0.01561084731977141, -0.025452655445941295, 0...\n",
       "..           ...                                                ...\n",
       "73          73.0  [0.01594564734294614, -0.04022783580273586, 0....\n",
       "74          74.0  [-0.023686220419980374, 0.003559193800497408, ...\n",
       "75          75.0  [0.005802778332151095, 0.019718704042567314, -...\n",
       "76          76.0  [-0.0589436785057696, 0.054964585790700314, 0....\n",
       "77          77.0  [-0.03628846552609711, 0.05109547438073128, 0....\n",
       "\n",
       "[78 rows x 2 columns]"
      ]
     },
     "execution_count": 6,
     "metadata": {},
     "output_type": "execute_result"
    }
   ],
   "source": [
    "community_embeddings = (\n",
    "    merged_df.groupby('community_id')['embedding']\n",
    "    .apply(lambda x: np.mean(np.stack(x), axis=0))\n",
    "    .reset_index(name='mean_community_embedding')\n",
    ")\n",
    "\n",
    "# Normalizing embedding value range\n",
    "community_embeddings['mean_community_embedding'] = normalize(np.stack(community_embeddings['mean_community_embedding']), axis=1).tolist()\n",
    "community_embeddings\n"
   ]
  },
  {
   "cell_type": "code",
   "execution_count": 7,
   "id": "3c164b1d",
   "metadata": {},
   "outputs": [
    {
     "name": "stdout",
     "output_type": "stream",
     "text": [
      "=== Embeddings Dimensions ===\n",
      "Dimension embedding texts (BERT): 384\n",
      "Dimension embedding community (mean): 384\n",
      "\n",
      "=== Final Shape ===\n",
      "Community num: 78\n",
      "Unique users num: 3348\n"
     ]
    }
   ],
   "source": [
    "print(\"=== Embeddings Dimensions ===\")\n",
    "print(\"Dimension embedding texts (BERT):\", len(merged_df['embedding'].iloc[0]))\n",
    "print(\"Dimension embedding community (mean):\", len(community_embeddings['mean_community_embedding'].iloc[0]))\n",
    "\n",
    "print(\"\\n=== Final Shape ===\")\n",
    "print(\"Community num:\", len(community_embeddings))\n",
    "print(\"Unique users num:\", merged_df['author'].nunique())"
   ]
  },
  {
   "cell_type": "code",
   "execution_count": 12,
   "id": "8978336b",
   "metadata": {},
   "outputs": [
    {
     "data": {
      "text/html": [
       "<div>\n",
       "<style scoped>\n",
       "    .dataframe tbody tr th:only-of-type {\n",
       "        vertical-align: middle;\n",
       "    }\n",
       "\n",
       "    .dataframe tbody tr th {\n",
       "        vertical-align: top;\n",
       "    }\n",
       "\n",
       "    .dataframe thead th {\n",
       "        text-align: right;\n",
       "    }\n",
       "</style>\n",
       "<table border=\"1\" class=\"dataframe\">\n",
       "  <thead>\n",
       "    <tr style=\"text-align: right;\">\n",
       "      <th></th>\n",
       "      <th>author</th>\n",
       "      <th>mean_user_embedding</th>\n",
       "    </tr>\n",
       "  </thead>\n",
       "  <tbody>\n",
       "    <tr>\n",
       "      <th>0</th>\n",
       "      <td>---AI---</td>\n",
       "      <td>[-0.0639383406968702, 0.028263391483561412, -0...</td>\n",
       "    </tr>\n",
       "    <tr>\n",
       "      <th>1</th>\n",
       "      <td>-SOFA-KING-VOTE-</td>\n",
       "      <td>[0.02537594980285635, 0.020655424394617494, 0....</td>\n",
       "    </tr>\n",
       "    <tr>\n",
       "      <th>2</th>\n",
       "      <td>-spicychilli-</td>\n",
       "      <td>[0.05242311004935476, 0.011509657517813153, -0...</td>\n",
       "    </tr>\n",
       "    <tr>\n",
       "      <th>3</th>\n",
       "      <td>00rb</td>\n",
       "      <td>[0.022140607800075204, 0.011875626579590515, 0...</td>\n",
       "    </tr>\n",
       "    <tr>\n",
       "      <th>4</th>\n",
       "      <td>1-objective-opinion</td>\n",
       "      <td>[-0.003780060558322122, -0.05633407886506631, ...</td>\n",
       "    </tr>\n",
       "    <tr>\n",
       "      <th>...</th>\n",
       "      <td>...</td>\n",
       "      <td>...</td>\n",
       "    </tr>\n",
       "    <tr>\n",
       "      <th>1015</th>\n",
       "      <td>yeahmanbombclaut</td>\n",
       "      <td>[0.04260721291476764, 0.019757095786873232, 0....</td>\n",
       "    </tr>\n",
       "    <tr>\n",
       "      <th>1016</th>\n",
       "      <td>ygmc8413</td>\n",
       "      <td>[0.0016344143592275596, 0.02063230530266495, 0...</td>\n",
       "    </tr>\n",
       "    <tr>\n",
       "      <th>1017</th>\n",
       "      <td>yyzjertl</td>\n",
       "      <td>[0.01365876545455135, 0.04090400073064282, 0.0...</td>\n",
       "    </tr>\n",
       "    <tr>\n",
       "      <th>1018</th>\n",
       "      <td>zaoldyeck</td>\n",
       "      <td>[0.019149896450205813, -0.010847117660616754, ...</td>\n",
       "    </tr>\n",
       "    <tr>\n",
       "      <th>1019</th>\n",
       "      <td>zookeepier</td>\n",
       "      <td>[-0.008927089615260064, -0.045498481112792005,...</td>\n",
       "    </tr>\n",
       "  </tbody>\n",
       "</table>\n",
       "<p>1020 rows × 2 columns</p>\n",
       "</div>"
      ],
      "text/plain": [
       "                   author                                mean_user_embedding\n",
       "0                ---AI---  [-0.0639383406968702, 0.028263391483561412, -0...\n",
       "1        -SOFA-KING-VOTE-  [0.02537594980285635, 0.020655424394617494, 0....\n",
       "2           -spicychilli-  [0.05242311004935476, 0.011509657517813153, -0...\n",
       "3                    00rb  [0.022140607800075204, 0.011875626579590515, 0...\n",
       "4     1-objective-opinion  [-0.003780060558322122, -0.05633407886506631, ...\n",
       "...                   ...                                                ...\n",
       "1015     yeahmanbombclaut  [0.04260721291476764, 0.019757095786873232, 0....\n",
       "1016             ygmc8413  [0.0016344143592275596, 0.02063230530266495, 0...\n",
       "1017             yyzjertl  [0.01365876545455135, 0.04090400073064282, 0.0...\n",
       "1018            zaoldyeck  [0.019149896450205813, -0.010847117660616754, ...\n",
       "1019           zookeepier  [-0.008927089615260064, -0.045498481112792005,...\n",
       "\n",
       "[1020 rows x 2 columns]"
      ]
     },
     "execution_count": 12,
     "metadata": {},
     "output_type": "execute_result"
    }
   ],
   "source": [
    "merged_df = merged_df.loc[merged_df['is_hub'] | merged_df['is_bridge']]\n",
    "\n",
    "user_embeddings = (\n",
    "    merged_df.groupby('author')['embedding']\n",
    "    .apply(lambda x: np.mean(np.stack(x), axis=0))\n",
    "    .reset_index(name='mean_user_embedding')\n",
    ")\n",
    "\n",
    "# Normalizing embedding value range\n",
    "user_embeddings['mean_user_embedding'] = normalize(np.stack(user_embeddings['mean_user_embedding']), axis=1).tolist()\n",
    "user_embeddings"
   ]
  },
  {
   "cell_type": "code",
   "execution_count": 14,
   "id": "f79985f9",
   "metadata": {},
   "outputs": [
    {
     "name": "stdout",
     "output_type": "stream",
     "text": [
      "=== User Embeddings Dimensions ===\n",
      "Dimension embedding texts (BERT): 384\n",
      "Dimension embedding user (mean): 384\n",
      "\n",
      "=== Final Shape ===\n",
      "Users num: 1020\n",
      "Unique users num: 1020\n"
     ]
    }
   ],
   "source": [
    "print(\"=== User Embeddings Dimensions ===\")\n",
    "print(\"Dimension embedding texts (BERT):\", len(merged_df['embedding'].iloc[0]))\n",
    "print(\"Dimension embedding user (mean):\", len(user_embeddings['mean_user_embedding'].iloc[0]))\n",
    "\n",
    "print(\"\\n=== Final Shape ===\")\n",
    "print(\"Users num:\", len(user_embeddings))\n",
    "print(\"Unique users num:\", merged_df['author'].nunique())"
   ]
  },
  {
   "cell_type": "code",
   "execution_count": null,
   "id": "8bcf46fc",
   "metadata": {},
   "outputs": [],
   "source": [
    "# Saving emebddings separatelly in a numpy file\n",
    "np.save('../../../src/nlp/topic_modeling/text_embeddings.npy', embeddings)\n",
    "np.save('../../../src/nlp/topic_modeling/community_embeddings.npy', community_embeddings)\n",
    "np.save('../../../src/nlp/topic_modeling/user_embeddings.npy', user_embeddings)\n",
    "\n",
    "# Saving final dataframe\n",
    "merged_df.drop(columns=['embedding', 'clean_text','id_y','indegree','outdegree','degree','internal_degree','external_degree','pct_internal','pct_external'], inplace=True)\n",
    "merged_df.to_csv('../../../src/nlp/topic_modeling/global_metadata.csv', index=False)"
   ]
  }
 ],
 "metadata": {
  "kernelspec": {
   "display_name": ".analysa (3.10.12)",
   "language": "python",
   "name": "python3"
  },
  "language_info": {
   "codemirror_mode": {
    "name": "ipython",
    "version": 3
   },
   "file_extension": ".py",
   "mimetype": "text/x-python",
   "name": "python",
   "nbconvert_exporter": "python",
   "pygments_lexer": "ipython3",
   "version": "3.10.12"
  }
 },
 "nbformat": 4,
 "nbformat_minor": 5
}
