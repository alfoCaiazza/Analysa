{
 "cells": [
  {
   "cell_type": "code",
   "execution_count": 1,
   "id": "1f97d908",
   "metadata": {},
   "outputs": [
    {
     "name": "stderr",
     "output_type": "stream",
     "text": [
      "/home/acaia/Analysa/Analysa/.analysa/lib/python3.10/site-packages/tqdm/auto.py:21: TqdmWarning: IProgress not found. Please update jupyter and ipywidgets. See https://ipywidgets.readthedocs.io/en/stable/user_install.html\n",
      "  from .autonotebook import tqdm as notebook_tqdm\n"
     ]
    }
   ],
   "source": [
    "import torch\n",
    "import torch.nn as nn\n",
    "import torch.nn.functional as F\n",
    "import torch_geometric.nn as pyg_nn\n",
    "from torch_geometric.transforms import RandomLinkSplit"
   ]
  },
  {
   "cell_type": "code",
   "execution_count": 2,
   "id": "60bc5d69",
   "metadata": {},
   "outputs": [],
   "source": [
    "class Encoder(torch.nn.Module):\n",
    "    def __init__(self, in_channels, out_channels, aggr='mean'):\n",
    "        super(Encoder, self).__init__()\n",
    "        self.conv1 = pyg_nn.SAGEConv(in_channels, 2 * out_channels, aggr=aggr) # Eventually change layer type\n",
    "        self.batch1 = pyg_nn.BatchNorm(2 * out_channels)\n",
    "        self.drop1 = nn.Dropout(p=0.2)\n",
    "        self.conv2 = pyg_nn.SAGEConv(2 * out_channels, out_channels,  aggr=aggr) # Eventually change layer type\n",
    "        self.batch2 = pyg_nn.BatchNorm(out_channels)\n",
    "\n",
    "    def forward(self, x, edge_index): # Modify to adapt to the dataset complexity\n",
    "        x = self.conv1(x, edge_index)\n",
    "        x = self.batch1(x)\n",
    "        x = self.drop1(x)\n",
    "        x = F.relu(x)\n",
    "        x = self.conv2(x, edge_index)\n",
    "        x = self.batch2(x)\n",
    "\n",
    "        return x\n",
    "    \n",
    "class Decoder(nn.Module):\n",
    "    def __init__(self, in_channels):\n",
    "        super(Decoder, self).__init__()\n",
    "        self.linear = nn.Linear(in_channels, 1)\n",
    "\n",
    "    def forward(self, z, edge_index):\n",
    "        # By default, it computes the inner product of the node embeddings\n",
    "        adj = torch.matmul(z[edge_index[0]], z[edge_index[1]].t())\n",
    "        return adj[edge_index[0], edge_index[1]]\n",
    "    \n",
    "# Defining traing and evaluation functions\n",
    "def train(epoch):\n",
    "    model.train()\n",
    "    optimizer.zero_grad()\n",
    "    z = model.encode(x, train_data.edge_index.to(device))\n",
    "    loss = model.recon_loss(z, train_data.pos_edge_label_index.to(device))\n",
    "    loss.backward()\n",
    "    optimizer.step()\n",
    "\n",
    "def test(pos_edge_index, neg_edge_index):\n",
    "    model.eval()\n",
    "    # Encode the node features to get the embeddings\n",
    "    with torch.no_grad():\n",
    "        z = model.encode(x, train_data.edge_index.to(device))\n",
    "    \n",
    "    # Compute the reconstruction loss\n",
    "    return model.test(z, pos_edge_index.to(device), neg_edge_index.to(device))\n",
    "    "
   ]
  },
  {
   "cell_type": "code",
   "execution_count": 3,
   "id": "bb870c2d",
   "metadata": {},
   "outputs": [
    {
     "name": "stdout",
     "output_type": "stream",
     "text": [
      "Using device: cuda\n"
     ]
    }
   ],
   "source": [
    "# Model definition\n",
    "import os\n",
    "LATENT_DIM = 32\n",
    "data_path = os.path.join('..', 'data', 'graph_data.pt')\n",
    "dataset = torch.load(data_path, weights_only=False)\n",
    "data = dataset['data']\n",
    "\n",
    "device = torch.device('cuda' if torch.cuda.is_available() else 'cpu')\n",
    "print(f'Using device: {device}')\n",
    "\n",
    "# Instantiate the customized encoder in GAE model\n",
    "transform = RandomLinkSplit(is_undirected=True, split_labels=True,add_negative_train_samples=True)\n",
    "train_data, val_data, test_data = transform(data)\n",
    "\n",
    "model = pyg_nn.GAE(Encoder(data.num_features, LATENT_DIM)).to(device)\n",
    "optimizer = torch.optim.Adam(model.parameters(), lr=0.01)\n",
    "x = train_data.x.to(device)"
   ]
  },
  {
   "cell_type": "code",
   "execution_count": 4,
   "id": "dcbf51ba",
   "metadata": {},
   "outputs": [
    {
     "name": "stdout",
     "output_type": "stream",
     "text": [
      "Epoch: 010, AUC: 0.7651, AP: 0.7431\n",
      "Epoch: 020, AUC: 0.6375, AP: 0.5898\n",
      "Epoch: 030, AUC: 0.6699, AP: 0.6291\n",
      "Epoch: 040, AUC: 0.7742, AP: 0.7416\n",
      "Epoch: 050, AUC: 0.8173, AP: 0.7723\n",
      "Epoch: 060, AUC: 0.8281, AP: 0.7813\n",
      "Epoch: 070, AUC: 0.8487, AP: 0.8110\n",
      "Epoch: 080, AUC: 0.8543, AP: 0.8228\n",
      "Epoch: 090, AUC: 0.8574, AP: 0.8274\n",
      "Epoch: 100, AUC: 0.8604, AP: 0.8299\n",
      "Epoch: 110, AUC: 0.8616, AP: 0.8342\n",
      "Epoch: 120, AUC: 0.8572, AP: 0.8316\n",
      "Epoch: 130, AUC: 0.8625, AP: 0.8360\n",
      "Epoch: 140, AUC: 0.8616, AP: 0.8361\n",
      "Epoch: 150, AUC: 0.8646, AP: 0.8374\n",
      "Epoch: 160, AUC: 0.8622, AP: 0.8371\n",
      "Epoch: 170, AUC: 0.8575, AP: 0.8339\n",
      "Epoch: 180, AUC: 0.8585, AP: 0.8349\n",
      "Epoch: 190, AUC: 0.8579, AP: 0.8346\n",
      "Epoch: 200, AUC: 0.8572, AP: 0.8326\n",
      "Epoch: 210, AUC: 0.8410, AP: 0.8189\n",
      "Epoch: 220, AUC: 0.8401, AP: 0.8184\n",
      "Epoch: 230, AUC: 0.8229, AP: 0.8028\n",
      "Epoch: 240, AUC: 0.8443, AP: 0.8223\n",
      "Epoch: 250, AUC: 0.8483, AP: 0.8243\n",
      "Epoch: 260, AUC: 0.8395, AP: 0.8181\n",
      "Epoch: 270, AUC: 0.8499, AP: 0.8172\n",
      "Epoch: 280, AUC: 0.8447, AP: 0.8234\n",
      "Epoch: 290, AUC: 0.8456, AP: 0.8202\n",
      "Epoch: 300, AUC: 0.8318, AP: 0.8118\n",
      "Epoch: 310, AUC: 0.8450, AP: 0.8166\n",
      "Epoch: 320, AUC: 0.8327, AP: 0.8132\n",
      "Epoch: 330, AUC: 0.8393, AP: 0.8119\n",
      "Epoch: 340, AUC: 0.8461, AP: 0.8256\n",
      "Epoch: 350, AUC: 0.8488, AP: 0.8256\n",
      "Epoch: 360, AUC: 0.8262, AP: 0.8053\n",
      "Epoch: 370, AUC: 0.8511, AP: 0.8270\n",
      "Epoch: 380, AUC: 0.8284, AP: 0.7995\n",
      "Epoch: 390, AUC: 0.8480, AP: 0.8188\n",
      "Epoch: 400, AUC: 0.8270, AP: 0.7996\n",
      "Epoch: 410, AUC: 0.8483, AP: 0.8240\n",
      "Epoch: 420, AUC: 0.8426, AP: 0.8211\n",
      "Epoch: 430, AUC: 0.8227, AP: 0.7886\n",
      "Epoch: 440, AUC: 0.8244, AP: 0.7821\n",
      "Epoch: 450, AUC: 0.8559, AP: 0.8271\n",
      "Epoch: 460, AUC: 0.8584, AP: 0.8280\n",
      "Epoch: 470, AUC: 0.7919, AP: 0.7314\n",
      "Epoch: 480, AUC: 0.8425, AP: 0.8109\n",
      "Epoch: 490, AUC: 0.8142, AP: 0.7726\n",
      "Epoch: 500, AUC: 0.8347, AP: 0.8027\n",
      "Epoch: 510, AUC: 0.8142, AP: 0.7669\n",
      "Epoch: 520, AUC: 0.7966, AP: 0.7431\n",
      "Epoch: 530, AUC: 0.8526, AP: 0.8261\n",
      "Epoch: 540, AUC: 0.8071, AP: 0.7544\n",
      "Epoch: 550, AUC: 0.8487, AP: 0.8224\n",
      "Epoch: 560, AUC: 0.8459, AP: 0.8219\n",
      "Epoch: 570, AUC: 0.8403, AP: 0.8133\n",
      "Epoch: 580, AUC: 0.8391, AP: 0.8170\n",
      "Epoch: 590, AUC: 0.8174, AP: 0.7664\n",
      "Epoch: 600, AUC: 0.8388, AP: 0.8060\n",
      "Epoch: 610, AUC: 0.8247, AP: 0.7810\n",
      "Epoch: 620, AUC: 0.8400, AP: 0.8074\n",
      "Epoch: 630, AUC: 0.8504, AP: 0.8251\n",
      "Epoch: 640, AUC: 0.8433, AP: 0.8127\n",
      "Epoch: 650, AUC: 0.8380, AP: 0.8029\n",
      "Epoch: 660, AUC: 0.8370, AP: 0.8040\n",
      "Epoch: 670, AUC: 0.8434, AP: 0.8161\n",
      "Epoch: 680, AUC: 0.8362, AP: 0.8011\n",
      "Epoch: 690, AUC: 0.8390, AP: 0.8089\n",
      "Epoch: 700, AUC: 0.8375, AP: 0.8051\n",
      "Epoch: 710, AUC: 0.8392, AP: 0.8029\n",
      "Epoch: 720, AUC: 0.8416, AP: 0.8097\n",
      "Epoch: 730, AUC: 0.8126, AP: 0.7613\n",
      "Epoch: 740, AUC: 0.8373, AP: 0.7945\n",
      "Epoch: 750, AUC: 0.8323, AP: 0.8084\n",
      "Epoch: 760, AUC: 0.8322, AP: 0.7976\n",
      "Epoch: 770, AUC: 0.8219, AP: 0.7822\n",
      "Epoch: 780, AUC: 0.8559, AP: 0.8299\n",
      "Epoch: 790, AUC: 0.8410, AP: 0.8068\n",
      "Epoch: 800, AUC: 0.8460, AP: 0.8232\n",
      "Epoch: 810, AUC: 0.8465, AP: 0.8174\n",
      "Epoch: 820, AUC: 0.8406, AP: 0.8131\n",
      "Epoch: 830, AUC: 0.8447, AP: 0.8202\n",
      "Epoch: 840, AUC: 0.8452, AP: 0.8151\n",
      "Epoch: 850, AUC: 0.8332, AP: 0.8120\n",
      "Epoch: 860, AUC: 0.8070, AP: 0.7743\n",
      "Epoch: 870, AUC: 0.8374, AP: 0.8038\n",
      "Epoch: 880, AUC: 0.8525, AP: 0.8273\n",
      "Epoch: 890, AUC: 0.8158, AP: 0.7708\n",
      "Epoch: 900, AUC: 0.8302, AP: 0.7890\n",
      "Epoch: 910, AUC: 0.8365, AP: 0.8073\n",
      "Epoch: 920, AUC: 0.8519, AP: 0.8276\n",
      "Epoch: 930, AUC: 0.8392, AP: 0.8112\n",
      "Epoch: 940, AUC: 0.8296, AP: 0.8050\n",
      "Epoch: 950, AUC: 0.8365, AP: 0.8092\n",
      "Epoch: 960, AUC: 0.8399, AP: 0.7995\n",
      "Epoch: 970, AUC: 0.8484, AP: 0.8177\n",
      "Epoch: 980, AUC: 0.8445, AP: 0.8230\n",
      "Epoch: 990, AUC: 0.8327, AP: 0.8069\n"
     ]
    }
   ],
   "source": [
    "# Training loop\n",
    "for epoch in range(1, 1000):\n",
    "    loss = train(epoch)\n",
    "    # AUC tells how well the model is able to distinguish real nodes from fake ones\n",
    "    # AP - Average Precision is the complementary metric of AUC \n",
    "    auc, ap = test(test_data.pos_edge_label_index, test_data.neg_edge_label_index)\n",
    "\n",
    "    if epoch % 10 == 0:\n",
    "        print('Epoch: {:03d}, AUC: {:.4f}, AP: {:.4f}'.format(epoch, auc, ap))"
   ]
  },
  {
   "cell_type": "code",
   "execution_count": 5,
   "id": "18150031",
   "metadata": {},
   "outputs": [
    {
     "name": "stdout",
     "output_type": "stream",
     "text": [
      "Number of nodes: 4877\n",
      "Number of edges: 20618\n",
      "Embedding sample: tensor([[ 0.3338, -0.5992, -0.1126,  ...,  0.0440, -0.1389, -0.3640],\n",
      "        [ 0.0763, -0.2880, -0.2657,  ..., -0.4623, -0.2076, -0.0222],\n",
      "        [ 0.4400, -0.7084,  0.0102,  ..., -0.2066,  0.0652,  0.1009],\n",
      "        ...,\n",
      "        [-3.2017,  4.4704, -2.5313,  ...,  3.7020,  4.2714, -3.1474],\n",
      "        [-3.2012,  4.4690, -2.5299,  ...,  3.7012,  4.2710, -3.1457],\n",
      "        [-3.2019,  4.4708, -2.5316,  ...,  3.7022,  4.2715, -3.1479]],\n",
      "       device='cuda:0', grad_fn=<NativeBatchNormBackward0>)\n"
     ]
    }
   ],
   "source": [
    "model.eval()\n",
    "z = model.encode(x, train_data.edge_index.to(device))\n",
    "emb_sample = z[0]\n",
    "print(f'Number of nodes: {z.shape[0]}')\n",
    "print(f'Number of edges: {train_data.edge_index.shape[1]}')\n",
    "print(f'Embedding sample: {z}')"
   ]
  },
  {
   "cell_type": "code",
   "execution_count": 6,
   "id": "ccca24fd",
   "metadata": {},
   "outputs": [
    {
     "ename": "NameError",
     "evalue": "name 'pd' is not defined",
     "output_type": "error",
     "traceback": [
      "\u001b[0;31m---------------------------------------------------------------------------\u001b[0m",
      "\u001b[0;31mNameError\u001b[0m                                 Traceback (most recent call last)",
      "Cell \u001b[0;32mIn[6], line 5\u001b[0m\n\u001b[1;32m      2\u001b[0m embeddings \u001b[38;5;241m=\u001b[39m z\n\u001b[1;32m      3\u001b[0m embeddings_np \u001b[38;5;241m=\u001b[39m embeddings\u001b[38;5;241m.\u001b[39mcpu()\u001b[38;5;241m.\u001b[39mdetach()\u001b[38;5;241m.\u001b[39mnumpy()\n\u001b[0;32m----> 5\u001b[0m df \u001b[38;5;241m=\u001b[39m \u001b[43mpd\u001b[49m\u001b[38;5;241m.\u001b[39mDataFrame(embeddings_np)\n\u001b[1;32m      6\u001b[0m df\u001b[38;5;241m.\u001b[39minsert(loc\u001b[38;5;241m=\u001b[39m\u001b[38;5;241m0\u001b[39m, column\u001b[38;5;241m=\u001b[39m\u001b[38;5;124m'\u001b[39m\u001b[38;5;124mid\u001b[39m\u001b[38;5;124m'\u001b[39m, value\u001b[38;5;241m=\u001b[39m\u001b[38;5;28mrange\u001b[39m(\u001b[38;5;28mlen\u001b[39m(embeddings_np)))\n\u001b[1;32m      7\u001b[0m df\u001b[38;5;241m.\u001b[39minsert(loc\u001b[38;5;241m=\u001b[39m\u001b[38;5;241m1\u001b[39m, column\u001b[38;5;241m=\u001b[39m\u001b[38;5;124m'\u001b[39m\u001b[38;5;124muser_id\u001b[39m\u001b[38;5;124m'\u001b[39m, value\u001b[38;5;241m=\u001b[39m df[\u001b[38;5;124m'\u001b[39m\u001b[38;5;124mid\u001b[39m\u001b[38;5;124m'\u001b[39m]\u001b[38;5;241m.\u001b[39mmap(mapping_list))\n",
      "\u001b[0;31mNameError\u001b[0m: name 'pd' is not defined"
     ]
    }
   ],
   "source": [
    "mapping_list = dataset['idx2user']\n",
    "embeddings = z\n",
    "embeddings_np = embeddings.cpu().detach().numpy()\n",
    "\n",
    "df = pd.DataFrame(embeddings_np)\n",
    "df.insert(loc=0, column='id', value=range(len(embeddings_np)))\n",
    "df.insert(loc=1, column='user_id', value= df['id'].map(mapping_list))\n",
    "\n",
    "df.to_csv('user_embeddings.csv', index=False)"
   ]
  }
 ],
 "metadata": {
  "kernelspec": {
   "display_name": ".analysa (3.10.12)",
   "language": "python",
   "name": "python3"
  },
  "language_info": {
   "codemirror_mode": {
    "name": "ipython",
    "version": 3
   },
   "file_extension": ".py",
   "mimetype": "text/x-python",
   "name": "python",
   "nbconvert_exporter": "python",
   "pygments_lexer": "ipython3",
   "version": "3.10.12"
  }
 },
 "nbformat": 4,
 "nbformat_minor": 5
}
